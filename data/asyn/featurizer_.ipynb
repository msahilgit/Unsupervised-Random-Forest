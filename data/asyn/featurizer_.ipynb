{
 "cells": [
  {
   "cell_type": "code",
   "execution_count": 1,
   "id": "d519f22a",
   "metadata": {},
   "outputs": [],
   "source": [
    "import numpy as np\n",
    "import copy as cp\n",
    "import matplotlib as mt\n",
    "import matplotlib.pyplot as plt\n",
    "import MDAnalysis as mda\n",
    "import pyemma\n",
    "import pyemma.coordinates as coor\n",
    "import sys"
   ]
  },
  {
   "cell_type": "code",
   "execution_count": null,
   "id": "67e4a55e",
   "metadata": {},
   "outputs": [],
   "source": []
  },
  {
   "cell_type": "code",
   "execution_count": 10,
   "id": "a53b6689",
   "metadata": {},
   "outputs": [
    {
     "data": {
      "text/plain": [
       "9180"
      ]
     },
     "execution_count": 10,
     "metadata": {},
     "output_type": "execute_result"
    }
   ],
   "source": [
    "total = 140\n",
    "diff = 5\n",
    "p=0\n",
    "rpairs = []\n",
    "for i in range(total - diff):\n",
    "    for j in range(i+diff, total):\n",
    "        rpairs.append([i,j])\n",
    "        p += 1\n",
    "rpairs = np.array(rpairs)\n",
    "p"
   ]
  },
  {
   "cell_type": "code",
   "execution_count": null,
   "id": "9280316e",
   "metadata": {},
   "outputs": [],
   "source": []
  },
  {
   "cell_type": "code",
   "execution_count": 13,
   "id": "09e45a9d",
   "metadata": {},
   "outputs": [],
   "source": [
    "np.savetxt('residue_pairs.txt', rpairs+1, fmt='%d')"
   ]
  },
  {
   "cell_type": "code",
   "execution_count": null,
   "id": "fb13a929",
   "metadata": {},
   "outputs": [],
   "source": []
  },
  {
   "cell_type": "code",
   "execution_count": null,
   "id": "344f00ac",
   "metadata": {},
   "outputs": [],
   "source": []
  },
  {
   "cell_type": "code",
   "execution_count": 35,
   "id": "bc31a8f1",
   "metadata": {},
   "outputs": [],
   "source": [
    "ca_indices = []\n",
    "for l in open('DESRES-Trajectory_pnas2018b-asyn-a99SBdisp-extended-protein.pdb', 'r'):\n",
    "    i = l.strip().split()\n",
    "    if i[0] == 'ATOM':\n",
    "        if i[2] == 'CA':\n",
    "            ca_indices.append(int(i[1]))\n",
    "            \n",
    "ca_indices = np.array(ca_indices).astype(int)"
   ]
  },
  {
   "cell_type": "code",
   "execution_count": 81,
   "id": "7fa9382c",
   "metadata": {},
   "outputs": [],
   "source": [
    "ca_pairs = []\n",
    "for i in range(len(ca_indices)-diff):\n",
    "    for j in range(i+diff, len(ca_indices)):\n",
    "        ca_pairs.append( [ca_indices[i], ca_indices[j]] )\n",
    "ca_pairs = np.array(ca_pairs)"
   ]
  },
  {
   "cell_type": "code",
   "execution_count": 82,
   "id": "2148730c",
   "metadata": {},
   "outputs": [
    {
     "data": {
      "text/plain": [
       "(9180, 2)"
      ]
     },
     "execution_count": 82,
     "metadata": {},
     "output_type": "execute_result"
    }
   ],
   "source": [
    "ca_pairs.shape"
   ]
  },
  {
   "cell_type": "code",
   "execution_count": 83,
   "id": "69ac68db",
   "metadata": {},
   "outputs": [
    {
     "data": {
      "text/plain": [
       "(9180, 2)"
      ]
     },
     "execution_count": 83,
     "metadata": {},
     "output_type": "execute_result"
    }
   ],
   "source": [
    "rpairs.shape"
   ]
  },
  {
   "cell_type": "code",
   "execution_count": null,
   "id": "1fb0603f",
   "metadata": {},
   "outputs": [],
   "source": []
  },
  {
   "cell_type": "code",
   "execution_count": null,
   "id": "38d387dd",
   "metadata": {},
   "outputs": [],
   "source": []
  },
  {
   "cell_type": "code",
   "execution_count": null,
   "id": "44e81a50",
   "metadata": {},
   "outputs": [],
   "source": []
  },
  {
   "cell_type": "code",
   "execution_count": 40,
   "id": "580b907e",
   "metadata": {},
   "outputs": [],
   "source": [
    "pdb = coor.featurizer('DESRES-Trajectory_pnas2018b-asyn-a99SBdisp-extended-protein.pdb')"
   ]
  },
  {
   "cell_type": "code",
   "execution_count": 42,
   "id": "edb03b67",
   "metadata": {},
   "outputs": [],
   "source": [
    "pdb.add_distances([[145,1856]], periodic=False)"
   ]
  },
  {
   "cell_type": "code",
   "execution_count": 43,
   "id": "690c01d9",
   "metadata": {},
   "outputs": [],
   "source": [
    "traj = ['pnas2018b-asyn-a99SBdisp-extended-protein-combined.xtc']"
   ]
  },
  {
   "cell_type": "code",
   "execution_count": 44,
   "id": "3a316079",
   "metadata": {},
   "outputs": [],
   "source": [
    "dist1 = coor.source(traj, features=pdb).get_output()"
   ]
  },
  {
   "cell_type": "code",
   "execution_count": null,
   "id": "9acbccc5",
   "metadata": {},
   "outputs": [],
   "source": []
  },
  {
   "cell_type": "code",
   "execution_count": 54,
   "id": "a4a98eb8",
   "metadata": {},
   "outputs": [],
   "source": [
    "dist0 = np.loadtxt('dist_ca_10-130.xvg', comments=['@','#'])[:,1]"
   ]
  },
  {
   "cell_type": "code",
   "execution_count": 48,
   "id": "85f1cb7a",
   "metadata": {},
   "outputs": [
    {
     "data": {
      "text/plain": [
       "(73124,)"
      ]
     },
     "execution_count": 48,
     "metadata": {},
     "output_type": "execute_result"
    }
   ],
   "source": [
    "dist0.shape"
   ]
  },
  {
   "cell_type": "code",
   "execution_count": 51,
   "id": "9efc6e46",
   "metadata": {},
   "outputs": [
    {
     "data": {
      "text/plain": [
       "73124"
      ]
     },
     "execution_count": 51,
     "metadata": {},
     "output_type": "execute_result"
    }
   ],
   "source": [
    "len(dist1[0])"
   ]
  },
  {
   "cell_type": "code",
   "execution_count": null,
   "id": "981a0758",
   "metadata": {},
   "outputs": [],
   "source": []
  },
  {
   "cell_type": "code",
   "execution_count": null,
   "id": "57fe614a",
   "metadata": {},
   "outputs": [],
   "source": []
  },
  {
   "cell_type": "code",
   "execution_count": 73,
   "id": "a03be683",
   "metadata": {},
   "outputs": [],
   "source": [
    "pdb = coor.featurizer('DESRES-Trajectory_pnas2018b-asyn-a99SBdisp-extended-protein.pdb')\n",
    "pdb.add_distances([[144,1855]], periodic=False)\n",
    "dist2 = coor.source(traj, features=pdb).get_output()"
   ]
  },
  {
   "cell_type": "code",
   "execution_count": null,
   "id": "c0d21d0a",
   "metadata": {},
   "outputs": [],
   "source": []
  },
  {
   "cell_type": "code",
   "execution_count": null,
   "id": "4bcd3616",
   "metadata": {},
   "outputs": [],
   "source": []
  },
  {
   "cell_type": "code",
   "execution_count": 77,
   "id": "71d5edb8",
   "metadata": {},
   "outputs": [
    {
     "data": {
      "text/plain": [
       "[<matplotlib.lines.Line2D at 0x7f3b4198aca0>]"
      ]
     },
     "execution_count": 77,
     "metadata": {},
     "output_type": "execute_result"
    },
    {
     "data": {
      "image/png": "[encoded data removed]",
      "text/plain": [
       "<Figure size 640x480 with 1 Axes>"
      ]
     },
     "metadata": {},
     "output_type": "display_data"
    }
   ],
   "source": [
    "plt.plot(dist0 - dist1[0][:,0])\n",
    "plt.plot(dist0 - dist2[0][:,0])"
   ]
  },
  {
   "cell_type": "code",
   "execution_count": null,
   "id": "c5517514",
   "metadata": {},
   "outputs": [],
   "source": []
  },
  {
   "cell_type": "code",
   "execution_count": null,
   "id": "9fce46a3",
   "metadata": {},
   "outputs": [],
   "source": []
  },
  {
   "cell_type": "code",
   "execution_count": null,
   "id": "2e5a1fe3",
   "metadata": {},
   "outputs": [],
   "source": []
  },
  {
   "cell_type": "code",
   "execution_count": 86,
   "id": "316cde4d",
   "metadata": {},
   "outputs": [
    {
     "data": {
      "application/vnd.jupyter.widget-view+json": {
       "model_id": "",
       "version_major": 2,
       "version_minor": 0
      },
      "text/plain": [
       "getting output of FeatureReader:   0%|                                                                        …"
      ]
     },
     "metadata": {},
     "output_type": "display_data"
    }
   ],
   "source": [
    "pdb = coor.featurizer('DESRES-Trajectory_pnas2018b-asyn-a99SBdisp-extended-protein.pdb')\n",
    "\n",
    "pdb.add_distances(ca_pairs-1, periodic=False)\n",
    "\n",
    "ca_dists = coor.source(traj, features=pdb).get_output()"
   ]
  },
  {
   "cell_type": "code",
   "execution_count": 89,
   "id": "a36737da",
   "metadata": {},
   "outputs": [
    {
     "data": {
      "text/plain": [
       "(73124, 9180)"
      ]
     },
     "execution_count": 89,
     "metadata": {},
     "output_type": "execute_result"
    }
   ],
   "source": [
    "ca_dists[0].shape"
   ]
  },
  {
   "cell_type": "code",
   "execution_count": 90,
   "id": "8ae487c9",
   "metadata": {},
   "outputs": [],
   "source": [
    "np.save('ca_dists.npy', ca_dists)"
   ]
  },
  {
   "cell_type": "code",
   "execution_count": null,
   "id": "e7afd14c",
   "metadata": {},
   "outputs": [],
   "source": []
  },
  {
   "cell_type": "code",
   "execution_count": null,
   "id": "aaa3125b",
   "metadata": {},
   "outputs": [],
   "source": []
  },
  {
   "cell_type": "markdown",
   "id": "44855dec",
   "metadata": {},
   "source": [
    "## Rg"
   ]
  },
  {
   "cell_type": "code",
   "execution_count": 2,
   "id": "7d495859",
   "metadata": {},
   "outputs": [],
   "source": [
    "rg_ca = np.loadtxt('rg_ca.xvg', comments=['@','#'])[:,1]\n",
    "rg_system = np.loadtxt('rg_system.xvg', comments=['@','#'])[:,1]"
   ]
  },
  {
   "cell_type": "code",
   "execution_count": 96,
   "id": "29e2f53d",
   "metadata": {},
   "outputs": [
    {
     "data": {
      "text/plain": [
       "[<matplotlib.lines.Line2D at 0x7f3a9e6e4910>]"
      ]
     },
     "execution_count": 96,
     "metadata": {},
     "output_type": "execute_result"
    },
    {
     "data": {
      "image/png": "[encoded data removed]",
      "text/plain": [
       "<Figure size 640x480 with 1 Axes>"
      ]
     },
     "metadata": {},
     "output_type": "display_data"
    }
   ],
   "source": [
    "plt.plot( (rg_ca - rg_system)/rg_ca )"
   ]
  },
  {
   "cell_type": "code",
   "execution_count": null,
   "id": "4b74c4a0",
   "metadata": {},
   "outputs": [],
   "source": []
  },
  {
   "cell_type": "code",
   "execution_count": null,
   "id": "7168989e",
   "metadata": {},
   "outputs": [],
   "source": []
  },
  {
   "cell_type": "code",
   "execution_count": 8,
   "id": "be91687e",
   "metadata": {},
   "outputs": [
    {
     "data": {
      "text/plain": [
       "7.22318"
      ]
     },
     "execution_count": 8,
     "metadata": {},
     "output_type": "execute_result"
    }
   ],
   "source": [
    "rg_ca.max()"
   ]
  },
  {
   "cell_type": "code",
   "execution_count": 9,
   "id": "90651765",
   "metadata": {},
   "outputs": [
    {
     "data": {
      "text/plain": [
       "(73124,)"
      ]
     },
     "execution_count": 9,
     "metadata": {},
     "output_type": "execute_result"
    }
   ],
   "source": [
    "rg_ca.shape"
   ]
  },
  {
   "cell_type": "code",
   "execution_count": 14,
   "id": "9544a0f2",
   "metadata": {},
   "outputs": [],
   "source": [
    "bins = np.arange(rg_ca.min(), rg_ca.max(), 0.01)\n",
    "xb = bins[1:] - (bins[1]-bins[0])/2"
   ]
  },
  {
   "cell_type": "code",
   "execution_count": 11,
   "id": "619c943a",
   "metadata": {},
   "outputs": [],
   "source": [
    "hrg, _ = np.histogram(rg_ca, bins=bins, density=True)"
   ]
  },
  {
   "cell_type": "code",
   "execution_count": 21,
   "id": "50f6c3bb",
   "metadata": {},
   "outputs": [
    {
     "data": {
      "text/plain": [
       "<matplotlib.collections.LineCollection at 0x7ff31d5f1400>"
      ]
     },
     "execution_count": 21,
     "metadata": {},
     "output_type": "execute_result"
    },
    {
     "data": {
      "image/png": "[encoded data removed]",
      "text/plain": [
       "<Figure size 1600x400 with 1 Axes>"
      ]
     },
     "metadata": {},
     "output_type": "display_data"
    }
   ],
   "source": [
    "plt.figure(figsize=(16,4))\n",
    "plt.plot(xb, hrg)\n",
    "plt.vlines([3.6, 3.55], 0, 1)"
   ]
  },
  {
   "cell_type": "code",
   "execution_count": 22,
   "id": "57f0c5da",
   "metadata": {},
   "outputs": [
    {
     "data": {
      "text/plain": [
       "0.04719380777856791"
      ]
     },
     "execution_count": 22,
     "metadata": {},
     "output_type": "execute_result"
    }
   ],
   "source": [
    "np.where(rg_ca>=3.6)[0].shape[0]/rg_ca.shape[0]"
   ]
  },
  {
   "cell_type": "code",
   "execution_count": null,
   "id": "92c30252",
   "metadata": {},
   "outputs": [],
   "source": []
  }
 ],
 "metadata": {
  "kernelspec": {
   "display_name": "Python 3 (ipykernel)",
   "language": "python",
   "name": "python3"
  },
  "language_info": {
   "codemirror_mode": {
    "name": "ipython",
    "version": 3
   },
   "file_extension": ".py",
   "mimetype": "text/x-python",
   "name": "python",
   "nbconvert_exporter": "python",
   "pygments_lexer": "ipython3",
   "version": "3.9.12"
  }
 },
 "nbformat": 4,
 "nbformat_minor": 5
}
