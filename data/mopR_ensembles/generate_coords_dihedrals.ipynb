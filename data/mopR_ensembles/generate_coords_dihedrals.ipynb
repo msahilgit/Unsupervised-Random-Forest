{
 "cells": [
  {
   "cell_type": "code",
   "execution_count": 1,
   "id": "9bfd5f30",
   "metadata": {},
   "outputs": [],
   "source": [
    "import copy as cp\n",
    "import numpy as np\n",
    "import matplotlib as mt\n",
    "import matplotlib.pyplot as plt\n",
    "import MDAnalysis as mda\n",
    "from MDAnalysis.analysis import dihedrals\n",
    "import pyemma\n",
    "from tqdm import tqdm"
   ]
  },
  {
   "cell_type": "code",
   "execution_count": null,
   "id": "1ab7e313",
   "metadata": {},
   "outputs": [],
   "source": []
  },
  {
   "cell_type": "markdown",
   "id": "25065fdd",
   "metadata": {},
   "source": [
    "### dihedrals"
   ]
  },
  {
   "cell_type": "code",
   "execution_count": 2,
   "id": "a1870166",
   "metadata": {},
   "outputs": [
    {
     "name": "stderr",
     "output_type": "stream",
     "text": [
      "/home/msahil/softwares/miniconda3/lib/python3.9/site-packages/MDAnalysis/topology/PDBParser.py:331: UserWarning: Element information is missing, elements attribute will not be populated. If needed these can be guessed using MDAnalysis.topology.guessers.\n",
      "  warnings.warn(\"Element information is missing, elements attribute \"\n"
     ]
    }
   ],
   "source": [
    "aw = mda.Universe('pbc_trjs/w.pdb', [f'pbc_trjs/aw{i}.xtc' for i in [1,2,3]])\n",
    "am = mda.Universe('pbc_trjs/m.pdb', [f'pbc_trjs/am{i}.xtc' for i in [1,2,3]])\n",
    "bw = mda.Universe('pbc_trjs/w.pdb', 'pbc_trjs/bw.xtc')\n",
    "bm = mda.Universe('pbc_trjs/m.pdb', [f'pbc_trjs/bm{i}.xtc' for i in [1,2,3]])"
   ]
  },
  {
   "cell_type": "code",
   "execution_count": 3,
   "id": "07d8b1c3",
   "metadata": {},
   "outputs": [],
   "source": [
    "unis = [aw,bw,am,bm]"
   ]
  },
  {
   "cell_type": "code",
   "execution_count": 4,
   "id": "85dc00ed",
   "metadata": {},
   "outputs": [],
   "source": [
    "names = ['aw','bw','am','bm']"
   ]
  },
  {
   "cell_type": "code",
   "execution_count": 20,
   "id": "cf17201c",
   "metadata": {},
   "outputs": [],
   "source": [
    "dihedrals = [[] for i in unis]\n",
    "resids = [[] for i in unis]\n",
    "\n",
    "for u in range(len(unis)):\n",
    "    dd = []\n",
    "    for i in unis[u].residues:\n",
    "        dd.append(i.phi_selection())\n",
    "        dd.append(i.psi_selection())\n",
    "        if i.resname != 'PRO':\n",
    "            dd.append(i.chi1_selection())\n",
    "        \n",
    "    for i in dd:\n",
    "        try:\n",
    "            if i == None:\n",
    "                pass\n",
    "        except:\n",
    "            dihedrals[u].append(i)\n",
    "            resids[u].append([a.resid for a in i.residues])"
   ]
  },
  {
   "cell_type": "code",
   "execution_count": 33,
   "id": "a9743a12",
   "metadata": {},
   "outputs": [],
   "source": [
    "np.savez('phi_psi_chi1_resids.npz', *resids[0])"
   ]
  },
  {
   "cell_type": "code",
   "execution_count": 22,
   "id": "0baa77f7",
   "metadata": {},
   "outputs": [
    {
     "data": {
      "text/plain": [
       "648"
      ]
     },
     "execution_count": 22,
     "metadata": {},
     "output_type": "execute_result"
    }
   ],
   "source": [
    "len(dihedrals[1])"
   ]
  },
  {
   "cell_type": "code",
   "execution_count": 40,
   "id": "2c2d01de",
   "metadata": {},
   "outputs": [
    {
     "name": "stderr",
     "output_type": "stream",
     "text": [
      "100%|███████████████████████████████████████████████████████████████████████████████████████████████████████████████| 150001/150001 [1:10:32<00:00, 35.44it/s]\n",
      "100%|███████████████████████████████████████████████████████████████████████████████████████████████████████████████████| 75000/75000 [35:14<00:00, 35.47it/s]\n",
      "100%|███████████████████████████████████████████████████████████████████████████████████████████████████████████████| 150001/150001 [1:10:15<00:00, 35.59it/s]\n",
      "100%|███████████████████████████████████████████████████████████████████████████████████████████████████████████████| 150001/150001 [1:08:43<00:00, 36.38it/s]\n"
     ]
    }
   ],
   "source": [
    "for u in range(len(unis)):\n",
    "    phi_psi_chi = np.zeros(( int( len(unis[u].trajectory)/2), len(dihedrals[u]) ))\n",
    "    for i in tqdm( range(phi_psi_chi.shape[0]) ):\n",
    "        unis[u].trajectory[i*2]\n",
    "        for j in range(len(dihedrals[u])):\n",
    "            phi_psi_chi[i,j] = dihedrals[u][j].dihedral.value()\n",
    "    np.save(f'phi_psi_chi1_{names[u]}.npy', phi_psi_chi)"
   ]
  },
  {
   "cell_type": "code",
   "execution_count": null,
   "id": "d9a4eb45",
   "metadata": {},
   "outputs": [],
   "source": []
  },
  {
   "cell_type": "code",
   "execution_count": null,
   "id": "6ee6b778",
   "metadata": {},
   "outputs": [],
   "source": []
  },
  {
   "cell_type": "code",
   "execution_count": null,
   "id": "909a11f7",
   "metadata": {},
   "outputs": [],
   "source": []
  },
  {
   "cell_type": "markdown",
   "id": "3af26220",
   "metadata": {},
   "source": [
    "### coordiantes"
   ]
  },
  {
   "cell_type": "code",
   "execution_count": 31,
   "id": "8cf5baab",
   "metadata": {},
   "outputs": [],
   "source": [
    "def get_covar(x,y):\n",
    "    xm = x-np.mean(x)\n",
    "    ym = y-np.mean(y)\n",
    "    return 1/(len(x)-1) * np.sum(xm*ym)\n",
    "\n",
    "def get_cmat(x):\n",
    "    ndim=x.shape[1]\n",
    "    cmt = np.zeros((ndim,ndim))\n",
    "    for i in range(ndim):\n",
    "        for j in range(i,ndim):\n",
    "            cmt[i,j] = cmt[j,i] = get_covar(x[:,i], x[:,j])\n",
    "    return cmt\n",
    "\n",
    "def get_inv_sqrt(x):\n",
    "    el, er = np.linalg.eigh(x)\n",
    "    return er @ np.diag(1/np.sqrt(el)) @ er.T\n",
    "\n",
    "def get_whiten(x):\n",
    "    x = x-np.mean(x)\n",
    "    for i in range(x.shape[1]):\n",
    "        x[:,i] = x[:,i]-np.mean(x)\n",
    "    return get_inv_sqrt( get_cmat(x) ) @ x"
   ]
  },
  {
   "cell_type": "code",
   "execution_count": 24,
   "id": "cb1eb0a3",
   "metadata": {},
   "outputs": [],
   "source": [
    "positions = np.zeros((200,27))\n",
    "for a in range(200):\n",
    "    aw.trajectory[a]\n",
    "    positions[a] = np.concatenate(( aw.select_atoms('resid 147 to 149 and name N CA C').positions ))"
   ]
  },
  {
   "cell_type": "code",
   "execution_count": 25,
   "id": "d97e5c7c",
   "metadata": {},
   "outputs": [],
   "source": [
    "for i in range(positions.shape[1]):\n",
    "    positions[:,i] = positions[:,i]-np.mean(positions[:,i])"
   ]
  },
  {
   "cell_type": "code",
   "execution_count": 27,
   "id": "4c93bf65",
   "metadata": {},
   "outputs": [],
   "source": [
    "nobs,ndim=positions.shape\n",
    "cmt = np.zeros((ndim,ndim))\n",
    "for i in range(ndim):\n",
    "    for j in range(i,ndim):\n",
    "        cmt[i,j] = cmt[j,i] = 1/(nobs-1) * np.sum(positions[:,i]*positions[:,j])"
   ]
  },
  {
   "cell_type": "code",
   "execution_count": 31,
   "id": "8543a54c",
   "metadata": {},
   "outputs": [],
   "source": [
    "el, er = np.linalg.eigh(cmt)"
   ]
  },
  {
   "cell_type": "code",
   "execution_count": 34,
   "id": "7ec8c978",
   "metadata": {},
   "outputs": [
    {
     "data": {
      "text/plain": [
       "((27,), (27, 27))"
      ]
     },
     "execution_count": 34,
     "metadata": {},
     "output_type": "execute_result"
    }
   ],
   "source": [
    "el.shape, er.shape"
   ]
  },
  {
   "cell_type": "code",
   "execution_count": 39,
   "id": "01a0d69c",
   "metadata": {},
   "outputs": [],
   "source": [
    "el=np.diag(1/np.sqrt(el))"
   ]
  },
  {
   "cell_type": "code",
   "execution_count": 41,
   "id": "26016535",
   "metadata": {},
   "outputs": [],
   "source": [
    "invsqrt = er @ el @ er.T"
   ]
  },
  {
   "cell_type": "code",
   "execution_count": 43,
   "id": "e406e987",
   "metadata": {},
   "outputs": [
    {
     "data": {
      "text/plain": [
       "(27, 27)"
      ]
     },
     "execution_count": 43,
     "metadata": {},
     "output_type": "execute_result"
    }
   ],
   "source": [
    "invsqrt.shape"
   ]
  },
  {
   "cell_type": "code",
   "execution_count": 44,
   "id": "54ab64d8",
   "metadata": {},
   "outputs": [
    {
     "data": {
      "text/plain": [
       "array([[ 0.66955202,  0.41325212,  0.4808495 , ...,  0.36824968,\n",
       "         0.66494741,  1.04414914],\n",
       "       [ 0.27954882,  0.90324999,  0.24085164, ...,  0.05825212,\n",
       "         0.90494909,  0.04415105],\n",
       "       [ 0.21955126,  0.59324862,  0.25084996, ...,  0.32824877,\n",
       "         0.52494802,  0.61414884],\n",
       "       ...,\n",
       "       [-0.21045286, -0.40675138, -0.44914889, ..., -0.70175001,\n",
       "         0.09495153, -1.20584895],\n",
       "       [-0.18045027, -0.42674803, -0.3791492 , ..., -0.24175093,\n",
       "        -1.01504908, -0.77585055],\n",
       "       [-0.26044828,  0.14324785,  0.09085011, ..., -0.72175047,\n",
       "        -0.45505152, -0.80584933]])"
      ]
     },
     "execution_count": 44,
     "metadata": {},
     "output_type": "execute_result"
    }
   ],
   "source": [
    "positions"
   ]
  },
  {
   "cell_type": "code",
   "execution_count": 45,
   "id": "e4285cc9",
   "metadata": {},
   "outputs": [],
   "source": [
    "positions = positions @ invsqrt"
   ]
  },
  {
   "cell_type": "code",
   "execution_count": null,
   "id": "861316c5",
   "metadata": {},
   "outputs": [],
   "source": []
  },
  {
   "cell_type": "code",
   "execution_count": null,
   "id": "a279cf2d",
   "metadata": {},
   "outputs": [],
   "source": []
  },
  {
   "cell_type": "code",
   "execution_count": null,
   "id": "607c8277",
   "metadata": {},
   "outputs": [],
   "source": []
  },
  {
   "cell_type": "code",
   "execution_count": null,
   "id": "17c05ad3",
   "metadata": {},
   "outputs": [],
   "source": []
  },
  {
   "cell_type": "code",
   "execution_count": null,
   "id": "0ec834db",
   "metadata": {},
   "outputs": [],
   "source": []
  },
  {
   "cell_type": "code",
   "execution_count": null,
   "id": "71c103fd",
   "metadata": {},
   "outputs": [],
   "source": []
  },
  {
   "cell_type": "code",
   "execution_count": 7,
   "id": "cce3264c",
   "metadata": {},
   "outputs": [
    {
     "name": "stderr",
     "output_type": "stream",
     "text": [
      "100%|███████████████████████████████████████████████████████████████████████████████████████████████████████████████| 150001/150001 [00:39<00:00, 3805.20it/s]\n",
      "100%|█████████████████████████████████████████████████████████████████████████████████████████████████████████████████| 75000/75000 [00:37<00:00, 1996.55it/s]\n",
      "100%|████████████████████████████████████████████████████████████████████████████████████████████████████████████████| 150001/150001 [08:01<00:00, 311.29it/s]\n",
      "100%|████████████████████████████████████████████████████████████████████████████████████████████████████████████████| 150001/150001 [07:35<00:00, 329.33it/s]\n"
     ]
    }
   ],
   "source": [
    "for u in range(len(unis)):\n",
    "    positions = np.zeros(( int( len(unis[u].trajectory)/2 ), len(unis[u].residues)*3 ))\n",
    "    for i in tqdm( range(positions.shape[0]) ):\n",
    "        unis[u].trajectory[i*2]\n",
    "        positions[i] = np.concatenate(( unis[u].select_atoms('name CA').positions ))\n",
    "        \n",
    "    np.save(f'coordinates_ca_{names[u]}.npy', positions)"
   ]
  },
  {
   "cell_type": "code",
   "execution_count": null,
   "id": "ce72eeec",
   "metadata": {},
   "outputs": [],
   "source": []
  },
  {
   "cell_type": "code",
   "execution_count": null,
   "id": "9381b9e0",
   "metadata": {},
   "outputs": [],
   "source": []
  },
  {
   "cell_type": "code",
   "execution_count": null,
   "id": "0f5a3f27",
   "metadata": {},
   "outputs": [],
   "source": []
  },
  {
   "cell_type": "markdown",
   "id": "2ccba120",
   "metadata": {},
   "source": [
    "## reduced dihedrals (20-220)"
   ]
  },
  {
   "cell_type": "code",
   "execution_count": 6,
   "id": "556135eb",
   "metadata": {},
   "outputs": [],
   "source": [
    "dih = np.load('phi_psi_chi1_resids.npz')\n",
    "dih=[dih[i] for i in list(dih)]"
   ]
  },
  {
   "cell_type": "code",
   "execution_count": 18,
   "id": "60d3df07",
   "metadata": {},
   "outputs": [],
   "source": [
    "dih = [ all( (i>=20) & (i<=220) ) for i in dih ]"
   ]
  },
  {
   "cell_type": "code",
   "execution_count": 21,
   "id": "7b0f90f8",
   "metadata": {},
   "outputs": [
    {
     "data": {
      "text/plain": [
       "0.875"
      ]
     },
     "execution_count": 21,
     "metadata": {},
     "output_type": "execute_result"
    }
   ],
   "source": [
    "np.sum(dih)/len(dih)"
   ]
  },
  {
   "cell_type": "code",
   "execution_count": 30,
   "id": "59fb74b7",
   "metadata": {},
   "outputs": [],
   "source": [
    "for n in names: np.save(f'reduced_phi_psi_chi1_{n}.npy', np.load(f'phi_psi_chi1_{n}.npy')[:,dih])"
   ]
  },
  {
   "cell_type": "code",
   "execution_count": null,
   "id": "b560a785",
   "metadata": {},
   "outputs": [],
   "source": []
  },
  {
   "cell_type": "code",
   "execution_count": null,
   "id": "91ebc9e8",
   "metadata": {},
   "outputs": [],
   "source": []
  },
  {
   "cell_type": "markdown",
   "id": "7e3dcc73",
   "metadata": {},
   "source": [
    "## coordinates (mean-free and whitened)"
   ]
  },
  {
   "cell_type": "code",
   "execution_count": 56,
   "id": "fa497972",
   "metadata": {},
   "outputs": [
    {
     "name": "stderr",
     "output_type": "stream",
     "text": [
      "aw: 100%|█████████████████████████████████████████████████████████████████████████████████████████████████████████████| 37500/37500 [00:30<00:00, 1237.30it/s]\n",
      "bw: 100%|█████████████████████████████████████████████████████████████████████████████████████████████████████████████| 37500/37500 [00:29<00:00, 1251.11it/s]\n",
      "am: 100%|█████████████████████████████████████████████████████████████████████████████████████████████████████████████| 37500/37500 [00:30<00:00, 1244.68it/s]\n",
      "bm: 100%|█████████████████████████████████████████████████████████████████████████████████████████████████████████████| 37500/37500 [00:30<00:00, 1241.38it/s]\n"
     ]
    }
   ],
   "source": [
    "skips=[8,4,8,8]\n",
    "\n",
    "for a,u in enumerate(unis):\n",
    "    \n",
    "    positions = np.zeros(( int(len(u.trajectory)/skips[a]), 2361 ))\n",
    "    \n",
    "    for t in tqdm(range(positions.shape[0]), desc=names[a]):\n",
    "        u.trajectory[t*skips[a]]\n",
    "        \n",
    "        positions[t] = np.concatenate((\n",
    "            u.select_atoms('resid 20 to 147 149 to 220 and name N CA CB C').positions\n",
    "                                      ))   #getting coordinates\n",
    "        \n",
    "    for i in range(positions.shape[1]):   #making mean-free positions\n",
    "        positions[:,i] -= np.mean(positions[:,i])\n",
    "        \n",
    "    nobs, ndim = positions.shape\n",
    "    cmt = np.zeros((ndim,ndim))  #getting covar matrix\n",
    "    for i in range(ndim):\n",
    "        for j in range(i,ndim):\n",
    "            cmt[i,j] = cmt[j,i] = 1/(nobs-1) * np.sum(positions[:,i]*positions[:,j])\n",
    "            \n",
    "    eigval, eigvec = np.linalg.eigh(cmt) # eigen decomposition of covar matrix\n",
    "    \n",
    "    #getting inverse square root of cmt \n",
    "    # B^2 = cmt^{-1}\n",
    "    # cmt^{-1/2} = eigvec * eigval^{-1/2} * eigvec^T\n",
    "    eigval_inv = np.diag(1/np.sqrt(eigval))\n",
    "    cmt_inv = eigvec @ eigval_inv @ eigvec.T\n",
    "    \n",
    "    # getting decorrelated coordinates\n",
    "    positions = positions @ cmt_inv\n",
    "    \n",
    "    np.save(f'coordinates_{names[a]}.npy', positions)"
   ]
  },
  {
   "cell_type": "code",
   "execution_count": null,
   "id": "c2142a1e",
   "metadata": {},
   "outputs": [],
   "source": []
  },
  {
   "cell_type": "code",
   "execution_count": null,
   "id": "fe0fef0b",
   "metadata": {},
   "outputs": [],
   "source": []
  },
  {
   "cell_type": "code",
   "execution_count": null,
   "id": "d0a006a6",
   "metadata": {},
   "outputs": [],
   "source": []
  }
 ],
 "metadata": {
  "kernelspec": {
   "display_name": "Python 3 (ipykernel)",
   "language": "python",
   "name": "python3"
  },
  "language_info": {
   "codemirror_mode": {
    "name": "ipython",
    "version": 3
   },
   "file_extension": ".py",
   "mimetype": "text/x-python",
   "name": "python",
   "nbconvert_exporter": "python",
   "pygments_lexer": "ipython3",
   "version": "3.9.12"
  }
 },
 "nbformat": 4,
 "nbformat_minor": 5
}
