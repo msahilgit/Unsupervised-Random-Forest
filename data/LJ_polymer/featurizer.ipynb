{
 "cells": [
  {
   "cell_type": "code",
   "execution_count": 1,
   "id": "df40734c",
   "metadata": {},
   "outputs": [
    {
     "name": "stderr",
     "output_type": "stream",
     "text": [
      "/home/msahil/softwares/anaconda3/lib/python3.9/site-packages/scipy/__init__.py:146: UserWarning: A NumPy version >=1.16.5 and <1.23.0 is required for this version of SciPy (detected version 1.24.4\n",
      "  warnings.warn(f\"A NumPy version >={np_minversion} and <{np_maxversion}\"\n"
     ]
    }
   ],
   "source": [
    "import copy as cp\n",
    "import numpy as np\n",
    "np.float = np.float_\n",
    "np.bool = np.bool_\n",
    "np.int = np.int_\n",
    "import matplotlib as mt\n",
    "import matplotlib.pyplot as plt\n",
    "import sys\n",
    "sys.path.append('../../0_python_modules/')\n",
    "import extras\n",
    "import pyemma\n",
    "import pyemma.coordinates as coor\n",
    "from tqdm import tqdm"
   ]
  },
  {
   "cell_type": "code",
   "execution_count": null,
   "id": "91815755",
   "metadata": {},
   "outputs": [],
   "source": []
  },
  {
   "cell_type": "markdown",
   "id": "5fff2614",
   "metadata": {},
   "source": [
    "rgs = [np.loadtxt(f'rgs/rg_{i:03d}.xvg', comments=['@','#'])[:,1] for i in range(200)]"
   ]
  },
  {
   "cell_type": "markdown",
   "id": "421a7025",
   "metadata": {},
   "source": [
    "for a,i in enumerate(rgs):\n",
    "    if i.shape[0] != 30001:\n",
    "        print(a, i.shape)"
   ]
  },
  {
   "cell_type": "markdown",
   "id": "adef6540",
   "metadata": {},
   "source": [
    "np.savez('rgs/rg.npz', *rgs)"
   ]
  },
  {
   "cell_type": "code",
   "execution_count": 5,
   "id": "e34e6b2e",
   "metadata": {},
   "outputs": [],
   "source": [
    "rgs = np.concatenate(rgs)"
   ]
  },
  {
   "cell_type": "code",
   "execution_count": 6,
   "id": "792311b5",
   "metadata": {},
   "outputs": [
    {
     "data": {
      "text/plain": [
       "(5978731,)"
      ]
     },
     "execution_count": 6,
     "metadata": {},
     "output_type": "execute_result"
    }
   ],
   "source": [
    "rgs.shape"
   ]
  },
  {
   "cell_type": "code",
   "execution_count": 7,
   "id": "6dccf218",
   "metadata": {},
   "outputs": [],
   "source": [
    "bins = np.arange(rgs.min(), rgs.max(), 0.01)\n",
    "xb = bins[1:] - (bins[1]-bins[0])/2"
   ]
  },
  {
   "cell_type": "code",
   "execution_count": 8,
   "id": "c00b22cf",
   "metadata": {},
   "outputs": [],
   "source": [
    "hrgs, _ = np.histogram(rgs, bins=bins, density=True)"
   ]
  },
  {
   "cell_type": "code",
   "execution_count": 9,
   "id": "6b47fa62",
   "metadata": {},
   "outputs": [
    {
     "data": {
      "image/png": "[encoded data removed]",
      "text/plain": [
       "<Figure size 432x288 with 1 Axes>"
      ]
     },
     "metadata": {
      "needs_background": "light"
     },
     "output_type": "display_data"
    }
   ],
   "source": [
    "plt.plot(xb, hrgs)\n",
    "plt.grid()"
   ]
  },
  {
   "cell_type": "code",
   "execution_count": 10,
   "id": "8ddf4d49",
   "metadata": {},
   "outputs": [
    {
     "data": {
      "text/plain": [
       "0.16317308806835432"
      ]
     },
     "execution_count": 10,
     "metadata": {},
     "output_type": "execute_result"
    }
   ],
   "source": [
    "np.where(rgs < 0.5)[0].shape[0]/rgs.shape[0]"
   ]
  },
  {
   "cell_type": "code",
   "execution_count": 11,
   "id": "9de27959",
   "metadata": {},
   "outputs": [
    {
     "data": {
      "text/plain": [
       "0.2747792131808573"
      ]
     },
     "execution_count": 11,
     "metadata": {},
     "output_type": "execute_result"
    }
   ],
   "source": [
    "np.where(rgs > 0.9)[0].shape[0]/rgs.shape[0]"
   ]
  },
  {
   "cell_type": "code",
   "execution_count": 12,
   "id": "f3dcd9e5",
   "metadata": {},
   "outputs": [
    {
     "data": {
      "text/plain": [
       "0.17826542120727626"
      ]
     },
     "execution_count": 12,
     "metadata": {},
     "output_type": "execute_result"
    }
   ],
   "source": [
    "np.where(rgs > 1)[0].shape[0]/rgs.shape[0]"
   ]
  },
  {
   "cell_type": "code",
   "execution_count": null,
   "id": "8661d4f2",
   "metadata": {},
   "outputs": [],
   "source": []
  },
  {
   "cell_type": "code",
   "execution_count": null,
   "id": "4fe6dbdb",
   "metadata": {},
   "outputs": [],
   "source": []
  }
 ],
 "metadata": {
  "kernelspec": {
   "display_name": "Python 3 (ipykernel)",
   "language": "python",
   "name": "python3"
  },
  "language_info": {
   "codemirror_mode": {
    "name": "ipython",
    "version": 3
   },
   "file_extension": ".py",
   "mimetype": "text/x-python",
   "name": "python",
   "nbconvert_exporter": "python",
   "pygments_lexer": "ipython3",
   "version": "3.9.12"
  }
 },
 "nbformat": 4,
 "nbformat_minor": 5
}
