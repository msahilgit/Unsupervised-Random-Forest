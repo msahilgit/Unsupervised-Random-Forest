{
 "cells": [
  {
   "cell_type": "markdown",
   "id": "a712de17",
   "metadata": {},
   "source": [
    "<font size=4>\n",
    "    Here is a step by step, more controlled implementation of URF protocol.\n",
    "    <br><br>\n",
    "</font>"
   ]
  },
  {
   "cell_type": "markdown",
   "id": "41a1c897",
   "metadata": {},
   "source": [
    "### Requirements <br>\n",
    "<font size=4>\n",
    "    X - input data <br>\n",
    "</font>\n",
    "<font size=3>\n",
    "    &emsp; a high dimensional 2d numpy array <br>\n",
    "    &emsp; if input data from multiple MD trajectories, then X has to be concatednated <br>\n",
    "    &emsp; in the original work, only continuous data was tested, coming from internal coordiantes of proteins via MD simulations <br><br>\n",
    "</font>"
   ]
  },
  {
   "cell_type": "code",
   "execution_count": 1,
   "id": "d66cf4fd",
   "metadata": {},
   "outputs": [],
   "source": [
    "import numpy as np"
   ]
  },
  {
   "cell_type": "code",
   "execution_count": 5,
   "id": "3d025fe5",
   "metadata": {},
   "outputs": [
    {
     "data": {
      "text/plain": [
       "(159729, 3741)"
      ]
     },
     "execution_count": 5,
     "metadata": {},
     "output_type": "execute_result"
    }
   ],
   "source": [
    "X = np.load('../data/input_data.npy')\n",
    "X.shape"
   ]
  },
  {
   "cell_type": "code",
   "execution_count": null,
   "id": "d5b54f8d",
   "metadata": {},
   "outputs": [],
   "source": []
  },
  {
   "cell_type": "markdown",
   "id": "de69c5e3",
   "metadata": {},
   "source": [
    "### URF"
   ]
  },
  {
   "cell_type": "code",
   "execution_count": 2,
   "id": "b9bdba50",
   "metadata": {},
   "outputs": [],
   "source": [
    "import sys\n",
    "sys.path.append('../URF/')"
   ]
  },
  {
   "cell_type": "code",
   "execution_count": 9,
   "id": "51deab49",
   "metadata": {},
   "outputs": [],
   "source": [
    "import synthetic_data as syn\n",
    "from sklearn.ensemble import RandomForestClassifier as rfc\n",
    "from sklearn.model_selection import train_test_split as splt\n",
    "import scipy.cluster as scc\n",
    "import proximity_matrix as pmt\n",
    "import utils\n",
    "import cluster\n",
    "import metrics"
   ]
  },
  {
   "cell_type": "markdown",
   "id": "539e6302",
   "metadata": {},
   "source": [
    "#### synthetic data"
   ]
  },
  {
   "cell_type": "code",
   "execution_count": 6,
   "id": "959777b9",
   "metadata": {},
   "outputs": [],
   "source": [
    "dsyn = syn.synthetic_data(X, size=1)\n",
    "dsyn.permute()   # may be dsyn.{marginal, nonsense, random etc}, nonsense indicate fictitious\n",
    "pfeatures, plabels = create_permute.get_output()"
   ]
  },
  {
   "cell_type": "code",
   "execution_count": 7,
   "id": "1482d378",
   "metadata": {},
   "outputs": [],
   "source": [
    "# pfeatures and plabels are synthetic data+real data and artificial labels"
   ]
  },
  {
   "cell_type": "markdown",
   "id": "7d3ea185",
   "metadata": {},
   "source": [
    "#### RF1"
   ]
  },
  {
   "cell_type": "code",
   "execution_count": 8,
   "id": "e1dbf125",
   "metadata": {},
   "outputs": [],
   "source": [
    "np.random.seed(0)\n",
    "rf1_cv=5\n",
    "random_states = np.random.randint(0,1000,rf1_cv)"
   ]
  },
  {
   "cell_type": "code",
   "execution_count": null,
   "id": "9703ef52",
   "metadata": {},
   "outputs": [],
   "source": [
    "clfs=[]\n",
    "for i in range(rf1_cv):\n",
    "    clf = rfc(n_estimators=1000, random_state=random_states[i])\n",
    "    x,_,y,_ = splt(pfeatures, plabels, train_size=0.3, random_state=random_states[i])\n",
    "    clf.fit(x,y)\n",
    "    clfs.append(clf)"
   ]
  },
  {
   "cell_type": "markdown",
   "id": "07a22391",
   "metadata": {},
   "source": [
    "#### proximity estimations"
   ]
  },
  {
   "cell_type": "code",
   "execution_count": 11,
   "id": "c26a0d49",
   "metadata": {},
   "outputs": [],
   "source": [
    "prox = pmt.calculate_condenced_pmt_(clfs, X, n_jobs=2)\n",
    "# here the size of X can be controlled, as per efficient scheme\n",
    "# different schemes are available in proximity_matrix.py and cluster.py"
   ]
  },
  {
   "cell_type": "markdown",
   "id": "a337cf39",
   "metadata": {},
   "source": [
    "#### hierarchical classes"
   ]
  },
  {
   "cell_type": "code",
   "execution_count": 13,
   "id": "fbc78531",
   "metadata": {},
   "outputs": [],
   "source": [
    "hc = scc.hierarchy.linkage(prox, method='average')\n",
    "# low-mem and fit-predict clustering schemes are available in cluster.py"
   ]
  },
  {
   "cell_type": "code",
   "execution_count": 14,
   "id": "25e55315",
   "metadata": {},
   "outputs": [],
   "source": [
    "nhc=2\n",
    "Y = utils.get_hc_dtraj(hc, nids=nhc)"
   ]
  },
  {
   "cell_type": "markdown",
   "id": "43f3525f",
   "metadata": {},
   "source": [
    "#### RF2"
   ]
  },
  {
   "cell_type": "code",
   "execution_count": 15,
   "id": "7486307b",
   "metadata": {},
   "outputs": [],
   "source": [
    "np.random.seed(0)\n",
    "rf2_cv=5\n",
    "random_states = np.random.randint(0,1000,rf2_cv)"
   ]
  },
  {
   "cell_type": "code",
   "execution_count": 18,
   "id": "c4092941",
   "metadata": {},
   "outputs": [],
   "source": [
    "fimp = np.zeros((rf2_cv, X.shape[1]))\n",
    "LC = np.zeros((rf2_cv))\n",
    "for i in range(len(rf2_cv)):\n",
    "    clf = rfc(n_estimators=1000, n_jobs=2, random_state=random_states[i])\n",
    "    xtrain, xtest, ytrain, ytest = splt(X, Y, test_size=0.3, random_state=random_states[i])\n",
    "    clf.fit(xtrain, ytrain)\n",
    "    fimp[i]=clf.feature_importances_\n",
    "    LC[i] = metrics.learning_coefficient(Y, clf, xtest, ytest,\n",
    "                                        cfactor=2, b=0, a=1, penalty=0)"
   ]
  },
  {
   "cell_type": "markdown",
   "id": "6b3c08d6",
   "metadata": {},
   "source": [
    "### the fimp and LC are output"
   ]
  },
  {
   "cell_type": "code",
   "execution_count": null,
   "id": "d89f4473",
   "metadata": {},
   "outputs": [],
   "source": []
  },
  {
   "cell_type": "code",
   "execution_count": null,
   "id": "0c3374eb",
   "metadata": {},
   "outputs": [],
   "source": []
  },
  {
   "cell_type": "code",
   "execution_count": null,
   "id": "5c3f2a05",
   "metadata": {},
   "outputs": [],
   "source": []
  },
  {
   "cell_type": "code",
   "execution_count": null,
   "id": "ac37899b",
   "metadata": {},
   "outputs": [],
   "source": []
  },
  {
   "cell_type": "code",
   "execution_count": null,
   "id": "c7af152f",
   "metadata": {},
   "outputs": [],
   "source": []
  },
  {
   "cell_type": "code",
   "execution_count": null,
   "id": "36aba783",
   "metadata": {},
   "outputs": [],
   "source": []
  }
 ],
 "metadata": {
  "kernelspec": {
   "display_name": "Python 3 (ipykernel)",
   "language": "python",
   "name": "python3"
  },
  "language_info": {
   "codemirror_mode": {
    "name": "ipython",
    "version": 3
   },
   "file_extension": ".py",
   "mimetype": "text/x-python",
   "name": "python",
   "nbconvert_exporter": "python",
   "pygments_lexer": "ipython3",
   "version": "3.9.12"
  }
 },
 "nbformat": 4,
 "nbformat_minor": 5
}
