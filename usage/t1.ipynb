{
 "cells": [
  {
   "cell_type": "markdown",
   "id": "7ff531ca",
   "metadata": {},
   "source": [
    "<font size=4>\n",
    "    Here, is a quick and direct implementation of URF protocol.\n",
    "    <br><br>"
   ]
  },
  {
   "cell_type": "markdown",
   "id": "62d61e38",
   "metadata": {},
   "source": [
    "### Requirements <br>\n",
    "<font size=4>\n",
    "    X - input data <br>\n",
    "</font>\n",
    "<font size=3>\n",
    "    &emsp; a high dimensional 2d numpy array <br>\n",
    "    &emsp; if input data from multiple MD trajectories, then X has to be concatednated <br><br>"
   ]
  },
  {
   "cell_type": "code",
   "execution_count": 1,
   "id": "1dce7387",
   "metadata": {},
   "outputs": [],
   "source": [
    "import numpy as np"
   ]
  },
  {
   "cell_type": "code",
   "execution_count": 2,
   "id": "fc854954",
   "metadata": {},
   "outputs": [
    {
     "data": {
      "text/plain": [
       "(24149, 229)"
      ]
     },
     "execution_count": 2,
     "metadata": {},
     "output_type": "execute_result"
    }
   ],
   "source": [
    "X = np.load('../data/input_data.npy')\n",
    "X.shape"
   ]
  },
  {
   "cell_type": "code",
   "execution_count": null,
   "id": "c6e220de",
   "metadata": {},
   "outputs": [],
   "source": []
  },
  {
   "cell_type": "markdown",
   "id": "5ab3b414",
   "metadata": {},
   "source": [
    "### URF"
   ]
  },
  {
   "cell_type": "code",
   "execution_count": 3,
   "id": "fa75be83",
   "metadata": {},
   "outputs": [],
   "source": [
    "from URF.model import unsupervised_random_forest  as urf   #if installed, see alternative.txt"
   ]
  },
  {
   "cell_type": "code",
   "execution_count": 6,
   "id": "9413f6dc",
   "metadata": {},
   "outputs": [],
   "source": [
    "dobj = urf(n_jobs=16)           # initilization step, \n",
    "dobj.fit(X)                     # fitting step \n",
    "lc, fimp = dobj.get_output()    # predicting step"
   ]
  },
  {
   "cell_type": "markdown",
   "id": "2d6d3ec9",
   "metadata": {},
   "source": [
    "### outputs \n",
    "<br>\n",
    "<font size=4>\n",
    "    Learning Coefficient (LC): <br>\n",
    "</font>\n",
    "<font size=3>\n",
    "    &emsp; an internal metric of URF learning, which indicates its performance <br>\n",
    "    &emsp; it cn range [0-1], but generally observed either close to zero or close to 1 <br>\n",
    "    &emsp; high values indicate higher performance <br>\n",
    "    &emsp; it contains a value for each cross validation iteration of RF2 <br>\n",
    "</font>\n",
    "<br> \n",
    "<font size=4>\n",
    "    feature importance scores (fimp): <br>\n",
    "</font>\n",
    "<font size=3>\n",
    "    &emsp; a feature importance score/weight for each feature and cross validation iteration <br>\n",
    "    &emsp; based on these scores, feature selections can be performed <br>\n",
    "    &emsp; high score indicate more importance <br> <br>"
   ]
  },
  {
   "cell_type": "code",
   "execution_count": null,
   "id": "9165b059",
   "metadata": {},
   "outputs": [],
   "source": []
  },
  {
   "cell_type": "code",
   "execution_count": null,
   "id": "de9abb54",
   "metadata": {},
   "outputs": [],
   "source": []
  },
  {
   "cell_type": "markdown",
   "id": "9dd657ba",
   "metadata": {},
   "source": [
    "### hyper-parameters\n",
    "<br>\n",
    "<font size=4>\n",
    "    All steps can be controlled via user-defined hyper-parameter settings. Specifically,  <br> <br>\n",
    "    $pmt\\_alg$ <br>\n",
    "</font>\n",
    "<font size=3>\n",
    "    &emsp; for the efficient use based on memory availability <br>\n",
    "    &emsp; E ['ef', 'fp', 'lm'] #available schemes <br>\n",
    "    &emsp; URF protocol can raise $memory\\_warning$ prior to fitting, given data and machine specifications <br>\n",
    "    <br>\n",
    "</font>\n",
    "<font size=4>\n",
    "    $pmt\\_data\\_size$ <br>\n",
    "</font>\n",
    "<font size=3>    \n",
    "    &emsp; E [0-1] <br>\n",
    "    &emsp; incase of low memory or very large data, this hyperparameter can reduce memory, without loss of performance <br><br>\n",
    "</font>\n",
    "<font size=4>\n",
    "    $n_{hc}$ <br>\n",
    "</font>\n",
    "<font size=3>\n",
    "    &emsp; number of hierarchical classes in data <br>\n",
    "    &emsp; by default checks between 2-10 <br>\n",
    "    &emsp; URF protocol can stop at this stage (for default settings), if $pre\\_LC\\_estimation$ is detected low <br><br>\n",
    "</font>\n",
    "<font size=4>\n",
    "    $rf1\\_cv, rf2\\_cv$ <br>\n",
    "</font>\n",
    "<font size=3>\n",
    "    &emsp; number of cross validations for RF\n",
    "    <br> <br> <br>\n",
    "</font>\n",
    "<font size=4>\n",
    "    The below are complete list of hyper-parameter options available <br>"
   ]
  },
  {
   "cell_type": "code",
   "execution_count": 7,
   "id": "4e6eba73",
   "metadata": {},
   "outputs": [
    {
     "name": "stdout",
     "output_type": "stream",
     "text": [
      "\n",
      "    a feature selection pipeline based on unsupervised (self-supervised) random forest as \n",
      "    defined in citation_here.\n",
      "\n",
      "    usage:\n",
      "        from model import unsupervised_random_forest as urf\n",
      "        dobj = urf(**args)\n",
      "        dobj.fit(data)\n",
      "        lc, fimp = dobj.get_output()\n",
      "\n",
      "    INPUTS::\n",
      "        random_state    - [int] d[42] a random integer to set the random seed\n",
      "\n",
      "        syn_data_type   - [str] d[permute]\n",
      "                            type of synthetic data to generate\n",
      "                            random   - randomly selects some of the datapoints from original data\n",
      "                                        and labelled them as synthetic data\n",
      "                            marginal - also randomly selects data but tries to maintain the marginal\n",
      "                                        distribution similar to original data\n",
      "                                        its the same copy as original data with syn_dat_size=1\n",
      "                            permute  - it randomly permute the columns (features) of original data\n",
      "                                        and labelled it as synthetic data\n",
      "                                        NOTE:: THIS IS PREFERRED CHOICE\n",
      "                            mean     - create synthetic data with original_data[:,feature] larger than mean/median\n",
      "                            nonsense - also referred as [fictitious], create a random data with no meaning perse\n",
      "\n",
      "        syn_data_size   - [float] d[1] size of the synthetic data with respect to original data\n",
      "                            NOTE: 1.0 [same size as original size] IS IDEAL AND BALANCED\n",
      "                            not for mean type of synthetic data generation\n",
      "\n",
      "        syn_replace     - [bool] d[False] to replace the synthetic data from original data\n",
      "                            not for permute or nonsense type of synthetic data generation\n",
      "        syn_marg_repeat - [bool] d[False] whether to repeat the data in marginal type of data generation\n",
      "        syn_mean_fnum   - [str, int] E ['random', 'variable'] which feature (feature type) to consider in mean type of data generation\n",
      "\n",
      "        rf1_cv          - [int] d[5] number of cross validation replicates to perform on RF-I\n",
      "                            for each iteration, the input features (original+synthetic) were randomly (controlled by seed)\n",
      "                            selected as per train-test split\n",
      "\n",
      "        rf1_est         - [int] d[1000] number of decision tree estimators in RF-I\n",
      "                            IMPORTANT NOTE: this parameter controls the resolution of proximities,\n",
      "                            hence larger is better. It does not have any upper limit.\n",
      "                            This is not from the perspective of predictive learning\n",
      "\n",
      "        rf1_criterion   - [str] d[gini] the node splitting criteria for RF-I,\n",
      "                            as defined in sklearn.ensemble.RandomForestClassifier\n",
      "                            rf1_criterion E [gini, entropy, log_loss]\n",
      "\n",
      "        rf1_test_size   - [float] d[0.3] the size of test data for RF-I, defined as fraction of total data\n",
      "                            and must be between 0.01 to 0.99\n",
      "\n",
      "        pmt_alg         - [str] d[efficient] algorithm used to estimate proximity matrix and hierarchial clustering\n",
      "                            different algorithms tradeoff in terms of memory, time usage or calculative assumptions:\n",
      "    \n",
      "                            efficient (ef)   - pre-calculates a condenced proximity matrix, followed by\n",
      "                                                estimation of average dendrogram via fastcluster library\n",
      "                                                memory requirement - moderate to high, depending on data size [control via pmt_data_size]\n",
      "                                                for n data point:\n",
      "                                                    memory = (^n C_2 * 8) / (1024^3) gb  [[ plus additional for processing ]]\n",
      "                                                overall; for ~150,000 datapoint, roughly ~100 gb working RAM is required\n",
      "                                                time requirement - low to moderate, depending on data size\n",
      "\n",
      "                            low-mem (lm)     - combines proximity estimation and hierarchical clustering, hence avoiding the\n",
      "                                                need to save a large proximity matrix.\n",
      "                                                memory requirement - low\n",
      "                                                time requirement - high, depending on data size [control via pmt_data_size]\n",
      "                                                it performs on-the-fly proximity calculation while performing nearest-neighbour-chain\n",
      "                                                algorithm based hierarchical clustering\n",
      "                                                Though parallelized, but slow\n",
      "\n",
      "                            fit-predict (fp) - combines proximity estimation and hierarchical clustering, hence memory efficient\n",
      "                                                it takes random-uniform sample from data [pmt_data_size] and perform proximity based hierarchy \n",
      "                                                as for efficient algorithm, the clustering for remaining data is estimated via \n",
      "                                                proximity-based-k-nearest-neighbour [controlled via nn] algorithm.\n",
      "                                                memory requirement - low to moderate depending on pmt_data_size\n",
      "                                                time requirement - low to moderate depending on data size\n",
      "                                                pros - did not reduce data on pmt and subsequent steps, memory requirement\n",
      "                                                cons - actual calculation on small data subset, rest is estimated [the deviation in results is small ]\n",
      "\n",
      "        pmt_data_size   - [float] d[1] the fraction of original data to be used for proximity matrix,\n",
      "                            hc and RF-II stages.\n",
      "                            This parameter can avoid large memory usage, as required in \" pmt_alg = efficient \"\n",
      "                            or other pmt_alg options\n",
      "                            0.01 <= pmt_data_size <= 1\n",
      "                            1 means taking all data (original)\n",
      "                            0.5 means skipping a data point i.e., [::2] and so on.\n",
      "\n",
      "                            if pmt_alg is 'fit-predict': \n",
      "                                then pmt_data_size is size of data used in fit part.\n",
      "                                if pmt_data_size = 1:\n",
      "                                    then pmt_data_size = (3*rf1_est*rf1_cv)/nobs\n",
      "\n",
      "        nn              - [int] d[None] the number of nearest neighbours to be used in predict part\n",
      "                            for fit-predict hierarchical clustering\n",
      "                            nn >= 1\n",
      "                            if None:\n",
      "                                nn = int[ cfactor * sqrt(nobs/nhc) ]\n",
      "\n",
      "        nhc             - [int] or [list-int] d[None] number of labels in hierarchial dendrogram\n",
      "                            lower limit - 2 (strict)\n",
      "                            upper limit - 10 (adviced but not neccesarily)\n",
      "                            if int - nhc labels are used\n",
      "                            if list-int - best one is taken from the given options\n",
      "                            if None - estimated based on pre-learning_coefficient calculation (nhc=2-10)\n",
      "\n",
      "        cfactor         - [float] d[2] a cutoff factor to define outliers in learning coefficient estimation\n",
      "                                        other params of Lc: a=1, b=0, penalty=0\n",
      "\n",
      "        rf2_cv          - [int] d[5] number of cross validation replicates to perform on RF-II\n",
      "                            for each iteration, the original data is randomly (controlled by seed)\n",
      "                            selected as per train-test split\n",
      "\n",
      "        rf2_est         - [int] d[1000] number of decision tree estimators in RF-II\n",
      "\n",
      "        rf2_criterion   - [str] d[gini] the node splitting criteria for RF-II,\n",
      "                            as defined in sklearn.ensemble.RandomForestClassifier\n",
      "                            rf2_criterion E [gini, entropy, log_loss]\n",
      "\n",
      "        rf2_depth       - [int] d[None] max depth of decision trees in RF-II,\n",
      "                            to reduce overfitt if any\n",
      "        rf2_test_size   - [float] d[0.3] the size of test data for RF-I, defined as fraction of total data\n",
      "                            and must be between 0.01 to 0.99\n",
      "\n",
      "        n_jobs          - [int] d[1] number of parallel cpus to be utilized\n",
      "\n",
      "        save_syn        - [str] d[None] save synthetic data (+original data and labels)\n",
      "                            as pfeatures_{name}.npy and plabels_{name}.npy\n",
      "\n",
      "        save_rf1        - [str] d[None] save RF-I models in pickle format\n",
      "                            to open back: rf1_i = pickle.load( open('rf1_{name}_{cv}.pkl', 'rb') )\n",
      "\n",
      "        save_pmt        - [str] d[None] save condenced proximity matrix in numpy format\n",
      "                            only for 'efficient' pmt_alg\n",
      "\n",
      "        save_dng        - [str] d[None] saved hierarchial clustering in dendrogram format\n",
      "\n",
      "        save_dtrj       - [str] d[None] saved labels of hieracrchial clustering\n",
      "\n",
      "        save_rf2        - [str] d[None] saved pickle objects of trained RF-II models as rf2_{name}_{cv}.pkl\n",
      "\n",
      "    OUTPUTS::\n",
      "        fimp            - feature importance scores for each feature in original data\n",
      "        save            - any saved object/file given specified save_syn, save_rf1, save_pmt, save_dng, save_dtrj, save_rf2\n",
      "        exp_fnum        - an expected (suggested) number of features to consider\n",
      "        lc              - learning coefficient\n",
      "\n",
      "    \n"
     ]
    }
   ],
   "source": [
    "print(urf.__doc__)"
   ]
  },
  {
   "cell_type": "code",
   "execution_count": null,
   "id": "550ec3b7",
   "metadata": {},
   "outputs": [],
   "source": []
  },
  {
   "cell_type": "code",
   "execution_count": null,
   "id": "ab917698",
   "metadata": {},
   "outputs": [],
   "source": []
  },
  {
   "cell_type": "markdown",
   "id": "3b43d25d",
   "metadata": {},
   "source": [
    "### specific cases\n",
    "<br>\n",
    "<font size=4>\n",
    "    $restarting$ $the$ $fitting$ $step$ <br>\n",
    "</font>\n",
    "<font size=3>\n",
    "    &emsp; the dobj.fit(X) step may stop in between raising the $pre\\_LC\\_warning$, if no internal structure is detected via default settings <br>\n",
    "    &emsp; here, the fitting step can be restarted via $dobj.restart\\_fit(X, n_{hc})$ attribute, <br>\n",
    "    &emsp; this way, the fitting restarts from checkpoint, rather than from the start, saving time <br><br>\n",
    "</font>"
   ]
  },
  {
   "cell_type": "code",
   "execution_count": 9,
   "id": "e9edbe11",
   "metadata": {},
   "outputs": [
    {
     "ename": "AssertionError",
     "evalue": "best nhc cound not be found within 2-10 \n you may try restart_fit with defined nhc",
     "output_type": "error",
     "traceback": [
      "\u001b[0;31m---------------------------------------------------------------------------\u001b[0m",
      "\u001b[0;31mAssertionError\u001b[0m                            Traceback (most recent call last)",
      "Cell \u001b[0;32mIn[9], line 4\u001b[0m\n\u001b[1;32m      1\u001b[0m \u001b[38;5;66;03m# dobj = urf(**args)\u001b[39;00m\n\u001b[1;32m      2\u001b[0m \u001b[38;5;66;03m# dobj.fit(X)\u001b[39;00m\n\u001b[1;32m      3\u001b[0m \u001b[38;5;66;03m# lc, fimp = dobj.get_output()\u001b[39;00m\n\u001b[0;32m----> 4\u001b[0m \u001b[38;5;28;01mraise\u001b[39;00m \u001b[38;5;167;01mAssertionError\u001b[39;00m(\u001b[38;5;124m'\u001b[39m\u001b[38;5;124mbest nhc cound not be found within 2-10 \u001b[39m\u001b[38;5;130;01m\\n\u001b[39;00m\u001b[38;5;124m you may try restart_fit with defined nhc\u001b[39m\u001b[38;5;124m'\u001b[39m)\n",
      "\u001b[0;31mAssertionError\u001b[0m: best nhc cound not be found within 2-10 \n you may try restart_fit with defined nhc"
     ]
    }
   ],
   "source": [
    "dobj = urf(**args)\n",
    "dobj.fit(X)\n",
    "lc, fimp = dobj.get_output()"
   ]
  },
  {
   "cell_type": "code",
   "execution_count": 11,
   "id": "a5d5bac5",
   "metadata": {},
   "outputs": [],
   "source": [
    "# restarting as\n",
    "dobj.restart_fit(X, nhc=12)\n",
    "lc, fimp = dobj.get_output()"
   ]
  },
  {
   "cell_type": "code",
   "execution_count": null,
   "id": "9b3fc1e4",
   "metadata": {},
   "outputs": [],
   "source": []
  },
  {
   "cell_type": "code",
   "execution_count": null,
   "id": "865c1163",
   "metadata": {},
   "outputs": [],
   "source": []
  },
  {
   "cell_type": "code",
   "execution_count": null,
   "id": "004f3037",
   "metadata": {},
   "outputs": [],
   "source": []
  },
  {
   "cell_type": "code",
   "execution_count": null,
   "id": "70bcc502",
   "metadata": {},
   "outputs": [],
   "source": []
  },
  {
   "cell_type": "markdown",
   "id": "37945a7e",
   "metadata": {},
   "source": [
    "### An example"
   ]
  },
  {
   "cell_type": "code",
   "execution_count": 8,
   "id": "d1b8a950",
   "metadata": {},
   "outputs": [
    {
     "data": {
      "text/plain": [
       "(24149, 229)"
      ]
     },
     "execution_count": 8,
     "metadata": {},
     "output_type": "execute_result"
    }
   ],
   "source": [
    "X = np.load('../data/input_data.npy')\n",
    "X.shape"
   ]
  },
  {
   "cell_type": "code",
   "execution_count": 9,
   "id": "680d4b1d",
   "metadata": {},
   "outputs": [],
   "source": [
    "dobj = urf(n_jobs=16)\n",
    "dobj.fit(X)\n",
    "lc, fimp = dobj.get_output()"
   ]
  },
  {
   "cell_type": "code",
   "execution_count": 10,
   "id": "da9618b2",
   "metadata": {},
   "outputs": [
    {
     "data": {
      "text/plain": [
       "array([0.99762149, 0.9928362 , 0.99566589, 0.99532805, 0.9971333 ])"
      ]
     },
     "execution_count": 10,
     "metadata": {},
     "output_type": "execute_result"
    }
   ],
   "source": [
    "lc"
   ]
  },
  {
   "cell_type": "code",
   "execution_count": 11,
   "id": "8d9fbd48",
   "metadata": {},
   "outputs": [
    {
     "data": {
      "text/plain": [
       "(5, 229)"
      ]
     },
     "execution_count": 11,
     "metadata": {},
     "output_type": "execute_result"
    }
   ],
   "source": [
    "fimp.shape  # for 5 cross validations and a value for each feature"
   ]
  },
  {
   "cell_type": "code",
   "execution_count": 12,
   "id": "7ed30de3",
   "metadata": {},
   "outputs": [],
   "source": [
    "import matplotlib.pyplot as plt"
   ]
  },
  {
   "cell_type": "code",
   "execution_count": 17,
   "id": "7323f4c4",
   "metadata": {},
   "outputs": [
    {
     "data": {
      "image/png": "[encoded data removed]",
      "text/plain": [
       "<Figure size 400x300 with 1 Axes>"
      ]
     },
     "metadata": {},
     "output_type": "display_data"
    }
   ],
   "source": [
    "plt.bar(range(fimp.shape[1]), np.mean(fimp, axis=0), color='crimson')\n",
    "plt.ylim(0,)\n",
    "plt.xlabel('feature index')\n",
    "plt.ylabel('URF fimp')\n",
    "plt.show()"
   ]
  },
  {
   "cell_type": "code",
   "execution_count": 18,
   "id": "fd4baca1",
   "metadata": {},
   "outputs": [
    {
     "data": {
      "image/png": "[encoded data removed]",
      "text/plain": [
       "<Figure size 400x300 with 1 Axes>"
      ]
     },
     "metadata": {},
     "output_type": "display_data"
    },
    {
     "data": {
      "text/plain": [
       "array([0.82111208, 0.84182849, 0.83510975, 0.83117392, 0.82849355])"
      ]
     },
     "execution_count": 18,
     "metadata": {},
     "output_type": "execute_result"
    }
   ],
   "source": [
    "cumsum = [np.cumsum(i[i.argsort()[::-1]]) for i in fimp]\n",
    "plt.fill_between(range(fimp.shape[1]), \n",
    "                 np.mean(cumsum, axis=0)-np.std(cumsum, axis=0), np.mean(cumsum, axis=0)+np.std(cumsum,axis=0),\n",
    "                color='crimson', alpha=0.4)\n",
    "plt.plot(range(fimp.shape[1]), np.mean(cumsum, axis=0), color='crimson')\n",
    "plt.vlines([40],0,1,)\n",
    "plt.show()\n",
    "np.array(cumsum)[:,40]"
   ]
  },
  {
   "cell_type": "code",
   "execution_count": null,
   "id": "376c545a",
   "metadata": {},
   "outputs": [],
   "source": [
    "#taking top 40 features, which together constitutes ~0.87/1 importance"
   ]
  },
  {
   "cell_type": "code",
   "execution_count": null,
   "id": "9350316d",
   "metadata": {},
   "outputs": [],
   "source": []
  }
 ],
 "metadata": {
  "kernelspec": {
   "display_name": "Python 3 (ipykernel)",
   "language": "python",
   "name": "python3"
  },
  "language_info": {
   "codemirror_mode": {
    "name": "ipython",
    "version": 3
   },
   "file_extension": ".py",
   "mimetype": "text/x-python",
   "name": "python",
   "nbconvert_exporter": "python",
   "pygments_lexer": "ipython3",
   "version": "3.9.20"
  }
 },
 "nbformat": 4,
 "nbformat_minor": 5
}
