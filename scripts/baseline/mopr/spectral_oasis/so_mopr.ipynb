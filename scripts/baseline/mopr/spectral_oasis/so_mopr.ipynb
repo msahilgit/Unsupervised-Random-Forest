{
 "cells": [
  {
   "cell_type": "code",
   "execution_count": 2,
   "id": "67486121",
   "metadata": {},
   "outputs": [],
   "source": [
    "import numpy as np\n",
    "import matplotlib as mt\n",
    "import matplotlib.pyplot as plt\n",
    "from matplotlib.ticker import AutoMinorLocator, MaxNLocator\n",
    "import sys\n",
    "sys.path.append('../../../0_python_modules/')\n",
    "import extras\n",
    "import navjeet_hist as nh"
   ]
  },
  {
   "cell_type": "code",
   "execution_count": null,
   "id": "5a1007b2",
   "metadata": {},
   "outputs": [],
   "source": []
  },
  {
   "cell_type": "code",
   "execution_count": 3,
   "id": "bdd92b89",
   "metadata": {},
   "outputs": [],
   "source": [
    "weight = 0.053523887413664886\n",
    "impures = 0.4"
   ]
  },
  {
   "cell_type": "code",
   "execution_count": null,
   "id": "0c482774",
   "metadata": {},
   "outputs": [],
   "source": []
  },
  {
   "cell_type": "code",
   "execution_count": 4,
   "id": "cd1a9850",
   "metadata": {},
   "outputs": [],
   "source": [
    "hmopr = np.load('saved_mopr_nystroem/hists.npy')\n",
    "emopr = np.load('saved_mopr_nystroem/extents.npy')"
   ]
  },
  {
   "cell_type": "code",
   "execution_count": 5,
   "id": "642e3949",
   "metadata": {},
   "outputs": [
    {
     "data": {
      "text/plain": [
       "(100, 100)"
      ]
     },
     "execution_count": 5,
     "metadata": {},
     "output_type": "execute_result"
    }
   ],
   "source": [
    "hmopr.shape"
   ]
  },
  {
   "cell_type": "code",
   "execution_count": 6,
   "id": "c96eb572",
   "metadata": {},
   "outputs": [
    {
     "data": {
      "text/plain": [
       "0.2135536715777786"
      ]
     },
     "execution_count": 6,
     "metadata": {},
     "output_type": "execute_result"
    }
   ],
   "source": [
    "nh.classification_extent(hmopr, cutoff=0.1, strategy='weighted',\n",
    "                        output_type='jm', operation=2, jm_lower=weight, jm_impure=impures)"
   ]
  },
  {
   "cell_type": "code",
   "execution_count": null,
   "id": "ebf7cf42",
   "metadata": {},
   "outputs": [],
   "source": []
  }
 ],
 "metadata": {
  "kernelspec": {
   "display_name": "Python 3 (ipykernel)",
   "language": "python",
   "name": "python3"
  },
  "language_info": {
   "codemirror_mode": {
    "name": "ipython",
    "version": 3
   },
   "file_extension": ".py",
   "mimetype": "text/x-python",
   "name": "python",
   "nbconvert_exporter": "python",
   "pygments_lexer": "ipython3",
   "version": "3.9.12"
  }
 },
 "nbformat": 4,
 "nbformat_minor": 5
}
