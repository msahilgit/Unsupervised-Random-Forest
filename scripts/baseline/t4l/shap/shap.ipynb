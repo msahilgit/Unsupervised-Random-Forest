{
 "cells": [
  {
   "cell_type": "code",
   "execution_count": 1,
   "id": "87dd5327",
   "metadata": {},
   "outputs": [],
   "source": [
    "import copy as cp\n",
    "import numpy as np\n",
    "import matplotlib as mt\n",
    "import matplotlib.pyplot as plt \n",
    "from matplotlib.ticker import AutoMinorLocator, MaxNLocator\n",
    "import sklearn as skl\n",
    "import pickle as pkl\n",
    "import shap\n",
    "from tqdm import tqdm"
   ]
  },
  {
   "cell_type": "code",
   "execution_count": 2,
   "id": "2d59e380",
   "metadata": {},
   "outputs": [],
   "source": [
    "import sys\n",
    "sys.path.append('../../0_python_modules/')\n",
    "import extras\n",
    "import metrics\n",
    "import navjeet_hist as nh"
   ]
  },
  {
   "cell_type": "code",
   "execution_count": null,
   "id": "f1de6509",
   "metadata": {},
   "outputs": [],
   "source": []
  },
  {
   "cell_type": "code",
   "execution_count": null,
   "id": "8426a2c2",
   "metadata": {},
   "outputs": [],
   "source": []
  },
  {
   "cell_type": "markdown",
   "id": "d47094ba",
   "metadata": {},
   "source": [
    "## f1 supervised"
   ]
  },
  {
   "cell_type": "code",
   "execution_count": 3,
   "id": "7a0bd0cb",
   "metadata": {},
   "outputs": [],
   "source": [
    "randoms = np.loadtxt('../../1_datasets/randoms.txt', dtype=int)"
   ]
  },
  {
   "cell_type": "code",
   "execution_count": 7,
   "id": "cedd6d66",
   "metadata": {},
   "outputs": [],
   "source": [
    "asupervised = np.load('../saved_supervised/accu_supervised.npy')"
   ]
  },
  {
   "cell_type": "code",
   "execution_count": 8,
   "id": "40a2e0fd",
   "metadata": {},
   "outputs": [
    {
     "data": {
      "text/plain": [
       "0.9507870754873124"
      ]
     },
     "execution_count": 8,
     "metadata": {},
     "output_type": "execute_result"
    }
   ],
   "source": [
    "asupervised = np.mean(asupervised[:,1])\n",
    "asupervised"
   ]
  },
  {
   "cell_type": "code",
   "execution_count": 52,
   "id": "ec3aa744",
   "metadata": {},
   "outputs": [],
   "source": [
    "isupervised = [np.load(f'../saved_supervised/fimp_supervised_{i}.npy').argsort()[::-1] for i in range(5)]"
   ]
  },
  {
   "cell_type": "code",
   "execution_count": 197,
   "id": "02fa00ae",
   "metadata": {},
   "outputs": [],
   "source": [
    "fsupervised = [np.load(f'../saved_supervised/fimp_supervised_{i}.npy') for i in range(5)]\n",
    "fsupervised = np.mean(fsupervised, axis=0), np.std(fsupervised, axis=0)"
   ]
  },
  {
   "cell_type": "code",
   "execution_count": null,
   "id": "f5ddbb5e",
   "metadata": {},
   "outputs": [],
   "source": []
  },
  {
   "cell_type": "code",
   "execution_count": 53,
   "id": "1182b57d",
   "metadata": {},
   "outputs": [],
   "source": [
    "ipermute = [np.load(f'../saved_furf/fimp_hlabel2_{i}.npy').argsort()[::-1] for i in range(5)]"
   ]
  },
  {
   "cell_type": "code",
   "execution_count": null,
   "id": "eccfa6d7",
   "metadata": {},
   "outputs": [],
   "source": []
  },
  {
   "cell_type": "code",
   "execution_count": 89,
   "id": "6b9358ff",
   "metadata": {},
   "outputs": [],
   "source": [
    "irandom = []\n",
    "for i in randoms:\n",
    "    np.random.seed(i)\n",
    "    ff = np.random.random(size=isupervised[0].shape[0])\n",
    "    ff = ff/ff.sum()\n",
    "    irandom.append(ff.argsort()[::-1])\n",
    "irandom = np.array(irandom)"
   ]
  },
  {
   "cell_type": "code",
   "execution_count": 220,
   "id": "d92f6199",
   "metadata": {},
   "outputs": [],
   "source": [
    "np.save('saved_fimp/irandom.npy', irandom)"
   ]
  },
  {
   "cell_type": "code",
   "execution_count": null,
   "id": "7763dbf9",
   "metadata": {},
   "outputs": [],
   "source": []
  },
  {
   "cell_type": "code",
   "execution_count": 100,
   "id": "e9556218",
   "metadata": {},
   "outputs": [],
   "source": [
    "srandom_supervised = np.zeros((755, 2)) + np.nan\n",
    "for f in range(1,755+1):\n",
    "    cc = []\n",
    "    for i in range(5):\n",
    "        ii = irandom[i][:f]\n",
    "        for j in range(5):\n",
    "            jj = isupervised[j][:f]\n",
    "            cc.append(np.intersect1d(ii,jj).shape[0])\n",
    "    srandom_supervised[f-1] = [np.mean(cc), np.std(cc)]"
   ]
  },
  {
   "cell_type": "code",
   "execution_count": 101,
   "id": "cd72999e",
   "metadata": {},
   "outputs": [],
   "source": [
    "srandom_permute = np.zeros((755, 2)) + np.nan\n",
    "for f in range(1,755+1):\n",
    "    cc = []\n",
    "    for i in range(5):\n",
    "        ii = irandom[i][:f]\n",
    "        for j in range(5):\n",
    "            jj = ipermute[j][:f]\n",
    "            cc.append(np.intersect1d(ii,jj).shape[0])\n",
    "    srandom_permute[f-1] = [np.mean(cc), np.std(cc)]"
   ]
  },
  {
   "cell_type": "code",
   "execution_count": null,
   "id": "295a4cb9",
   "metadata": {},
   "outputs": [],
   "source": []
  },
  {
   "cell_type": "markdown",
   "id": "8d4cbd79",
   "metadata": {},
   "source": [
    "# train_loo"
   ]
  },
  {
   "cell_type": "code",
   "execution_count": 4,
   "id": "0ec4fdae",
   "metadata": {},
   "outputs": [],
   "source": [
    "atrain = np.concatenate(([ np.load(f'1_train_loo/saved_training/accu{i}_test.npy')[:,:,1] for i in range(1,5) ]))"
   ]
  },
  {
   "cell_type": "code",
   "execution_count": 9,
   "id": "4487c8df",
   "metadata": {},
   "outputs": [],
   "source": [
    "atrain = asupervised - atrain"
   ]
  },
  {
   "cell_type": "code",
   "execution_count": 59,
   "id": "d7346c41",
   "metadata": {},
   "outputs": [],
   "source": [
    "itrain = [atrain[:,i].argsort()[::-1] for i in range(5)]"
   ]
  },
  {
   "cell_type": "code",
   "execution_count": 221,
   "id": "2e33ea7d",
   "metadata": {},
   "outputs": [],
   "source": [
    "np.save('saved_fimp/itrain.npy', itrain)"
   ]
  },
  {
   "cell_type": "code",
   "execution_count": null,
   "id": "049fcb1d",
   "metadata": {},
   "outputs": [],
   "source": []
  },
  {
   "cell_type": "code",
   "execution_count": 107,
   "id": "9f279923",
   "metadata": {},
   "outputs": [],
   "source": [
    "strain_supervised = np.zeros((755,2)) + np.nan\n",
    "for f in range(1,755+1):\n",
    "    cc = []\n",
    "    for i in range(5):\n",
    "        ii = itrain[i][:f]\n",
    "        for j in range(5):\n",
    "            jj = isupervised[j][:f]\n",
    "            cc.append(np.intersect1d(ii,jj).shape[0])\n",
    "    strain_supervised[f-1] = [np.mean(cc), np.std(cc)]"
   ]
  },
  {
   "cell_type": "code",
   "execution_count": 108,
   "id": "aa37a6ff",
   "metadata": {},
   "outputs": [],
   "source": [
    "strain_permute = np.zeros((755,2)) + np.nan\n",
    "for f in range(1,755+1):\n",
    "    cc = []\n",
    "    for i in range(5):\n",
    "        ii = itrain[i][:f]\n",
    "        for j in range(5):\n",
    "            jj = ipermute[j][:f]\n",
    "            cc.append(np.intersect1d(ii,jj).shape[0])\n",
    "    strain_permute[f-1] = [np.mean(cc), np.std(cc)]"
   ]
  },
  {
   "cell_type": "code",
   "execution_count": null,
   "id": "86b10929",
   "metadata": {},
   "outputs": [],
   "source": []
  },
  {
   "cell_type": "code",
   "execution_count": null,
   "id": "f967fce9",
   "metadata": {},
   "outputs": [],
   "source": []
  },
  {
   "cell_type": "markdown",
   "id": "c0eaa5dd",
   "metadata": {},
   "source": [
    "## predict_loo"
   ]
  },
  {
   "cell_type": "code",
   "execution_count": 73,
   "id": "7c9e4ec5",
   "metadata": {},
   "outputs": [],
   "source": [
    "apredict = np.array([ np.load(f'2_predict_loo/saved_predict/accu_test_{i}.npy')[:,:,1] for i in [-1,10] ])"
   ]
  },
  {
   "cell_type": "code",
   "execution_count": 76,
   "id": "fe6eb25e",
   "metadata": {},
   "outputs": [],
   "source": [
    "apredict = np.mean(apredict, axis=0)"
   ]
  },
  {
   "cell_type": "code",
   "execution_count": 78,
   "id": "4c86fc6e",
   "metadata": {},
   "outputs": [],
   "source": [
    "apredict = asupervised - apredict"
   ]
  },
  {
   "cell_type": "code",
   "execution_count": 83,
   "id": "5ff37745",
   "metadata": {},
   "outputs": [
    {
     "data": {
      "text/plain": [
       "[<matplotlib.lines.Line2D at 0x7f60064b2eb0>]"
      ]
     },
     "execution_count": 83,
     "metadata": {},
     "output_type": "execute_result"
    },
    {
     "data": {
      "image/png": "[encoded data removed]",
      "text/plain": [
       "<Figure size 432x288 with 1 Axes>"
      ]
     },
     "metadata": {
      "needs_background": "light"
     },
     "output_type": "display_data"
    }
   ],
   "source": [
    "plt.plot(apredict[2])"
   ]
  },
  {
   "cell_type": "code",
   "execution_count": 84,
   "id": "291de200",
   "metadata": {},
   "outputs": [],
   "source": [
    "ipredict = [i.argsort()[::-1] for i in apredict]"
   ]
  },
  {
   "cell_type": "code",
   "execution_count": 222,
   "id": "f311eb99",
   "metadata": {},
   "outputs": [],
   "source": [
    "np.save('saved_fimp/ipredict.npy', ipredict)"
   ]
  },
  {
   "cell_type": "code",
   "execution_count": null,
   "id": "9f0077da",
   "metadata": {},
   "outputs": [],
   "source": []
  },
  {
   "cell_type": "code",
   "execution_count": 109,
   "id": "2bf716f7",
   "metadata": {},
   "outputs": [],
   "source": [
    "spredict_supervised = np.zeros((755,2)) + np.nan\n",
    "for f in range(1,755+1):\n",
    "    cc = []\n",
    "    for i in range(5):\n",
    "        ii = ipredict[i][:f]\n",
    "        for j in range(5):\n",
    "            jj = isupervised[j][:f]\n",
    "            cc.append(np.intersect1d(ii,jj).shape[0])\n",
    "    spredict_supervised[f-1] = [np.mean(cc), np.std(cc)]"
   ]
  },
  {
   "cell_type": "code",
   "execution_count": 110,
   "id": "0621a2a5",
   "metadata": {},
   "outputs": [],
   "source": [
    "spredict_permute = np.zeros((755,2)) + np.nan\n",
    "for f in range(1,755+1):\n",
    "    cc = []\n",
    "    for i in range(5):\n",
    "        ii = ipredict[i][:f]\n",
    "        for j in range(5):\n",
    "            jj = ipermute[j][:f]\n",
    "            cc.append(np.intersect1d(ii,jj).shape[0])\n",
    "    spredict_permute[f-1] = [np.mean(cc), np.std(cc)]"
   ]
  },
  {
   "cell_type": "code",
   "execution_count": null,
   "id": "b77ecffc",
   "metadata": {},
   "outputs": [],
   "source": []
  },
  {
   "cell_type": "code",
   "execution_count": null,
   "id": "09f978db",
   "metadata": {},
   "outputs": [],
   "source": []
  },
  {
   "cell_type": "code",
   "execution_count": null,
   "id": "54bad47e",
   "metadata": {},
   "outputs": [],
   "source": []
  },
  {
   "cell_type": "code",
   "execution_count": null,
   "id": "3500ad3c",
   "metadata": {},
   "outputs": [],
   "source": []
  },
  {
   "cell_type": "markdown",
   "id": "d2c1201b",
   "metadata": {},
   "source": [
    "## shap"
   ]
  },
  {
   "cell_type": "code",
   "execution_count": 198,
   "id": "c657e219",
   "metadata": {},
   "outputs": [],
   "source": [
    "fshap = [\n",
    "    np.mean( np.abs(np.load(f'3_shap/saved_shap/shap_values_supervised{i}.npy')), axis=0)\n",
    "for i in range(5)]"
   ]
  },
  {
   "cell_type": "code",
   "execution_count": 199,
   "id": "8d422de2",
   "metadata": {},
   "outputs": [],
   "source": [
    "ishap = [\n",
    "    i.argsort()[::-1]\n",
    "for i in fshap]"
   ]
  },
  {
   "cell_type": "code",
   "execution_count": 223,
   "id": "be2ab80d",
   "metadata": {},
   "outputs": [],
   "source": [
    "np.save('saved_fimp/ishap.npy', ishap)"
   ]
  },
  {
   "cell_type": "code",
   "execution_count": 203,
   "id": "0f007cea",
   "metadata": {},
   "outputs": [],
   "source": [
    "fshap = np.mean(fshap, axis=0), np.std(fshap, axis=0)"
   ]
  },
  {
   "cell_type": "code",
   "execution_count": null,
   "id": "5d0f1a19",
   "metadata": {},
   "outputs": [],
   "source": []
  },
  {
   "cell_type": "code",
   "execution_count": 166,
   "id": "1957a8fe",
   "metadata": {},
   "outputs": [],
   "source": [
    "sshap_supervised = np.zeros((755,2)) + np.nan\n",
    "for f in range(1,755+1):\n",
    "    cc = []\n",
    "    for i in range(5):\n",
    "        ii = ishap[i][:f]\n",
    "        for j in range(5):\n",
    "            jj = isupervised[j][:f]\n",
    "            cc.append(np.intersect1d(ii,jj).shape[0])\n",
    "    sshap_supervised[f-1] = [np.mean(cc), np.std(cc)]"
   ]
  },
  {
   "cell_type": "code",
   "execution_count": 167,
   "id": "cb1f5bd6",
   "metadata": {},
   "outputs": [],
   "source": [
    "sshap_permute = np.zeros((755,2)) + np.nan\n",
    "for f in range(1,755+1):\n",
    "    cc = []\n",
    "    for i in range(5):\n",
    "        ii = ishap[i][:f]\n",
    "        for j in range(5):\n",
    "            jj = ipermute[j][:f]\n",
    "            cc.append(np.intersect1d(ii,jj).shape[0])\n",
    "    sshap_permute[f-1] = [np.mean(cc), np.std(cc)]"
   ]
  },
  {
   "cell_type": "code",
   "execution_count": null,
   "id": "6dd574e8",
   "metadata": {},
   "outputs": [],
   "source": []
  },
  {
   "cell_type": "code",
   "execution_count": 114,
   "id": "e1354794",
   "metadata": {},
   "outputs": [],
   "source": [
    "ashap = np.load('3_shap/saved_shap/shap_values_supervised0.npy')"
   ]
  },
  {
   "cell_type": "code",
   "execution_count": 155,
   "id": "193ff239",
   "metadata": {},
   "outputs": [
    {
     "data": {
      "image/png": "[encoded data removed]",
      "text/plain": [
       "<Figure size 576x684 with 1 Axes>"
      ]
     },
     "metadata": {
      "needs_background": "light"
     },
     "output_type": "display_data"
    }
   ],
   "source": [
    "shap.summary_plot(ashap, plot_type='dot')"
   ]
  },
  {
   "cell_type": "code",
   "execution_count": null,
   "id": "820ff02a",
   "metadata": {},
   "outputs": [],
   "source": []
  },
  {
   "cell_type": "code",
   "execution_count": null,
   "id": "14ca59d0",
   "metadata": {},
   "outputs": [],
   "source": []
  },
  {
   "cell_type": "code",
   "execution_count": 181,
   "id": "53dc9b67",
   "metadata": {},
   "outputs": [
    {
     "data": {
      "image/png": "[encoded data removed]",
      "text/plain": [
       "<Figure size 576x432 with 1 Axes>"
      ]
     },
     "metadata": {
      "needs_background": "light"
     },
     "output_type": "display_data"
    }
   ],
   "source": [
    "fig,ax=plt.subplots(figsize=(8,6))\n",
    "ax.plot(range(1,756), ls='--', c='black', lw=2)\n",
    "ax.plot([200,200],[0,700], lw=2, ls='--', c='teal')\n",
    "plt.errorbar(range(1,756), srandom_supervised[:,0], yerr=srandom_supervised[:,1], c='gray')\n",
    "plt.errorbar(range(1,756), sshap_supervised[:,0], yerr=sshap_supervised[:,1], c='crimson')\n",
    "plt.errorbar(range(1,756), strain_supervised[:,0], yerr=strain_supervised[:,1], c='dodgerblue')\n",
    "plt.errorbar(range(1,756), spredict_supervised[:,0], yerr=spredict_supervised[:,1], c='green')\n",
    "#\n",
    "ax.set_xlim(0,756)\n",
    "ax.set_ylim(0,756)\n",
    "ax.set_yticks([0,350,700])\n",
    "ax.set_xticks([0,350,700])\n",
    "ax.spines[:].set_linewidth(2)\n",
    "ax.xaxis.set_minor_locator(AutoMinorLocator(7))\n",
    "ax.yaxis.set_minor_locator(AutoMinorLocator(7))\n",
    "ax.tick_params(labelsize=22, length=7, width=2, )\n",
    "ax.tick_params(which='minor', length=4, width=2)\n",
    "plt.savefig(f'plots/nfeatures_supervised.pdf')\n",
    "plt.show()"
   ]
  },
  {
   "cell_type": "code",
   "execution_count": 184,
   "id": "4d03436f",
   "metadata": {},
   "outputs": [
    {
     "data": {
      "text/plain": [
       "array([181.6       ,   1.49666295])"
      ]
     },
     "execution_count": 184,
     "metadata": {},
     "output_type": "execute_result"
    }
   ],
   "source": [
    "sshap_supervised[199]"
   ]
  },
  {
   "cell_type": "code",
   "execution_count": null,
   "id": "46ffba83",
   "metadata": {},
   "outputs": [],
   "source": []
  },
  {
   "cell_type": "code",
   "execution_count": 182,
   "id": "0d8599f2",
   "metadata": {},
   "outputs": [
    {
     "data": {
      "image/png": "[encoded data removed]",
      "text/plain": [
       "<Figure size 576x432 with 1 Axes>"
      ]
     },
     "metadata": {
      "needs_background": "light"
     },
     "output_type": "display_data"
    }
   ],
   "source": [
    "fig,ax=plt.subplots(figsize=(8,6))\n",
    "ax.plot(range(1,756), ls='--', c='black', lw=2)\n",
    "ax.plot([200,200],[0,700], lw=2, ls='--', c='teal')\n",
    "plt.errorbar(range(1,756), srandom_permute[:,0], yerr=srandom_permute[:,1], c='gray')\n",
    "plt.errorbar(range(1,756), sshap_permute[:,0], yerr=sshap_permute[:,1], c='crimson')\n",
    "plt.errorbar(range(1,756), strain_permute[:,0], yerr=strain_permute[:,1], c='dodgerblue')\n",
    "plt.errorbar(range(1,756), spredict_permute[:,0], yerr=spredict_permute[:,1], c='green')\n",
    "#\n",
    "ax.set_xlim(0,756)\n",
    "ax.set_ylim(0,756)\n",
    "ax.set_yticks([0,350,700])\n",
    "ax.set_xticks([0,350,700])\n",
    "ax.spines[:].set_linewidth(2)\n",
    "ax.xaxis.set_minor_locator(AutoMinorLocator(7))\n",
    "ax.yaxis.set_minor_locator(AutoMinorLocator(7))\n",
    "ax.tick_params(labelsize=22, length=7, width=2, )\n",
    "ax.tick_params(which='minor', length=4, width=2)\n",
    "plt.savefig(f'plots/nfeatures_permute.pdf')\n",
    "plt.show()"
   ]
  },
  {
   "cell_type": "code",
   "execution_count": 192,
   "id": "3bcee680",
   "metadata": {},
   "outputs": [
    {
     "data": {
      "text/plain": [
       "array([140.04      ,   2.90489242])"
      ]
     },
     "execution_count": 192,
     "metadata": {},
     "output_type": "execute_result"
    }
   ],
   "source": [
    "sshap_permute[199]"
   ]
  },
  {
   "cell_type": "code",
   "execution_count": null,
   "id": "334842fa",
   "metadata": {},
   "outputs": [],
   "source": []
  },
  {
   "cell_type": "code",
   "execution_count": null,
   "id": "f8398f76",
   "metadata": {},
   "outputs": [],
   "source": []
  },
  {
   "cell_type": "code",
   "execution_count": 218,
   "id": "cfaa0038",
   "metadata": {},
   "outputs": [
    {
     "data": {
      "image/png": "[encoded data removed]",
      "text/plain": [
       "<Figure size 576x432 with 1 Axes>"
      ]
     },
     "metadata": {
      "needs_background": "light"
     },
     "output_type": "display_data"
    }
   ],
   "source": [
    "fig,ax=plt.subplots(figsize=(8,6))\n",
    "ax.errorbar(fsupervised[0], fshap[0], fmt='o', ms=10, c='crimson',\n",
    "           xerr=fsupervised[1], yerr=fshap[1], ecolor='black')\n",
    "#\n",
    "ax.set_yticks([0,0.009,0.018])\n",
    "ax.set_xticks([0,0.03,0.06])\n",
    "ax.spines[:].set_linewidth(2)\n",
    "ax.xaxis.set_minor_locator(AutoMinorLocator(3))\n",
    "ax.yaxis.set_minor_locator(AutoMinorLocator(3))\n",
    "ax.tick_params(labelsize=22, length=7, width=2, )\n",
    "ax.tick_params(which='minor', length=4, width=2)\n",
    "plt.savefig(f'plots/fimp_shap_supervised.pdf')\n",
    "plt.show()"
   ]
  },
  {
   "cell_type": "code",
   "execution_count": null,
   "id": "7213f875",
   "metadata": {},
   "outputs": [],
   "source": []
  },
  {
   "cell_type": "code",
   "execution_count": null,
   "id": "eb88f5a3",
   "metadata": {},
   "outputs": [],
   "source": []
  },
  {
   "cell_type": "code",
   "execution_count": null,
   "id": "2d23e352",
   "metadata": {},
   "outputs": [],
   "source": []
  },
  {
   "cell_type": "markdown",
   "id": "5c3163df",
   "metadata": {},
   "source": [
    "## hists"
   ]
  },
  {
   "cell_type": "code",
   "execution_count": 3,
   "id": "e1fac070",
   "metadata": {},
   "outputs": [],
   "source": [
    "hrandom = np.load('saved_fimp/hists_irandom.npy')\n",
    "htrain = np.load('saved_fimp/hists_itrain.npy')\n",
    "hpredict = np.load('saved_fimp/hists_ipredict.npy')\n",
    "hshap = np.load('saved_fimp/hists_ishap.npy')"
   ]
  },
  {
   "cell_type": "code",
   "execution_count": 4,
   "id": "ce03b931",
   "metadata": {},
   "outputs": [],
   "source": [
    "erandom = np.load('saved_fimp/extents_irandom.npy')\n",
    "etrain = np.load('saved_fimp/extents_itrain.npy')\n",
    "epredict = np.load('saved_fimp/extents_ipredict.npy')\n",
    "eshap = np.load('saved_fimp/extents_ishap.npy')"
   ]
  },
  {
   "cell_type": "code",
   "execution_count": 5,
   "id": "a8fff335",
   "metadata": {},
   "outputs": [
    {
     "data": {
      "text/plain": [
       "0.06585091371181798"
      ]
     },
     "execution_count": 5,
     "metadata": {},
     "output_type": "execute_result"
    }
   ],
   "source": [
    "weight = np.loadtxt('../traj_specific_data/distances0.xvg', comments=['@','#'], usecols=[3])\n",
    "weight = np.where(weight<0.6)[0].shape[0] / weight.shape[0]\n",
    "weight"
   ]
  },
  {
   "cell_type": "code",
   "execution_count": 240,
   "id": "959978bf",
   "metadata": {},
   "outputs": [
    {
     "data": {
      "image/png": "[encoded data removed]",
      "text/plain": [
       "<Figure size 360x432 with 1 Axes>"
      ]
     },
     "metadata": {
      "needs_background": "light"
     },
     "output_type": "display_data"
    }
   ],
   "source": [
    "fig,ax = plt.subplots(1,figsize=(5,6))\n",
    "ax.spines[:].set_linewidth(2)\n",
    "ax.tick_params(length=8, width=2, labelsize=18)\n",
    "ax.xaxis.set_minor_locator(AutoMinorLocator(4))\n",
    "ax.yaxis.set_minor_locator(AutoMinorLocator(4))\n",
    "ax.yaxis.set_major_locator(mt.ticker.MaxNLocator(2))\n",
    "ax.xaxis.set_major_locator(mt.ticker.MaxNLocator(2))\n",
    "ax.tick_params(which='minor', length=5, width=2)\n",
    "i=4\n",
    "ax.imshow(hrandom[i].T, \n",
    "          aspect='auto', extent=erandom[i], origin='lower', interpolation='gaussian',\n",
    "          cmap='jet', vmin=0, vmax=1)\n",
    "# plt.savefig(f'plots/random{i}.pdf')\n",
    "plt.show()"
   ]
  },
  {
   "cell_type": "code",
   "execution_count": 245,
   "id": "e951272f",
   "metadata": {},
   "outputs": [
    {
     "data": {
      "image/png": "[encoded data removed]",
      "text/plain": [
       "<Figure size 360x432 with 1 Axes>"
      ]
     },
     "metadata": {
      "needs_background": "light"
     },
     "output_type": "display_data"
    }
   ],
   "source": [
    "fig,ax = plt.subplots(1,figsize=(5,6))\n",
    "ax.spines[:].set_linewidth(2)\n",
    "ax.tick_params(length=8, width=2, labelsize=18)\n",
    "ax.xaxis.set_minor_locator(AutoMinorLocator(4))\n",
    "ax.yaxis.set_minor_locator(AutoMinorLocator(4))\n",
    "ax.yaxis.set_major_locator(mt.ticker.MaxNLocator(2))\n",
    "ax.xaxis.set_major_locator(mt.ticker.MaxNLocator(2))\n",
    "ax.tick_params(which='minor', length=5, width=2)\n",
    "i=0\n",
    "ax.imshow(htrain[i].T, \n",
    "          aspect='auto', extent=etrain[i], origin='lower', interpolation='gaussian',\n",
    "          cmap='jet', vmin=0, vmax=1)\n",
    "# plt.savefig(f'plots/train{i}.pdf')\n",
    "plt.show()"
   ]
  },
  {
   "cell_type": "code",
   "execution_count": 250,
   "id": "5b18bcd8",
   "metadata": {},
   "outputs": [
    {
     "data": {
      "image/png": "[encoded data removed]",
      "text/plain": [
       "<Figure size 360x432 with 1 Axes>"
      ]
     },
     "metadata": {
      "needs_background": "light"
     },
     "output_type": "display_data"
    }
   ],
   "source": [
    "fig,ax = plt.subplots(1,figsize=(5,6))\n",
    "ax.spines[:].set_linewidth(2)\n",
    "ax.tick_params(length=8, width=2, labelsize=18)\n",
    "ax.xaxis.set_minor_locator(AutoMinorLocator(4))\n",
    "ax.yaxis.set_minor_locator(AutoMinorLocator(4))\n",
    "ax.yaxis.set_major_locator(mt.ticker.MaxNLocator(2))\n",
    "ax.xaxis.set_major_locator(mt.ticker.MaxNLocator(2))\n",
    "ax.tick_params(which='minor', length=5, width=2)\n",
    "i=4\n",
    "ax.imshow(hpredict[i].T, \n",
    "          aspect='auto', extent=epredict[i], origin='lower', interpolation='gaussian',\n",
    "          cmap='jet', vmin=0, vmax=1)\n",
    "# plt.savefig(f'plots/predict{i}.pdf')\n",
    "plt.show()"
   ]
  },
  {
   "cell_type": "code",
   "execution_count": 255,
   "id": "72eef8fe",
   "metadata": {},
   "outputs": [
    {
     "data": {
      "image/png": "[encoded data removed]",
      "text/plain": [
       "<Figure size 360x432 with 1 Axes>"
      ]
     },
     "metadata": {
      "needs_background": "light"
     },
     "output_type": "display_data"
    }
   ],
   "source": [
    "fig,ax = plt.subplots(1,figsize=(5,6))\n",
    "ax.spines[:].set_linewidth(2)\n",
    "ax.tick_params(length=8, width=2, labelsize=18)\n",
    "ax.xaxis.set_minor_locator(AutoMinorLocator(4))\n",
    "ax.yaxis.set_minor_locator(AutoMinorLocator(4))\n",
    "ax.yaxis.set_major_locator(mt.ticker.MaxNLocator(2))\n",
    "ax.xaxis.set_major_locator(mt.ticker.MaxNLocator(2))\n",
    "ax.tick_params(which='minor', length=5, width=2)\n",
    "i=4\n",
    "ax.imshow(hshap[i].T, \n",
    "          aspect='auto', extent=eshap[i], origin='lower', interpolation='gaussian',\n",
    "          cmap='jet', vmin=0, vmax=1)\n",
    "# plt.savefig(f'plots/shap{i}.pdf')\n",
    "plt.show()"
   ]
  },
  {
   "cell_type": "code",
   "execution_count": null,
   "id": "02bd179b",
   "metadata": {},
   "outputs": [],
   "source": []
  },
  {
   "cell_type": "code",
   "execution_count": 6,
   "id": "8d2e7bf0",
   "metadata": {},
   "outputs": [],
   "source": [
    "crandom = [nh.classification_extent(i, cutoff=0.1, strategy='weighted',\n",
    "                                   output_type='jm', operation=2, jm_lower=weight, jm_impure=0.44)\n",
    "          for i in hrandom]"
   ]
  },
  {
   "cell_type": "code",
   "execution_count": 7,
   "id": "bfa0e129",
   "metadata": {},
   "outputs": [],
   "source": [
    "ctrain = [nh.classification_extent(i, cutoff=0.1, strategy='weighted',\n",
    "                                   output_type='jm', operation=2, jm_lower=weight, jm_impure=0.44)\n",
    "          for i in htrain]"
   ]
  },
  {
   "cell_type": "code",
   "execution_count": 8,
   "id": "d743b377",
   "metadata": {},
   "outputs": [],
   "source": [
    "cpredict = [nh.classification_extent(i, cutoff=0.1, strategy='weighted',\n",
    "                                   output_type='jm', operation=2, jm_lower=weight, jm_impure=0.44)\n",
    "          for i in hpredict]"
   ]
  },
  {
   "cell_type": "code",
   "execution_count": 9,
   "id": "106a5efd",
   "metadata": {},
   "outputs": [],
   "source": [
    "cshap = [nh.classification_extent(i, cutoff=0.1, strategy='weighted',\n",
    "                                   output_type='jm', operation=2, jm_lower=weight, jm_impure=0.44)\n",
    "          for i in hshap]"
   ]
  },
  {
   "cell_type": "code",
   "execution_count": 10,
   "id": "e1125a01",
   "metadata": {},
   "outputs": [
    {
     "data": {
      "text/plain": [
       "[0.5182385232115668,\n",
       " 0.652717849581512,\n",
       " 0.6074801699095499,\n",
       " 0.11097630802499203,\n",
       " 0.16654376456241635]"
      ]
     },
     "execution_count": 10,
     "metadata": {},
     "output_type": "execute_result"
    }
   ],
   "source": [
    "crandom"
   ]
  },
  {
   "cell_type": "code",
   "execution_count": 11,
   "id": "b11b3992",
   "metadata": {},
   "outputs": [
    {
     "data": {
      "text/plain": [
       "[0.20180773998629245,\n",
       " 0.6674091355641534,\n",
       " 0.6165762646161954,\n",
       " 0.549591188869991,\n",
       " 0.7410003348512793]"
      ]
     },
     "execution_count": 11,
     "metadata": {},
     "output_type": "execute_result"
    }
   ],
   "source": [
    "ctrain"
   ]
  },
  {
   "cell_type": "code",
   "execution_count": 12,
   "id": "fef1a01d",
   "metadata": {},
   "outputs": [
    {
     "data": {
      "text/plain": [
       "[0.6212278962859582,\n",
       " 0.6690874212200548,\n",
       " 0.7249756862210704,\n",
       " 0.7914502272984739,\n",
       " 0.7180059491232647]"
      ]
     },
     "execution_count": 12,
     "metadata": {},
     "output_type": "execute_result"
    }
   ],
   "source": [
    "cpredict"
   ]
  },
  {
   "cell_type": "code",
   "execution_count": 13,
   "id": "054481ab",
   "metadata": {},
   "outputs": [
    {
     "data": {
      "text/plain": [
       "[0.7328929640304099,\n",
       " 0.7406952374645333,\n",
       " 0.7516511099225394,\n",
       " 0.7110402434499836,\n",
       " 0.7346443398919038]"
      ]
     },
     "execution_count": 13,
     "metadata": {},
     "output_type": "execute_result"
    }
   ],
   "source": [
    "cshap"
   ]
  },
  {
   "cell_type": "code",
   "execution_count": 14,
   "id": "39e696f0",
   "metadata": {},
   "outputs": [
    {
     "data": {
      "text/plain": [
       "0.41119132305800743"
      ]
     },
     "execution_count": 14,
     "metadata": {},
     "output_type": "execute_result"
    }
   ],
   "source": [
    "np.mean(crandom)"
   ]
  },
  {
   "cell_type": "code",
   "execution_count": 15,
   "id": "dc6597fa",
   "metadata": {},
   "outputs": [
    {
     "data": {
      "text/plain": [
       "0.2272905456030501"
      ]
     },
     "execution_count": 15,
     "metadata": {},
     "output_type": "execute_result"
    }
   ],
   "source": [
    "np.std(crandom)"
   ]
  },
  {
   "cell_type": "code",
   "execution_count": 18,
   "id": "74c09334",
   "metadata": {},
   "outputs": [
    {
     "data": {
      "text/plain": [
       "0.11364527280152505"
      ]
     },
     "execution_count": 18,
     "metadata": {},
     "output_type": "execute_result"
    }
   ],
   "source": [
    "sc.stats.sem(crandom)"
   ]
  },
  {
   "cell_type": "code",
   "execution_count": null,
   "id": "876705fc",
   "metadata": {},
   "outputs": [],
   "source": []
  },
  {
   "cell_type": "code",
   "execution_count": null,
   "id": "5ed731a2",
   "metadata": {},
   "outputs": [],
   "source": []
  }
 ],
 "metadata": {
  "kernelspec": {
   "display_name": "Python 3 (ipykernel)",
   "language": "python",
   "name": "python3"
  },
  "language_info": {
   "codemirror_mode": {
    "name": "ipython",
    "version": 3
   },
   "file_extension": ".py",
   "mimetype": "text/x-python",
   "name": "python",
   "nbconvert_exporter": "python",
   "pygments_lexer": "ipython3",
   "version": "3.9.12"
  }
 },
 "nbformat": 4,
 "nbformat_minor": 5
}
