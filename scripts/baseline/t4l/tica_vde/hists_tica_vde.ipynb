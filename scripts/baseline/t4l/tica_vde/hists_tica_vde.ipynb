{
 "cells": [
  {
   "cell_type": "code",
   "execution_count": 1,
   "id": "19dd001b",
   "metadata": {},
   "outputs": [],
   "source": [
    "import copy as cp\n",
    "import numpy as np\n",
    "import matplotlib as mt\n",
    "import matplotlib.pyplot as plt\n",
    "from matplotlib.ticker import AutoMinorLocator, MaxNLocator\n",
    "import sys\n",
    "sys.path.append('../0_python_modules/')\n",
    "import extras\n",
    "import navjeet_hist as nh"
   ]
  },
  {
   "cell_type": "code",
   "execution_count": null,
   "id": "7695695f",
   "metadata": {},
   "outputs": [],
   "source": []
  },
  {
   "cell_type": "code",
   "execution_count": 5,
   "id": "359ae5fc",
   "metadata": {},
   "outputs": [],
   "source": [
    "wt4l = 0.06586344576253769\n",
    "it4l = 0.44"
   ]
  },
  {
   "cell_type": "code",
   "execution_count": 4,
   "id": "7e6f26c3",
   "metadata": {},
   "outputs": [],
   "source": [
    "ht4l = np.load('saved_t4l/hists.npy')\n",
    "et4l = np.load('saved_t4l/extents.npy')"
   ]
  },
  {
   "cell_type": "code",
   "execution_count": 8,
   "id": "d9bbbd0b",
   "metadata": {},
   "outputs": [
    {
     "data": {
      "text/plain": [
       "[[0.88828010955323, 0.8412210256959805],\n",
       " [0.8188735570814079, 0.899672366506447]]"
      ]
     },
     "execution_count": 8,
     "metadata": {},
     "output_type": "execute_result"
    }
   ],
   "source": [
    "ct4l = [\n",
    "    [\n",
    "        nh.classification_extent(j, cutoff=0.1, strategy='weighted',\n",
    "                                output_type='jm', operation=2,\n",
    "                                jm_lower=wt4l, jm_impure=it4l)\n",
    "    for j in i]\n",
    "for i in ht4l]\n",
    "ct4l"
   ]
  },
  {
   "cell_type": "code",
   "execution_count": null,
   "id": "a5bcf79c",
   "metadata": {},
   "outputs": [],
   "source": []
  },
  {
   "cell_type": "code",
   "execution_count": null,
   "id": "6a3881b6",
   "metadata": {},
   "outputs": [],
   "source": []
  },
  {
   "cell_type": "code",
   "execution_count": 9,
   "id": "0f9ff6de",
   "metadata": {},
   "outputs": [],
   "source": [
    "wmopr = 0.053523887413664886\n",
    "imopr = 0.4"
   ]
  },
  {
   "cell_type": "code",
   "execution_count": 10,
   "id": "e3216ae1",
   "metadata": {},
   "outputs": [],
   "source": [
    "hmopr = np.load('saved_mopr/hists.npy')\n",
    "emopr = np.load('saved_mopr/extents.npy')"
   ]
  },
  {
   "cell_type": "code",
   "execution_count": 11,
   "id": "2c301c3f",
   "metadata": {},
   "outputs": [
    {
     "name": "stderr",
     "output_type": "stream",
     "text": [
      "/home/jmondal/msahil/softwares/miniconda3/envs/dtica/lib/python3.6/site-packages/numpy/core/fromnumeric.py:3373: RuntimeWarning: Mean of empty slice.\n",
      "  out=out, **kwargs)\n",
      "/home/jmondal/msahil/softwares/miniconda3/envs/dtica/lib/python3.6/site-packages/numpy/core/_methods.py:170: RuntimeWarning: invalid value encountered in double_scalars\n",
      "  ret = ret.dtype.type(ret / rcount)\n"
     ]
    },
    {
     "data": {
      "text/plain": [
       "[[0.5444980946023183, nan], [0.4185594332614389, 0.15222712729631166]]"
      ]
     },
     "execution_count": 11,
     "metadata": {},
     "output_type": "execute_result"
    }
   ],
   "source": [
    "cmopr = [\n",
    "    [\n",
    "        nh.classification_extent(j, cutoff=0.1, strategy='weighted',\n",
    "                                output_type='jm', operation=2,\n",
    "                                jm_lower=wmopr, jm_impure=imopr)\n",
    "    for j in i]\n",
    "for i in hmopr]\n",
    "cmopr"
   ]
  },
  {
   "cell_type": "code",
   "execution_count": null,
   "id": "e063bc0d",
   "metadata": {},
   "outputs": [],
   "source": []
  },
  {
   "cell_type": "code",
   "execution_count": null,
   "id": "d935d8fa",
   "metadata": {},
   "outputs": [],
   "source": []
  },
  {
   "cell_type": "code",
   "execution_count": 17,
   "id": "4a7d9927",
   "metadata": {},
   "outputs": [
    {
     "data": {
      "text/plain": [
       "<matplotlib.image.AxesImage at 0x7f65f59c1be0>"
      ]
     },
     "execution_count": 17,
     "metadata": {},
     "output_type": "execute_result"
    },
    {
     "data": {
      "image/png": "[encoded data removed]",
      "text/plain": [
       "<Figure size 432x288 with 1 Axes>"
      ]
     },
     "metadata": {
      "needs_background": "light"
     },
     "output_type": "display_data"
    }
   ],
   "source": [
    "plt.imshow(ht4l[1][1], vmin=0, vmax=1, cmap='jet',)"
   ]
  },
  {
   "cell_type": "code",
   "execution_count": 21,
   "id": "f3448383",
   "metadata": {},
   "outputs": [
    {
     "data": {
      "text/plain": [
       "<matplotlib.image.AxesImage at 0x7f65f5963780>"
      ]
     },
     "execution_count": 21,
     "metadata": {},
     "output_type": "execute_result"
    },
    {
     "data": {
      "image/png": "[encoded data removed]",
      "text/plain": [
       "<Figure size 432x288 with 1 Axes>"
      ]
     },
     "metadata": {
      "needs_background": "light"
     },
     "output_type": "display_data"
    }
   ],
   "source": [
    "plt.imshow(hmopr[0][0], vmin=0, vmax=1, cmap='jet',)"
   ]
  },
  {
   "cell_type": "code",
   "execution_count": null,
   "id": "3c1bf30c",
   "metadata": {},
   "outputs": [],
   "source": []
  }
 ],
 "metadata": {
  "kernelspec": {
   "display_name": "Python 3",
   "language": "python",
   "name": "python3"
  },
  "language_info": {
   "codemirror_mode": {
    "name": "ipython",
    "version": 3
   },
   "file_extension": ".py",
   "mimetype": "text/x-python",
   "name": "python",
   "nbconvert_exporter": "python",
   "pygments_lexer": "ipython3",
   "version": "3.6.13"
  }
 },
 "nbformat": 4,
 "nbformat_minor": 5
}
