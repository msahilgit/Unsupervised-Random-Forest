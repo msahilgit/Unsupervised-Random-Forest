{
 "cells": [
  {
   "cell_type": "code",
   "execution_count": 1,
   "id": "81ed6aff",
   "metadata": {},
   "outputs": [],
   "source": [
    "import numpy as np\n",
    "import matplotlib as mt\n",
    "import matplotlib.pyplot as plt\n",
    "from matplotlib.ticker import AutoMinorLocator, MaxNLocator\n",
    "import sys\n",
    "sys.path.append('../0_python_modules/')\n",
    "import extras\n",
    "import navjeet_hist as nh"
   ]
  },
  {
   "cell_type": "code",
   "execution_count": null,
   "id": "bc574196",
   "metadata": {},
   "outputs": [],
   "source": []
  },
  {
   "cell_type": "code",
   "execution_count": 2,
   "id": "9d5df99e",
   "metadata": {},
   "outputs": [],
   "source": [
    "weight = 0.06586344576253769\n",
    "impures = 0.44"
   ]
  },
  {
   "cell_type": "code",
   "execution_count": null,
   "id": "5eb6eb05",
   "metadata": {},
   "outputs": [],
   "source": []
  },
  {
   "cell_type": "code",
   "execution_count": 3,
   "id": "58798438",
   "metadata": {},
   "outputs": [],
   "source": [
    "hot = np.load('saved_others/hists.npy')\n",
    "eot = np.load('saved_others/extents.npy')"
   ]
  },
  {
   "cell_type": "code",
   "execution_count": 5,
   "id": "460b7d2c",
   "metadata": {},
   "outputs": [
    {
     "data": {
      "text/plain": [
       "(3, 3, 100, 100)"
      ]
     },
     "execution_count": 5,
     "metadata": {},
     "output_type": "execute_result"
    }
   ],
   "source": [
    "hot.shape"
   ]
  },
  {
   "cell_type": "code",
   "execution_count": null,
   "id": "e9b25e53",
   "metadata": {},
   "outputs": [],
   "source": []
  },
  {
   "cell_type": "code",
   "execution_count": 7,
   "id": "bd470737",
   "metadata": {},
   "outputs": [
    {
     "data": {
      "text/plain": [
       "[[0.7758319500528005, 0.7666928334328499, 0.7799956244351836],\n",
       " [0.6046377455173303, 0.7739450269912138, 0.4425761067204702],\n",
       " [0.3579876490475152, 0.7782710401170994, 0.7522922599266698]]"
      ]
     },
     "execution_count": 7,
     "metadata": {},
     "output_type": "execute_result"
    }
   ],
   "source": [
    "cot = [\n",
    "    [\n",
    "        nh.classification_extent(j, cutoff=0.1, strategy='weighted',\n",
    "                                output_type='jm', operation=2,\n",
    "                                jm_lower=weight, jm_impure=impures)\n",
    "    for j in i]\n",
    "for i in hot]\n",
    "cot"
   ]
  },
  {
   "cell_type": "code",
   "execution_count": null,
   "id": "50c8220d",
   "metadata": {},
   "outputs": [],
   "source": []
  },
  {
   "cell_type": "code",
   "execution_count": 8,
   "id": "7a92602e",
   "metadata": {},
   "outputs": [],
   "source": [
    "ht4l = np.load('saved_t4l_nystroem/hists.npy')"
   ]
  },
  {
   "cell_type": "code",
   "execution_count": 10,
   "id": "a262bca9",
   "metadata": {},
   "outputs": [
    {
     "data": {
      "text/plain": [
       "0.769841357336073"
      ]
     },
     "execution_count": 10,
     "metadata": {},
     "output_type": "execute_result"
    }
   ],
   "source": [
    "nh.classification_extent(ht4l, cutoff=0.1, strategy='weighted',\n",
    "                                output_type='jm', operation=2,\n",
    "                                jm_lower=weight, jm_impure=impures)"
   ]
  },
  {
   "cell_type": "code",
   "execution_count": null,
   "id": "79a33ea4",
   "metadata": {},
   "outputs": [],
   "source": []
  }
 ],
 "metadata": {
  "kernelspec": {
   "display_name": "Python 3 (ipykernel)",
   "language": "python",
   "name": "python3"
  },
  "language_info": {
   "codemirror_mode": {
    "name": "ipython",
    "version": 3
   },
   "file_extension": ".py",
   "mimetype": "text/x-python",
   "name": "python",
   "nbconvert_exporter": "python",
   "pygments_lexer": "ipython3",
   "version": "3.9.12"
  }
 },
 "nbformat": 4,
 "nbformat_minor": 5
}
