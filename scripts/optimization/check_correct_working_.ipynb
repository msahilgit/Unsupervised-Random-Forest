{
 "cells": [
  {
   "cell_type": "code",
   "execution_count": 1,
   "id": "cc045ff6",
   "metadata": {},
   "outputs": [],
   "source": [
    "import copy as cp\n",
    "import numpy as np\n",
    "np.bool = np.bool_\n",
    "import matplotlib as mt\n",
    "import matplotlib.pyplot as plt\n",
    "from matplotlib.ticker import AutoMinorLocator, MaxNLocator\n",
    "import pyemma.coordinates as coor\n",
    "import pyemma.plots as mplt\n",
    "import pyemma\n",
    "import pickle as pkl\n",
    "import sklearn as skl\n",
    "from sklearn.model_selection import train_test_split as splt\n",
    "from sklearn.ensemble import RandomForestClassifier as rfc\n",
    "from sklearn.metrics import accuracy_score as acc, confusion_matrix as cfm\n",
    "import sys, os\n",
    "sys.path.append('../0_python_modules/')\n",
    "import navjeet_hist as nh\n",
    "import metrics\n",
    "import extras\n",
    "from model import unsupervised_random_forest as urf"
   ]
  },
  {
   "cell_type": "code",
   "execution_count": 2,
   "id": "28e575ff",
   "metadata": {},
   "outputs": [],
   "source": [
    "import warnings\n",
    "warnings.filterwarnings(\"ignore\", message=\"Call to deprecated function\")\n",
    "warnings.filterwarnings(\"ignore\", category=RuntimeWarning)"
   ]
  },
  {
   "cell_type": "code",
   "execution_count": 3,
   "id": "bdbb50b5",
   "metadata": {},
   "outputs": [],
   "source": [
    "def clusters(hc, nids=range(2,11)):\n",
    "    for h in nids:\n",
    "        hl=extras.get_hc_dtraj(hc, nids=h)\n",
    "        print(h,_clusters(hl))\n",
    "def _clusters(hl):\n",
    "    return {i:np.where(hl==i)[0].shape[0] for i in np.unique(hl)}"
   ]
  },
  {
   "cell_type": "code",
   "execution_count": null,
   "id": "a1d1dcd2",
   "metadata": {},
   "outputs": [],
   "source": []
  },
  {
   "cell_type": "code",
   "execution_count": 5,
   "id": "5ce081d2",
   "metadata": {},
   "outputs": [],
   "source": [
    "traj_data = [np.load(f'../2_jctc_urf/traj_specific_data/features_{i}.npy') for i in range(6)]\n",
    "dists0 = np.loadtxt(f'../2_jctc_urf/traj_specific_data/distances0.xvg', comments=['@','#'], usecols=[3])"
   ]
  },
  {
   "cell_type": "code",
   "execution_count": 6,
   "id": "3db44d75",
   "metadata": {},
   "outputs": [],
   "source": [
    "t4l_impure=0.44\n",
    "t4l_weight = np.where(dists0<=0.6)[0].shape[0]/dists0.shape[0]"
   ]
  },
  {
   "cell_type": "code",
   "execution_count": null,
   "id": "d6560088",
   "metadata": {},
   "outputs": [],
   "source": []
  },
  {
   "cell_type": "markdown",
   "id": "070bd6a9",
   "metadata": {},
   "source": [
    "## pmt_alg = ef"
   ]
  },
  {
   "cell_type": "code",
   "execution_count": 5,
   "id": "3d96f6a7",
   "metadata": {},
   "outputs": [
    {
     "name": "stdout",
     "output_type": "stream",
     "text": [
      "2 {0: 4933, 1: 10479}\n",
      "3 {0: 4933, 1: 5, 2: 10474}\n",
      "4 {0: 4933, 1: 5, 2: 1, 3: 10473}\n",
      "5 {0: 4933, 1: 5, 2: 1, 3: 2, 4: 10471}\n",
      "6 {0: 5, 1: 1, 2: 2, 3: 10471, 4: 4843, 5: 90}\n",
      "7 {0: 5, 1: 1, 2: 2, 3: 10471, 4: 4843, 5: 3, 6: 87}\n",
      "8 {0: 1, 1: 2, 2: 10471, 3: 4843, 4: 3, 5: 87, 6: 3, 7: 2}\n",
      "9 {0: 1, 1: 2, 2: 10471, 3: 4843, 4: 3, 5: 3, 6: 2, 7: 1, 8: 86}\n",
      "10 {0: 1, 1: 2, 2: 4843, 3: 3, 4: 3, 5: 2, 6: 1, 7: 86, 8: 3, 9: 10468}\n"
     ]
    }
   ],
   "source": [
    "clusters(np.load('../2_jctc_urf/saved_data_size_pmt/hc_permute_1.npy'))"
   ]
  },
  {
   "cell_type": "code",
   "execution_count": 20,
   "id": "b53a0189",
   "metadata": {},
   "outputs": [
    {
     "data": {
      "text/plain": [
       "{0: 4971, 1: 10441}"
      ]
     },
     "execution_count": 20,
     "metadata": {},
     "output_type": "execute_result"
    }
   ],
   "source": [
    "_clusters(np.load('1_ef2/saved_ef/dtrj_0.1.npy'))"
   ]
  },
  {
   "cell_type": "code",
   "execution_count": null,
   "id": "0cbece2e",
   "metadata": {},
   "outputs": [],
   "source": []
  },
  {
   "cell_type": "code",
   "execution_count": 36,
   "id": "ed44d0cc",
   "metadata": {},
   "outputs": [
    {
     "data": {
      "application/json": {
       "ascii": false,
       "bar_format": null,
       "colour": null,
       "elapsed": 0.003654003143310547,
       "initial": 0,
       "n": 0,
       "ncols": 158,
       "nrows": 37,
       "postfix": null,
       "prefix": "calculate covariances",
       "rate": null,
       "total": 11,
       "unit": "it",
       "unit_divisor": 1000,
       "unit_scale": false
      },
      "application/vnd.jupyter.widget-view+json": {
       "model_id": "",
       "version_major": 2,
       "version_minor": 0
      },
      "text/plain": [
       "calculate covariances:   0%|                                                                                  …"
      ]
     },
     "metadata": {},
     "output_type": "display_data"
    },
    {
     "data": {
      "application/json": {
       "ascii": false,
       "bar_format": null,
       "colour": null,
       "elapsed": 0.006774425506591797,
       "initial": 0,
       "n": 0,
       "ncols": 158,
       "nrows": 37,
       "postfix": null,
       "prefix": "getting output of TICA",
       "rate": null,
       "total": 11,
       "unit": "it",
       "unit_divisor": 1000,
       "unit_scale": false
      },
      "application/vnd.jupyter.widget-view+json": {
       "model_id": "",
       "version_major": 2,
       "version_minor": 0
      },
      "text/plain": [
       "getting output of TICA:   0%|                                                                                 …"
      ]
     },
     "metadata": {},
     "output_type": "display_data"
    },
    {
     "data": {
      "application/json": {
       "ascii": false,
       "bar_format": null,
       "colour": null,
       "elapsed": 0.003517627716064453,
       "initial": 0,
       "n": 0,
       "ncols": 158,
       "nrows": 37,
       "postfix": null,
       "prefix": "calculate covariances",
       "rate": null,
       "total": 11,
       "unit": "it",
       "unit_divisor": 1000,
       "unit_scale": false
      },
      "application/vnd.jupyter.widget-view+json": {
       "model_id": "",
       "version_major": 2,
       "version_minor": 0
      },
      "text/plain": [
       "calculate covariances:   0%|                                                                                  …"
      ]
     },
     "metadata": {},
     "output_type": "display_data"
    },
    {
     "data": {
      "application/json": {
       "ascii": false,
       "bar_format": null,
       "colour": null,
       "elapsed": 0.024974584579467773,
       "initial": 0,
       "n": 0,
       "ncols": 158,
       "nrows": 37,
       "postfix": null,
       "prefix": "getting output of TICA",
       "rate": null,
       "total": 11,
       "unit": "it",
       "unit_divisor": 1000,
       "unit_scale": false
      },
      "application/vnd.jupyter.widget-view+json": {
       "model_id": "",
       "version_major": 2,
       "version_minor": 0
      },
      "text/plain": [
       "getting output of TICA:   0%|                                                                                 …"
      ]
     },
     "metadata": {},
     "output_type": "display_data"
    },
    {
     "data": {
      "application/json": {
       "ascii": false,
       "bar_format": null,
       "colour": null,
       "elapsed": 0.003838777542114258,
       "initial": 0,
       "n": 0,
       "ncols": 158,
       "nrows": 37,
       "postfix": null,
       "prefix": "calculate covariances",
       "rate": null,
       "total": 11,
       "unit": "it",
       "unit_divisor": 1000,
       "unit_scale": false
      },
      "application/vnd.jupyter.widget-view+json": {
       "model_id": "",
       "version_major": 2,
       "version_minor": 0
      },
      "text/plain": [
       "calculate covariances:   0%|                                                                                  …"
      ]
     },
     "metadata": {},
     "output_type": "display_data"
    },
    {
     "data": {
      "application/json": {
       "ascii": false,
       "bar_format": null,
       "colour": null,
       "elapsed": 0.0036079883575439453,
       "initial": 0,
       "n": 0,
       "ncols": 158,
       "nrows": 37,
       "postfix": null,
       "prefix": "getting output of TICA",
       "rate": null,
       "total": 11,
       "unit": "it",
       "unit_divisor": 1000,
       "unit_scale": false
      },
      "application/vnd.jupyter.widget-view+json": {
       "model_id": "",
       "version_major": 2,
       "version_minor": 0
      },
      "text/plain": [
       "getting output of TICA:   0%|                                                                                 …"
      ]
     },
     "metadata": {},
     "output_type": "display_data"
    },
    {
     "data": {
      "application/json": {
       "ascii": false,
       "bar_format": null,
       "colour": null,
       "elapsed": 0.0034224987030029297,
       "initial": 0,
       "n": 0,
       "ncols": 158,
       "nrows": 37,
       "postfix": null,
       "prefix": "calculate covariances",
       "rate": null,
       "total": 11,
       "unit": "it",
       "unit_divisor": 1000,
       "unit_scale": false
      },
      "application/vnd.jupyter.widget-view+json": {
       "model_id": "",
       "version_major": 2,
       "version_minor": 0
      },
      "text/plain": [
       "calculate covariances:   0%|                                                                                  …"
      ]
     },
     "metadata": {},
     "output_type": "display_data"
    },
    {
     "data": {
      "application/json": {
       "ascii": false,
       "bar_format": null,
       "colour": null,
       "elapsed": 0.011188030242919922,
       "initial": 0,
       "n": 0,
       "ncols": 158,
       "nrows": 37,
       "postfix": null,
       "prefix": "getting output of TICA",
       "rate": null,
       "total": 11,
       "unit": "it",
       "unit_divisor": 1000,
       "unit_scale": false
      },
      "application/vnd.jupyter.widget-view+json": {
       "model_id": "",
       "version_major": 2,
       "version_minor": 0
      },
      "text/plain": [
       "getting output of TICA:   0%|                                                                                 …"
      ]
     },
     "metadata": {},
     "output_type": "display_data"
    },
    {
     "data": {
      "application/json": {
       "ascii": false,
       "bar_format": null,
       "colour": null,
       "elapsed": 0.007842063903808594,
       "initial": 0,
       "n": 0,
       "ncols": 158,
       "nrows": 37,
       "postfix": null,
       "prefix": "calculate covariances",
       "rate": null,
       "total": 11,
       "unit": "it",
       "unit_divisor": 1000,
       "unit_scale": false
      },
      "application/vnd.jupyter.widget-view+json": {
       "model_id": "",
       "version_major": 2,
       "version_minor": 0
      },
      "text/plain": [
       "calculate covariances:   0%|                                                                                  …"
      ]
     },
     "metadata": {},
     "output_type": "display_data"
    },
    {
     "data": {
      "application/json": {
       "ascii": false,
       "bar_format": null,
       "colour": null,
       "elapsed": 0.011919975280761719,
       "initial": 0,
       "n": 0,
       "ncols": 158,
       "nrows": 37,
       "postfix": null,
       "prefix": "getting output of TICA",
       "rate": null,
       "total": 11,
       "unit": "it",
       "unit_divisor": 1000,
       "unit_scale": false
      },
      "application/vnd.jupyter.widget-view+json": {
       "model_id": "",
       "version_major": 2,
       "version_minor": 0
      },
      "text/plain": [
       "getting output of TICA:   0%|                                                                                 …"
      ]
     },
     "metadata": {},
     "output_type": "display_data"
    },
    {
     "data": {
      "application/json": {
       "ascii": false,
       "bar_format": null,
       "colour": null,
       "elapsed": 0.0035903453826904297,
       "initial": 0,
       "n": 0,
       "ncols": 158,
       "nrows": 37,
       "postfix": null,
       "prefix": "calculate covariances",
       "rate": null,
       "total": 11,
       "unit": "it",
       "unit_divisor": 1000,
       "unit_scale": false
      },
      "application/vnd.jupyter.widget-view+json": {
       "model_id": "",
       "version_major": 2,
       "version_minor": 0
      },
      "text/plain": [
       "calculate covariances:   0%|                                                                                  …"
      ]
     },
     "metadata": {},
     "output_type": "display_data"
    },
    {
     "data": {
      "application/json": {
       "ascii": false,
       "bar_format": null,
       "colour": null,
       "elapsed": 0.0036613941192626953,
       "initial": 0,
       "n": 0,
       "ncols": 158,
       "nrows": 37,
       "postfix": null,
       "prefix": "getting output of TICA",
       "rate": null,
       "total": 11,
       "unit": "it",
       "unit_divisor": 1000,
       "unit_scale": false
      },
      "application/vnd.jupyter.widget-view+json": {
       "model_id": "",
       "version_major": 2,
       "version_minor": 0
      },
      "text/plain": [
       "getting output of TICA:   0%|                                                                                 …"
      ]
     },
     "metadata": {},
     "output_type": "display_data"
    },
    {
     "data": {
      "application/json": {
       "ascii": false,
       "bar_format": null,
       "colour": null,
       "elapsed": 0.007496833801269531,
       "initial": 0,
       "n": 0,
       "ncols": 158,
       "nrows": 37,
       "postfix": null,
       "prefix": "calculate covariances",
       "rate": null,
       "total": 11,
       "unit": "it",
       "unit_divisor": 1000,
       "unit_scale": false
      },
      "application/vnd.jupyter.widget-view+json": {
       "model_id": "",
       "version_major": 2,
       "version_minor": 0
      },
      "text/plain": [
       "calculate covariances:   0%|                                                                                  …"
      ]
     },
     "metadata": {},
     "output_type": "display_data"
    },
    {
     "data": {
      "application/json": {
       "ascii": false,
       "bar_format": null,
       "colour": null,
       "elapsed": 0.003293275833129883,
       "initial": 0,
       "n": 0,
       "ncols": 158,
       "nrows": 37,
       "postfix": null,
       "prefix": "getting output of TICA",
       "rate": null,
       "total": 11,
       "unit": "it",
       "unit_divisor": 1000,
       "unit_scale": false
      },
      "application/vnd.jupyter.widget-view+json": {
       "model_id": "",
       "version_major": 2,
       "version_minor": 0
      },
      "text/plain": [
       "getting output of TICA:   0%|                                                                                 …"
      ]
     },
     "metadata": {},
     "output_type": "display_data"
    },
    {
     "data": {
      "application/json": {
       "ascii": false,
       "bar_format": null,
       "colour": null,
       "elapsed": 0.004052162170410156,
       "initial": 0,
       "n": 0,
       "ncols": 158,
       "nrows": 37,
       "postfix": null,
       "prefix": "calculate covariances",
       "rate": null,
       "total": 11,
       "unit": "it",
       "unit_divisor": 1000,
       "unit_scale": false
      },
      "application/vnd.jupyter.widget-view+json": {
       "model_id": "",
       "version_major": 2,
       "version_minor": 0
      },
      "text/plain": [
       "calculate covariances:   0%|                                                                                  …"
      ]
     },
     "metadata": {},
     "output_type": "display_data"
    },
    {
     "data": {
      "application/json": {
       "ascii": false,
       "bar_format": null,
       "colour": null,
       "elapsed": 0.011772632598876953,
       "initial": 0,
       "n": 0,
       "ncols": 158,
       "nrows": 37,
       "postfix": null,
       "prefix": "getting output of TICA",
       "rate": null,
       "total": 11,
       "unit": "it",
       "unit_divisor": 1000,
       "unit_scale": false
      },
      "application/vnd.jupyter.widget-view+json": {
       "model_id": "",
       "version_major": 2,
       "version_minor": 0
      },
      "text/plain": [
       "getting output of TICA:   0%|                                                                                 …"
      ]
     },
     "metadata": {},
     "output_type": "display_data"
    },
    {
     "data": {
      "application/json": {
       "ascii": false,
       "bar_format": null,
       "colour": null,
       "elapsed": 0.0036575794219970703,
       "initial": 0,
       "n": 0,
       "ncols": 158,
       "nrows": 37,
       "postfix": null,
       "prefix": "calculate covariances",
       "rate": null,
       "total": 11,
       "unit": "it",
       "unit_divisor": 1000,
       "unit_scale": false
      },
      "application/vnd.jupyter.widget-view+json": {
       "model_id": "",
       "version_major": 2,
       "version_minor": 0
      },
      "text/plain": [
       "calculate covariances:   0%|                                                                                  …"
      ]
     },
     "metadata": {},
     "output_type": "display_data"
    },
    {
     "data": {
      "application/json": {
       "ascii": false,
       "bar_format": null,
       "colour": null,
       "elapsed": 0.0036323070526123047,
       "initial": 0,
       "n": 0,
       "ncols": 158,
       "nrows": 37,
       "postfix": null,
       "prefix": "getting output of TICA",
       "rate": null,
       "total": 11,
       "unit": "it",
       "unit_divisor": 1000,
       "unit_scale": false
      },
      "application/vnd.jupyter.widget-view+json": {
       "model_id": "",
       "version_major": 2,
       "version_minor": 0
      },
      "text/plain": [
       "getting output of TICA:   0%|                                                                                 …"
      ]
     },
     "metadata": {},
     "output_type": "display_data"
    },
    {
     "data": {
      "application/json": {
       "ascii": false,
       "bar_format": null,
       "colour": null,
       "elapsed": 0.0034945011138916016,
       "initial": 0,
       "n": 0,
       "ncols": 158,
       "nrows": 37,
       "postfix": null,
       "prefix": "calculate covariances",
       "rate": null,
       "total": 11,
       "unit": "it",
       "unit_divisor": 1000,
       "unit_scale": false
      },
      "application/vnd.jupyter.widget-view+json": {
       "model_id": "",
       "version_major": 2,
       "version_minor": 0
      },
      "text/plain": [
       "calculate covariances:   0%|                                                                                  …"
      ]
     },
     "metadata": {},
     "output_type": "display_data"
    },
    {
     "data": {
      "application/json": {
       "ascii": false,
       "bar_format": null,
       "colour": null,
       "elapsed": 0.0032117366790771484,
       "initial": 0,
       "n": 0,
       "ncols": 158,
       "nrows": 37,
       "postfix": null,
       "prefix": "getting output of TICA",
       "rate": null,
       "total": 11,
       "unit": "it",
       "unit_divisor": 1000,
       "unit_scale": false
      },
      "application/vnd.jupyter.widget-view+json": {
       "model_id": "",
       "version_major": 2,
       "version_minor": 0
      },
      "text/plain": [
       "getting output of TICA:   0%|                                                                                 …"
      ]
     },
     "metadata": {},
     "output_type": "display_data"
    },
    {
     "data": {
      "application/json": {
       "ascii": false,
       "bar_format": null,
       "colour": null,
       "elapsed": 0.0035517215728759766,
       "initial": 0,
       "n": 0,
       "ncols": 158,
       "nrows": 37,
       "postfix": null,
       "prefix": "calculate covariances",
       "rate": null,
       "total": 11,
       "unit": "it",
       "unit_divisor": 1000,
       "unit_scale": false
      },
      "application/vnd.jupyter.widget-view+json": {
       "model_id": "",
       "version_major": 2,
       "version_minor": 0
      },
      "text/plain": [
       "calculate covariances:   0%|                                                                                  …"
      ]
     },
     "metadata": {},
     "output_type": "display_data"
    },
    {
     "data": {
      "application/json": {
       "ascii": false,
       "bar_format": null,
       "colour": null,
       "elapsed": 0.00599980354309082,
       "initial": 0,
       "n": 0,
       "ncols": 158,
       "nrows": 37,
       "postfix": null,
       "prefix": "getting output of TICA",
       "rate": null,
       "total": 11,
       "unit": "it",
       "unit_divisor": 1000,
       "unit_scale": false
      },
      "application/vnd.jupyter.widget-view+json": {
       "model_id": "",
       "version_major": 2,
       "version_minor": 0
      },
      "text/plain": [
       "getting output of TICA:   0%|                                                                                 …"
      ]
     },
     "metadata": {},
     "output_type": "display_data"
    },
    {
     "data": {
      "application/json": {
       "ascii": false,
       "bar_format": null,
       "colour": null,
       "elapsed": 0.0068323612213134766,
       "initial": 0,
       "n": 0,
       "ncols": 158,
       "nrows": 37,
       "postfix": null,
       "prefix": "calculate covariances",
       "rate": null,
       "total": 11,
       "unit": "it",
       "unit_divisor": 1000,
       "unit_scale": false
      },
      "application/vnd.jupyter.widget-view+json": {
       "model_id": "",
       "version_major": 2,
       "version_minor": 0
      },
      "text/plain": [
       "calculate covariances:   0%|                                                                                  …"
      ]
     },
     "metadata": {},
     "output_type": "display_data"
    },
    {
     "data": {
      "application/json": {
       "ascii": false,
       "bar_format": null,
       "colour": null,
       "elapsed": 0.003801584243774414,
       "initial": 0,
       "n": 0,
       "ncols": 158,
       "nrows": 37,
       "postfix": null,
       "prefix": "getting output of TICA",
       "rate": null,
       "total": 11,
       "unit": "it",
       "unit_divisor": 1000,
       "unit_scale": false
      },
      "application/vnd.jupyter.widget-view+json": {
       "model_id": "",
       "version_major": 2,
       "version_minor": 0
      },
      "text/plain": [
       "getting output of TICA:   0%|                                                                                 …"
      ]
     },
     "metadata": {},
     "output_type": "display_data"
    },
    {
     "data": {
      "application/json": {
       "ascii": false,
       "bar_format": null,
       "colour": null,
       "elapsed": 0.003300189971923828,
       "initial": 0,
       "n": 0,
       "ncols": 158,
       "nrows": 37,
       "postfix": null,
       "prefix": "calculate covariances",
       "rate": null,
       "total": 11,
       "unit": "it",
       "unit_divisor": 1000,
       "unit_scale": false
      },
      "application/vnd.jupyter.widget-view+json": {
       "model_id": "",
       "version_major": 2,
       "version_minor": 0
      },
      "text/plain": [
       "calculate covariances:   0%|                                                                                  …"
      ]
     },
     "metadata": {},
     "output_type": "display_data"
    },
    {
     "data": {
      "application/json": {
       "ascii": false,
       "bar_format": null,
       "colour": null,
       "elapsed": 0.01261448860168457,
       "initial": 0,
       "n": 0,
       "ncols": 158,
       "nrows": 37,
       "postfix": null,
       "prefix": "getting output of TICA",
       "rate": null,
       "total": 11,
       "unit": "it",
       "unit_divisor": 1000,
       "unit_scale": false
      },
      "application/vnd.jupyter.widget-view+json": {
       "model_id": "",
       "version_major": 2,
       "version_minor": 0
      },
      "text/plain": [
       "getting output of TICA:   0%|                                                                                 …"
      ]
     },
     "metadata": {},
     "output_type": "display_data"
    },
    {
     "data": {
      "application/json": {
       "ascii": false,
       "bar_format": null,
       "colour": null,
       "elapsed": 0.007214546203613281,
       "initial": 0,
       "n": 0,
       "ncols": 158,
       "nrows": 37,
       "postfix": null,
       "prefix": "calculate covariances",
       "rate": null,
       "total": 11,
       "unit": "it",
       "unit_divisor": 1000,
       "unit_scale": false
      },
      "application/vnd.jupyter.widget-view+json": {
       "model_id": "",
       "version_major": 2,
       "version_minor": 0
      },
      "text/plain": [
       "calculate covariances:   0%|                                                                                  …"
      ]
     },
     "metadata": {},
     "output_type": "display_data"
    },
    {
     "data": {
      "application/json": {
       "ascii": false,
       "bar_format": null,
       "colour": null,
       "elapsed": 0.01728963851928711,
       "initial": 0,
       "n": 0,
       "ncols": 158,
       "nrows": 37,
       "postfix": null,
       "prefix": "getting output of TICA",
       "rate": null,
       "total": 11,
       "unit": "it",
       "unit_divisor": 1000,
       "unit_scale": false
      },
      "application/vnd.jupyter.widget-view+json": {
       "model_id": "",
       "version_major": 2,
       "version_minor": 0
      },
      "text/plain": [
       "getting output of TICA:   0%|                                                                                 …"
      ]
     },
     "metadata": {},
     "output_type": "display_data"
    },
    {
     "data": {
      "application/json": {
       "ascii": false,
       "bar_format": null,
       "colour": null,
       "elapsed": 0.004713296890258789,
       "initial": 0,
       "n": 0,
       "ncols": 158,
       "nrows": 37,
       "postfix": null,
       "prefix": "calculate covariances",
       "rate": null,
       "total": 11,
       "unit": "it",
       "unit_divisor": 1000,
       "unit_scale": false
      },
      "application/vnd.jupyter.widget-view+json": {
       "model_id": "",
       "version_major": 2,
       "version_minor": 0
      },
      "text/plain": [
       "calculate covariances:   0%|                                                                                  …"
      ]
     },
     "metadata": {},
     "output_type": "display_data"
    },
    {
     "data": {
      "application/json": {
       "ascii": false,
       "bar_format": null,
       "colour": null,
       "elapsed": 0.0036673545837402344,
       "initial": 0,
       "n": 0,
       "ncols": 158,
       "nrows": 37,
       "postfix": null,
       "prefix": "getting output of TICA",
       "rate": null,
       "total": 11,
       "unit": "it",
       "unit_divisor": 1000,
       "unit_scale": false
      },
      "application/vnd.jupyter.widget-view+json": {
       "model_id": "",
       "version_major": 2,
       "version_minor": 0
      },
      "text/plain": [
       "getting output of TICA:   0%|                                                                                 …"
      ]
     },
     "metadata": {},
     "output_type": "display_data"
    },
    {
     "data": {
      "application/json": {
       "ascii": false,
       "bar_format": null,
       "colour": null,
       "elapsed": 0.0043294429779052734,
       "initial": 0,
       "n": 0,
       "ncols": 158,
       "nrows": 37,
       "postfix": null,
       "prefix": "calculate covariances",
       "rate": null,
       "total": 11,
       "unit": "it",
       "unit_divisor": 1000,
       "unit_scale": false
      },
      "application/vnd.jupyter.widget-view+json": {
       "model_id": "",
       "version_major": 2,
       "version_minor": 0
      },
      "text/plain": [
       "calculate covariances:   0%|                                                                                  …"
      ]
     },
     "metadata": {},
     "output_type": "display_data"
    },
    {
     "data": {
      "application/json": {
       "ascii": false,
       "bar_format": null,
       "colour": null,
       "elapsed": 0.025406360626220703,
       "initial": 0,
       "n": 0,
       "ncols": 158,
       "nrows": 37,
       "postfix": null,
       "prefix": "getting output of TICA",
       "rate": null,
       "total": 11,
       "unit": "it",
       "unit_divisor": 1000,
       "unit_scale": false
      },
      "application/vnd.jupyter.widget-view+json": {
       "model_id": "",
       "version_major": 2,
       "version_minor": 0
      },
      "text/plain": [
       "getting output of TICA:   0%|                                                                                 …"
      ]
     },
     "metadata": {},
     "output_type": "display_data"
    },
    {
     "data": {
      "application/json": {
       "ascii": false,
       "bar_format": null,
       "colour": null,
       "elapsed": 0.003603696823120117,
       "initial": 0,
       "n": 0,
       "ncols": 158,
       "nrows": 37,
       "postfix": null,
       "prefix": "calculate covariances",
       "rate": null,
       "total": 11,
       "unit": "it",
       "unit_divisor": 1000,
       "unit_scale": false
      },
      "application/vnd.jupyter.widget-view+json": {
       "model_id": "",
       "version_major": 2,
       "version_minor": 0
      },
      "text/plain": [
       "calculate covariances:   0%|                                                                                  …"
      ]
     },
     "metadata": {},
     "output_type": "display_data"
    },
    {
     "data": {
      "application/json": {
       "ascii": false,
       "bar_format": null,
       "colour": null,
       "elapsed": 0.0038161277770996094,
       "initial": 0,
       "n": 0,
       "ncols": 158,
       "nrows": 37,
       "postfix": null,
       "prefix": "getting output of TICA",
       "rate": null,
       "total": 11,
       "unit": "it",
       "unit_divisor": 1000,
       "unit_scale": false
      },
      "application/vnd.jupyter.widget-view+json": {
       "model_id": "",
       "version_major": 2,
       "version_minor": 0
      },
      "text/plain": [
       "getting output of TICA:   0%|                                                                                 …"
      ]
     },
     "metadata": {},
     "output_type": "display_data"
    },
    {
     "data": {
      "application/json": {
       "ascii": false,
       "bar_format": null,
       "colour": null,
       "elapsed": 0.0035791397094726562,
       "initial": 0,
       "n": 0,
       "ncols": 158,
       "nrows": 37,
       "postfix": null,
       "prefix": "calculate covariances",
       "rate": null,
       "total": 11,
       "unit": "it",
       "unit_divisor": 1000,
       "unit_scale": false
      },
      "application/vnd.jupyter.widget-view+json": {
       "model_id": "",
       "version_major": 2,
       "version_minor": 0
      },
      "text/plain": [
       "calculate covariances:   0%|                                                                                  …"
      ]
     },
     "metadata": {},
     "output_type": "display_data"
    },
    {
     "data": {
      "application/json": {
       "ascii": false,
       "bar_format": null,
       "colour": null,
       "elapsed": 0.014986753463745117,
       "initial": 0,
       "n": 0,
       "ncols": 158,
       "nrows": 37,
       "postfix": null,
       "prefix": "getting output of TICA",
       "rate": null,
       "total": 11,
       "unit": "it",
       "unit_divisor": 1000,
       "unit_scale": false
      },
      "application/vnd.jupyter.widget-view+json": {
       "model_id": "",
       "version_major": 2,
       "version_minor": 0
      },
      "text/plain": [
       "getting output of TICA:   0%|                                                                                 …"
      ]
     },
     "metadata": {},
     "output_type": "display_data"
    },
    {
     "data": {
      "application/json": {
       "ascii": false,
       "bar_format": null,
       "colour": null,
       "elapsed": 0.003534078598022461,
       "initial": 0,
       "n": 0,
       "ncols": 158,
       "nrows": 37,
       "postfix": null,
       "prefix": "calculate covariances",
       "rate": null,
       "total": 11,
       "unit": "it",
       "unit_divisor": 1000,
       "unit_scale": false
      },
      "application/vnd.jupyter.widget-view+json": {
       "model_id": "",
       "version_major": 2,
       "version_minor": 0
      },
      "text/plain": [
       "calculate covariances:   0%|                                                                                  …"
      ]
     },
     "metadata": {},
     "output_type": "display_data"
    },
    {
     "data": {
      "application/json": {
       "ascii": false,
       "bar_format": null,
       "colour": null,
       "elapsed": 0.010298967361450195,
       "initial": 0,
       "n": 0,
       "ncols": 158,
       "nrows": 37,
       "postfix": null,
       "prefix": "getting output of TICA",
       "rate": null,
       "total": 11,
       "unit": "it",
       "unit_divisor": 1000,
       "unit_scale": false
      },
      "application/vnd.jupyter.widget-view+json": {
       "model_id": "",
       "version_major": 2,
       "version_minor": 0
      },
      "text/plain": [
       "getting output of TICA:   0%|                                                                                 …"
      ]
     },
     "metadata": {},
     "output_type": "display_data"
    },
    {
     "data": {
      "application/json": {
       "ascii": false,
       "bar_format": null,
       "colour": null,
       "elapsed": 0.0034418106079101562,
       "initial": 0,
       "n": 0,
       "ncols": 158,
       "nrows": 37,
       "postfix": null,
       "prefix": "calculate covariances",
       "rate": null,
       "total": 11,
       "unit": "it",
       "unit_divisor": 1000,
       "unit_scale": false
      },
      "application/vnd.jupyter.widget-view+json": {
       "model_id": "",
       "version_major": 2,
       "version_minor": 0
      },
      "text/plain": [
       "calculate covariances:   0%|                                                                                  …"
      ]
     },
     "metadata": {},
     "output_type": "display_data"
    },
    {
     "data": {
      "application/json": {
       "ascii": false,
       "bar_format": null,
       "colour": null,
       "elapsed": 0.003790140151977539,
       "initial": 0,
       "n": 0,
       "ncols": 158,
       "nrows": 37,
       "postfix": null,
       "prefix": "getting output of TICA",
       "rate": null,
       "total": 11,
       "unit": "it",
       "unit_divisor": 1000,
       "unit_scale": false
      },
      "application/vnd.jupyter.widget-view+json": {
       "model_id": "",
       "version_major": 2,
       "version_minor": 0
      },
      "text/plain": [
       "getting output of TICA:   0%|                                                                                 …"
      ]
     },
     "metadata": {},
     "output_type": "display_data"
    },
    {
     "data": {
      "application/json": {
       "ascii": false,
       "bar_format": null,
       "colour": null,
       "elapsed": 0.0068988800048828125,
       "initial": 0,
       "n": 0,
       "ncols": 158,
       "nrows": 37,
       "postfix": null,
       "prefix": "calculate covariances",
       "rate": null,
       "total": 11,
       "unit": "it",
       "unit_divisor": 1000,
       "unit_scale": false
      },
      "application/vnd.jupyter.widget-view+json": {
       "model_id": "",
       "version_major": 2,
       "version_minor": 0
      },
      "text/plain": [
       "calculate covariances:   0%|                                                                                  …"
      ]
     },
     "metadata": {},
     "output_type": "display_data"
    },
    {
     "data": {
      "application/json": {
       "ascii": false,
       "bar_format": null,
       "colour": null,
       "elapsed": 0.024206161499023438,
       "initial": 0,
       "n": 0,
       "ncols": 158,
       "nrows": 37,
       "postfix": null,
       "prefix": "getting output of TICA",
       "rate": null,
       "total": 11,
       "unit": "it",
       "unit_divisor": 1000,
       "unit_scale": false
      },
      "application/vnd.jupyter.widget-view+json": {
       "model_id": "",
       "version_major": 2,
       "version_minor": 0
      },
      "text/plain": [
       "getting output of TICA:   0%|                                                                                 …"
      ]
     },
     "metadata": {},
     "output_type": "display_data"
    },
    {
     "data": {
      "application/json": {
       "ascii": false,
       "bar_format": null,
       "colour": null,
       "elapsed": 0.0033528804779052734,
       "initial": 0,
       "n": 0,
       "ncols": 158,
       "nrows": 37,
       "postfix": null,
       "prefix": "calculate covariances",
       "rate": null,
       "total": 11,
       "unit": "it",
       "unit_divisor": 1000,
       "unit_scale": false
      },
      "application/vnd.jupyter.widget-view+json": {
       "model_id": "",
       "version_major": 2,
       "version_minor": 0
      },
      "text/plain": [
       "calculate covariances:   0%|                                                                                  …"
      ]
     },
     "metadata": {},
     "output_type": "display_data"
    },
    {
     "data": {
      "application/json": {
       "ascii": false,
       "bar_format": null,
       "colour": null,
       "elapsed": 0.011944770812988281,
       "initial": 0,
       "n": 0,
       "ncols": 158,
       "nrows": 37,
       "postfix": null,
       "prefix": "getting output of TICA",
       "rate": null,
       "total": 11,
       "unit": "it",
       "unit_divisor": 1000,
       "unit_scale": false
      },
      "application/vnd.jupyter.widget-view+json": {
       "model_id": "",
       "version_major": 2,
       "version_minor": 0
      },
      "text/plain": [
       "getting output of TICA:   0%|                                                                                 …"
      ]
     },
     "metadata": {},
     "output_type": "display_data"
    },
    {
     "data": {
      "application/json": {
       "ascii": false,
       "bar_format": null,
       "colour": null,
       "elapsed": 0.05975484848022461,
       "initial": 0,
       "n": 0,
       "ncols": 158,
       "nrows": 37,
       "postfix": null,
       "prefix": "calculate covariances",
       "rate": null,
       "total": 11,
       "unit": "it",
       "unit_divisor": 1000,
       "unit_scale": false
      },
      "application/vnd.jupyter.widget-view+json": {
       "model_id": "",
       "version_major": 2,
       "version_minor": 0
      },
      "text/plain": [
       "calculate covariances:   0%|                                                                                  …"
      ]
     },
     "metadata": {},
     "output_type": "display_data"
    },
    {
     "data": {
      "application/json": {
       "ascii": false,
       "bar_format": null,
       "colour": null,
       "elapsed": 0.0032591819763183594,
       "initial": 0,
       "n": 0,
       "ncols": 158,
       "nrows": 37,
       "postfix": null,
       "prefix": "getting output of TICA",
       "rate": null,
       "total": 11,
       "unit": "it",
       "unit_divisor": 1000,
       "unit_scale": false
      },
      "application/vnd.jupyter.widget-view+json": {
       "model_id": "",
       "version_major": 2,
       "version_minor": 0
      },
      "text/plain": [
       "getting output of TICA:   0%|                                                                                 …"
      ]
     },
     "metadata": {},
     "output_type": "display_data"
    },
    {
     "data": {
      "application/json": {
       "ascii": false,
       "bar_format": null,
       "colour": null,
       "elapsed": 0.004256725311279297,
       "initial": 0,
       "n": 0,
       "ncols": 158,
       "nrows": 37,
       "postfix": null,
       "prefix": "calculate covariances",
       "rate": null,
       "total": 11,
       "unit": "it",
       "unit_divisor": 1000,
       "unit_scale": false
      },
      "application/vnd.jupyter.widget-view+json": {
       "model_id": "",
       "version_major": 2,
       "version_minor": 0
      },
      "text/plain": [
       "calculate covariances:   0%|                                                                                  …"
      ]
     },
     "metadata": {},
     "output_type": "display_data"
    },
    {
     "data": {
      "application/json": {
       "ascii": false,
       "bar_format": null,
       "colour": null,
       "elapsed": 0.02055501937866211,
       "initial": 0,
       "n": 0,
       "ncols": 158,
       "nrows": 37,
       "postfix": null,
       "prefix": "getting output of TICA",
       "rate": null,
       "total": 11,
       "unit": "it",
       "unit_divisor": 1000,
       "unit_scale": false
      },
      "application/vnd.jupyter.widget-view+json": {
       "model_id": "",
       "version_major": 2,
       "version_minor": 0
      },
      "text/plain": [
       "getting output of TICA:   0%|                                                                                 …"
      ]
     },
     "metadata": {},
     "output_type": "display_data"
    },
    {
     "data": {
      "application/json": {
       "ascii": false,
       "bar_format": null,
       "colour": null,
       "elapsed": 0.007642984390258789,
       "initial": 0,
       "n": 0,
       "ncols": 158,
       "nrows": 37,
       "postfix": null,
       "prefix": "calculate covariances",
       "rate": null,
       "total": 11,
       "unit": "it",
       "unit_divisor": 1000,
       "unit_scale": false
      },
      "application/vnd.jupyter.widget-view+json": {
       "model_id": "",
       "version_major": 2,
       "version_minor": 0
      },
      "text/plain": [
       "calculate covariances:   0%|                                                                                  …"
      ]
     },
     "metadata": {},
     "output_type": "display_data"
    },
    {
     "data": {
      "application/json": {
       "ascii": false,
       "bar_format": null,
       "colour": null,
       "elapsed": 0.014908552169799805,
       "initial": 0,
       "n": 0,
       "ncols": 158,
       "nrows": 37,
       "postfix": null,
       "prefix": "getting output of TICA",
       "rate": null,
       "total": 11,
       "unit": "it",
       "unit_divisor": 1000,
       "unit_scale": false
      },
      "application/vnd.jupyter.widget-view+json": {
       "model_id": "",
       "version_major": 2,
       "version_minor": 0
      },
      "text/plain": [
       "getting output of TICA:   0%|                                                                                 …"
      ]
     },
     "metadata": {},
     "output_type": "display_data"
    },
    {
     "data": {
      "application/json": {
       "ascii": false,
       "bar_format": null,
       "colour": null,
       "elapsed": 0.004217624664306641,
       "initial": 0,
       "n": 0,
       "ncols": 158,
       "nrows": 37,
       "postfix": null,
       "prefix": "calculate covariances",
       "rate": null,
       "total": 11,
       "unit": "it",
       "unit_divisor": 1000,
       "unit_scale": false
      },
      "application/vnd.jupyter.widget-view+json": {
       "model_id": "",
       "version_major": 2,
       "version_minor": 0
      },
      "text/plain": [
       "calculate covariances:   0%|                                                                                  …"
      ]
     },
     "metadata": {},
     "output_type": "display_data"
    },
    {
     "data": {
      "application/json": {
       "ascii": false,
       "bar_format": null,
       "colour": null,
       "elapsed": 0.003473520278930664,
       "initial": 0,
       "n": 0,
       "ncols": 158,
       "nrows": 37,
       "postfix": null,
       "prefix": "getting output of TICA",
       "rate": null,
       "total": 11,
       "unit": "it",
       "unit_divisor": 1000,
       "unit_scale": false
      },
      "application/vnd.jupyter.widget-view+json": {
       "model_id": "",
       "version_major": 2,
       "version_minor": 0
      },
      "text/plain": [
       "getting output of TICA:   0%|                                                                                 …"
      ]
     },
     "metadata": {},
     "output_type": "display_data"
    },
    {
     "data": {
      "application/json": {
       "ascii": false,
       "bar_format": null,
       "colour": null,
       "elapsed": 0.0035011768341064453,
       "initial": 0,
       "n": 0,
       "ncols": 158,
       "nrows": 37,
       "postfix": null,
       "prefix": "calculate covariances",
       "rate": null,
       "total": 11,
       "unit": "it",
       "unit_divisor": 1000,
       "unit_scale": false
      },
      "application/vnd.jupyter.widget-view+json": {
       "model_id": "",
       "version_major": 2,
       "version_minor": 0
      },
      "text/plain": [
       "calculate covariances:   0%|                                                                                  …"
      ]
     },
     "metadata": {},
     "output_type": "display_data"
    },
    {
     "data": {
      "application/json": {
       "ascii": false,
       "bar_format": null,
       "colour": null,
       "elapsed": 0.003606081008911133,
       "initial": 0,
       "n": 0,
       "ncols": 158,
       "nrows": 37,
       "postfix": null,
       "prefix": "getting output of TICA",
       "rate": null,
       "total": 11,
       "unit": "it",
       "unit_divisor": 1000,
       "unit_scale": false
      },
      "application/vnd.jupyter.widget-view+json": {
       "model_id": "",
       "version_major": 2,
       "version_minor": 0
      },
      "text/plain": [
       "getting output of TICA:   0%|                                                                                 …"
      ]
     },
     "metadata": {},
     "output_type": "display_data"
    },
    {
     "data": {
      "application/json": {
       "ascii": false,
       "bar_format": null,
       "colour": null,
       "elapsed": 0.0038917064666748047,
       "initial": 0,
       "n": 0,
       "ncols": 158,
       "nrows": 37,
       "postfix": null,
       "prefix": "calculate covariances",
       "rate": null,
       "total": 11,
       "unit": "it",
       "unit_divisor": 1000,
       "unit_scale": false
      },
      "application/vnd.jupyter.widget-view+json": {
       "model_id": "",
       "version_major": 2,
       "version_minor": 0
      },
      "text/plain": [
       "calculate covariances:   0%|                                                                                  …"
      ]
     },
     "metadata": {},
     "output_type": "display_data"
    },
    {
     "data": {
      "application/json": {
       "ascii": false,
       "bar_format": null,
       "colour": null,
       "elapsed": 0.029758214950561523,
       "initial": 0,
       "n": 0,
       "ncols": 158,
       "nrows": 37,
       "postfix": null,
       "prefix": "getting output of TICA",
       "rate": null,
       "total": 11,
       "unit": "it",
       "unit_divisor": 1000,
       "unit_scale": false
      },
      "application/vnd.jupyter.widget-view+json": {
       "model_id": "",
       "version_major": 2,
       "version_minor": 0
      },
      "text/plain": [
       "getting output of TICA:   0%|                                                                                 …"
      ]
     },
     "metadata": {},
     "output_type": "display_data"
    },
    {
     "data": {
      "application/json": {
       "ascii": false,
       "bar_format": null,
       "colour": null,
       "elapsed": 0.0044476985931396484,
       "initial": 0,
       "n": 0,
       "ncols": 158,
       "nrows": 37,
       "postfix": null,
       "prefix": "calculate covariances",
       "rate": null,
       "total": 11,
       "unit": "it",
       "unit_divisor": 1000,
       "unit_scale": false
      },
      "application/vnd.jupyter.widget-view+json": {
       "model_id": "",
       "version_major": 2,
       "version_minor": 0
      },
      "text/plain": [
       "calculate covariances:   0%|                                                                                  …"
      ]
     },
     "metadata": {},
     "output_type": "display_data"
    },
    {
     "data": {
      "application/json": {
       "ascii": false,
       "bar_format": null,
       "colour": null,
       "elapsed": 0.003500223159790039,
       "initial": 0,
       "n": 0,
       "ncols": 158,
       "nrows": 37,
       "postfix": null,
       "prefix": "getting output of TICA",
       "rate": null,
       "total": 11,
       "unit": "it",
       "unit_divisor": 1000,
       "unit_scale": false
      },
      "application/vnd.jupyter.widget-view+json": {
       "model_id": "",
       "version_major": 2,
       "version_minor": 0
      },
      "text/plain": [
       "getting output of TICA:   0%|                                                                                 …"
      ]
     },
     "metadata": {},
     "output_type": "display_data"
    },
    {
     "data": {
      "application/json": {
       "ascii": false,
       "bar_format": null,
       "colour": null,
       "elapsed": 0.008692741394042969,
       "initial": 0,
       "n": 0,
       "ncols": 158,
       "nrows": 37,
       "postfix": null,
       "prefix": "calculate covariances",
       "rate": null,
       "total": 11,
       "unit": "it",
       "unit_divisor": 1000,
       "unit_scale": false
      },
      "application/vnd.jupyter.widget-view+json": {
       "model_id": "",
       "version_major": 2,
       "version_minor": 0
      },
      "text/plain": [
       "calculate covariances:   0%|                                                                                  …"
      ]
     },
     "metadata": {},
     "output_type": "display_data"
    },
    {
     "data": {
      "application/json": {
       "ascii": false,
       "bar_format": null,
       "colour": null,
       "elapsed": 0.003514528274536133,
       "initial": 0,
       "n": 0,
       "ncols": 158,
       "nrows": 37,
       "postfix": null,
       "prefix": "getting output of TICA",
       "rate": null,
       "total": 11,
       "unit": "it",
       "unit_divisor": 1000,
       "unit_scale": false
      },
      "application/vnd.jupyter.widget-view+json": {
       "model_id": "",
       "version_major": 2,
       "version_minor": 0
      },
      "text/plain": [
       "getting output of TICA:   0%|                                                                                 …"
      ]
     },
     "metadata": {},
     "output_type": "display_data"
    },
    {
     "data": {
      "application/json": {
       "ascii": false,
       "bar_format": null,
       "colour": null,
       "elapsed": 0.005296468734741211,
       "initial": 0,
       "n": 0,
       "ncols": 158,
       "nrows": 37,
       "postfix": null,
       "prefix": "calculate covariances",
       "rate": null,
       "total": 11,
       "unit": "it",
       "unit_divisor": 1000,
       "unit_scale": false
      },
      "application/vnd.jupyter.widget-view+json": {
       "model_id": "",
       "version_major": 2,
       "version_minor": 0
      },
      "text/plain": [
       "calculate covariances:   0%|                                                                                  …"
      ]
     },
     "metadata": {},
     "output_type": "display_data"
    },
    {
     "data": {
      "application/json": {
       "ascii": false,
       "bar_format": null,
       "colour": null,
       "elapsed": 0.0035560131072998047,
       "initial": 0,
       "n": 0,
       "ncols": 158,
       "nrows": 37,
       "postfix": null,
       "prefix": "getting output of TICA",
       "rate": null,
       "total": 11,
       "unit": "it",
       "unit_divisor": 1000,
       "unit_scale": false
      },
      "application/vnd.jupyter.widget-view+json": {
       "model_id": "",
       "version_major": 2,
       "version_minor": 0
      },
      "text/plain": [
       "getting output of TICA:   0%|                                                                                 …"
      ]
     },
     "metadata": {},
     "output_type": "display_data"
    },
    {
     "data": {
      "application/json": {
       "ascii": false,
       "bar_format": null,
       "colour": null,
       "elapsed": 0.00815582275390625,
       "initial": 0,
       "n": 0,
       "ncols": 158,
       "nrows": 37,
       "postfix": null,
       "prefix": "calculate covariances",
       "rate": null,
       "total": 11,
       "unit": "it",
       "unit_divisor": 1000,
       "unit_scale": false
      },
      "application/vnd.jupyter.widget-view+json": {
       "model_id": "",
       "version_major": 2,
       "version_minor": 0
      },
      "text/plain": [
       "calculate covariances:   0%|                                                                                  …"
      ]
     },
     "metadata": {},
     "output_type": "display_data"
    },
    {
     "data": {
      "application/json": {
       "ascii": false,
       "bar_format": null,
       "colour": null,
       "elapsed": 0.03898024559020996,
       "initial": 0,
       "n": 0,
       "ncols": 158,
       "nrows": 37,
       "postfix": null,
       "prefix": "getting output of TICA",
       "rate": null,
       "total": 11,
       "unit": "it",
       "unit_divisor": 1000,
       "unit_scale": false
      },
      "application/vnd.jupyter.widget-view+json": {
       "model_id": "",
       "version_major": 2,
       "version_minor": 0
      },
      "text/plain": [
       "getting output of TICA:   0%|                                                                                 …"
      ]
     },
     "metadata": {},
     "output_type": "display_data"
    },
    {
     "data": {
      "application/json": {
       "ascii": false,
       "bar_format": null,
       "colour": null,
       "elapsed": 0.003734111785888672,
       "initial": 0,
       "n": 0,
       "ncols": 158,
       "nrows": 37,
       "postfix": null,
       "prefix": "calculate covariances",
       "rate": null,
       "total": 11,
       "unit": "it",
       "unit_divisor": 1000,
       "unit_scale": false
      },
      "application/vnd.jupyter.widget-view+json": {
       "model_id": "",
       "version_major": 2,
       "version_minor": 0
      },
      "text/plain": [
       "calculate covariances:   0%|                                                                                  …"
      ]
     },
     "metadata": {},
     "output_type": "display_data"
    },
    {
     "data": {
      "application/json": {
       "ascii": false,
       "bar_format": null,
       "colour": null,
       "elapsed": 0.0032095909118652344,
       "initial": 0,
       "n": 0,
       "ncols": 158,
       "nrows": 37,
       "postfix": null,
       "prefix": "getting output of TICA",
       "rate": null,
       "total": 11,
       "unit": "it",
       "unit_divisor": 1000,
       "unit_scale": false
      },
      "application/vnd.jupyter.widget-view+json": {
       "model_id": "",
       "version_major": 2,
       "version_minor": 0
      },
      "text/plain": [
       "getting output of TICA:   0%|                                                                                 …"
      ]
     },
     "metadata": {},
     "output_type": "display_data"
    },
    {
     "data": {
      "application/json": {
       "ascii": false,
       "bar_format": null,
       "colour": null,
       "elapsed": 0.0033788681030273438,
       "initial": 0,
       "n": 0,
       "ncols": 158,
       "nrows": 37,
       "postfix": null,
       "prefix": "calculate covariances",
       "rate": null,
       "total": 11,
       "unit": "it",
       "unit_divisor": 1000,
       "unit_scale": false
      },
      "application/vnd.jupyter.widget-view+json": {
       "model_id": "",
       "version_major": 2,
       "version_minor": 0
      },
      "text/plain": [
       "calculate covariances:   0%|                                                                                  …"
      ]
     },
     "metadata": {},
     "output_type": "display_data"
    },
    {
     "data": {
      "application/json": {
       "ascii": false,
       "bar_format": null,
       "colour": null,
       "elapsed": 0.007451295852661133,
       "initial": 0,
       "n": 0,
       "ncols": 158,
       "nrows": 37,
       "postfix": null,
       "prefix": "getting output of TICA",
       "rate": null,
       "total": 11,
       "unit": "it",
       "unit_divisor": 1000,
       "unit_scale": false
      },
      "application/vnd.jupyter.widget-view+json": {
       "model_id": "",
       "version_major": 2,
       "version_minor": 0
      },
      "text/plain": [
       "getting output of TICA:   0%|                                                                                 …"
      ]
     },
     "metadata": {},
     "output_type": "display_data"
    },
    {
     "data": {
      "application/json": {
       "ascii": false,
       "bar_format": null,
       "colour": null,
       "elapsed": 0.003704547882080078,
       "initial": 0,
       "n": 0,
       "ncols": 158,
       "nrows": 37,
       "postfix": null,
       "prefix": "calculate covariances",
       "rate": null,
       "total": 11,
       "unit": "it",
       "unit_divisor": 1000,
       "unit_scale": false
      },
      "application/vnd.jupyter.widget-view+json": {
       "model_id": "",
       "version_major": 2,
       "version_minor": 0
      },
      "text/plain": [
       "calculate covariances:   0%|                                                                                  …"
      ]
     },
     "metadata": {},
     "output_type": "display_data"
    },
    {
     "data": {
      "application/json": {
       "ascii": false,
       "bar_format": null,
       "colour": null,
       "elapsed": 0.0036542415618896484,
       "initial": 0,
       "n": 0,
       "ncols": 158,
       "nrows": 37,
       "postfix": null,
       "prefix": "getting output of TICA",
       "rate": null,
       "total": 11,
       "unit": "it",
       "unit_divisor": 1000,
       "unit_scale": false
      },
      "application/vnd.jupyter.widget-view+json": {
       "model_id": "",
       "version_major": 2,
       "version_minor": 0
      },
      "text/plain": [
       "getting output of TICA:   0%|                                                                                 …"
      ]
     },
     "metadata": {},
     "output_type": "display_data"
    },
    {
     "data": {
      "application/json": {
       "ascii": false,
       "bar_format": null,
       "colour": null,
       "elapsed": 0.0036089420318603516,
       "initial": 0,
       "n": 0,
       "ncols": 158,
       "nrows": 37,
       "postfix": null,
       "prefix": "calculate covariances",
       "rate": null,
       "total": 11,
       "unit": "it",
       "unit_divisor": 1000,
       "unit_scale": false
      },
      "application/vnd.jupyter.widget-view+json": {
       "model_id": "",
       "version_major": 2,
       "version_minor": 0
      },
      "text/plain": [
       "calculate covariances:   0%|                                                                                  …"
      ]
     },
     "metadata": {},
     "output_type": "display_data"
    },
    {
     "data": {
      "application/json": {
       "ascii": false,
       "bar_format": null,
       "colour": null,
       "elapsed": 0.012090921401977539,
       "initial": 0,
       "n": 0,
       "ncols": 158,
       "nrows": 37,
       "postfix": null,
       "prefix": "getting output of TICA",
       "rate": null,
       "total": 11,
       "unit": "it",
       "unit_divisor": 1000,
       "unit_scale": false
      },
      "application/vnd.jupyter.widget-view+json": {
       "model_id": "",
       "version_major": 2,
       "version_minor": 0
      },
      "text/plain": [
       "getting output of TICA:   0%|                                                                                 …"
      ]
     },
     "metadata": {},
     "output_type": "display_data"
    },
    {
     "data": {
      "application/json": {
       "ascii": false,
       "bar_format": null,
       "colour": null,
       "elapsed": 0.0035402774810791016,
       "initial": 0,
       "n": 0,
       "ncols": 158,
       "nrows": 37,
       "postfix": null,
       "prefix": "calculate covariances",
       "rate": null,
       "total": 11,
       "unit": "it",
       "unit_divisor": 1000,
       "unit_scale": false
      },
      "application/vnd.jupyter.widget-view+json": {
       "model_id": "",
       "version_major": 2,
       "version_minor": 0
      },
      "text/plain": [
       "calculate covariances:   0%|                                                                                  …"
      ]
     },
     "metadata": {},
     "output_type": "display_data"
    },
    {
     "data": {
      "application/json": {
       "ascii": false,
       "bar_format": null,
       "colour": null,
       "elapsed": 0.0032753944396972656,
       "initial": 0,
       "n": 0,
       "ncols": 158,
       "nrows": 37,
       "postfix": null,
       "prefix": "getting output of TICA",
       "rate": null,
       "total": 11,
       "unit": "it",
       "unit_divisor": 1000,
       "unit_scale": false
      },
      "application/vnd.jupyter.widget-view+json": {
       "model_id": "",
       "version_major": 2,
       "version_minor": 0
      },
      "text/plain": [
       "getting output of TICA:   0%|                                                                                 …"
      ]
     },
     "metadata": {},
     "output_type": "display_data"
    },
    {
     "data": {
      "application/json": {
       "ascii": false,
       "bar_format": null,
       "colour": null,
       "elapsed": 0.00418853759765625,
       "initial": 0,
       "n": 0,
       "ncols": 158,
       "nrows": 37,
       "postfix": null,
       "prefix": "calculate covariances",
       "rate": null,
       "total": 11,
       "unit": "it",
       "unit_divisor": 1000,
       "unit_scale": false
      },
      "application/vnd.jupyter.widget-view+json": {
       "model_id": "",
       "version_major": 2,
       "version_minor": 0
      },
      "text/plain": [
       "calculate covariances:   0%|                                                                                  …"
      ]
     },
     "metadata": {},
     "output_type": "display_data"
    },
    {
     "data": {
      "application/json": {
       "ascii": false,
       "bar_format": null,
       "colour": null,
       "elapsed": 0.0068874359130859375,
       "initial": 0,
       "n": 0,
       "ncols": 158,
       "nrows": 37,
       "postfix": null,
       "prefix": "getting output of TICA",
       "rate": null,
       "total": 11,
       "unit": "it",
       "unit_divisor": 1000,
       "unit_scale": false
      },
      "application/vnd.jupyter.widget-view+json": {
       "model_id": "",
       "version_major": 2,
       "version_minor": 0
      },
      "text/plain": [
       "getting output of TICA:   0%|                                                                                 …"
      ]
     },
     "metadata": {},
     "output_type": "display_data"
    },
    {
     "data": {
      "application/json": {
       "ascii": false,
       "bar_format": null,
       "colour": null,
       "elapsed": 0.007528543472290039,
       "initial": 0,
       "n": 0,
       "ncols": 158,
       "nrows": 37,
       "postfix": null,
       "prefix": "calculate covariances",
       "rate": null,
       "total": 11,
       "unit": "it",
       "unit_divisor": 1000,
       "unit_scale": false
      },
      "application/vnd.jupyter.widget-view+json": {
       "model_id": "",
       "version_major": 2,
       "version_minor": 0
      },
      "text/plain": [
       "calculate covariances:   0%|                                                                                  …"
      ]
     },
     "metadata": {},
     "output_type": "display_data"
    },
    {
     "data": {
      "application/json": {
       "ascii": false,
       "bar_format": null,
       "colour": null,
       "elapsed": 0.019816875457763672,
       "initial": 0,
       "n": 0,
       "ncols": 158,
       "nrows": 37,
       "postfix": null,
       "prefix": "getting output of TICA",
       "rate": null,
       "total": 11,
       "unit": "it",
       "unit_divisor": 1000,
       "unit_scale": false
      },
      "application/vnd.jupyter.widget-view+json": {
       "model_id": "",
       "version_major": 2,
       "version_minor": 0
      },
      "text/plain": [
       "getting output of TICA:   0%|                                                                                 …"
      ]
     },
     "metadata": {},
     "output_type": "display_data"
    },
    {
     "data": {
      "application/json": {
       "ascii": false,
       "bar_format": null,
       "colour": null,
       "elapsed": 0.003769397735595703,
       "initial": 0,
       "n": 0,
       "ncols": 158,
       "nrows": 37,
       "postfix": null,
       "prefix": "calculate covariances",
       "rate": null,
       "total": 11,
       "unit": "it",
       "unit_divisor": 1000,
       "unit_scale": false
      },
      "application/vnd.jupyter.widget-view+json": {
       "model_id": "",
       "version_major": 2,
       "version_minor": 0
      },
      "text/plain": [
       "calculate covariances:   0%|                                                                                  …"
      ]
     },
     "metadata": {},
     "output_type": "display_data"
    },
    {
     "data": {
      "application/json": {
       "ascii": false,
       "bar_format": null,
       "colour": null,
       "elapsed": 0.003230571746826172,
       "initial": 0,
       "n": 0,
       "ncols": 158,
       "nrows": 37,
       "postfix": null,
       "prefix": "getting output of TICA",
       "rate": null,
       "total": 11,
       "unit": "it",
       "unit_divisor": 1000,
       "unit_scale": false
      },
      "application/vnd.jupyter.widget-view+json": {
       "model_id": "",
       "version_major": 2,
       "version_minor": 0
      },
      "text/plain": [
       "getting output of TICA:   0%|                                                                                 …"
      ]
     },
     "metadata": {},
     "output_type": "display_data"
    },
    {
     "data": {
      "application/json": {
       "ascii": false,
       "bar_format": null,
       "colour": null,
       "elapsed": 0.007536888122558594,
       "initial": 0,
       "n": 0,
       "ncols": 158,
       "nrows": 37,
       "postfix": null,
       "prefix": "calculate covariances",
       "rate": null,
       "total": 11,
       "unit": "it",
       "unit_divisor": 1000,
       "unit_scale": false
      },
      "application/vnd.jupyter.widget-view+json": {
       "model_id": "",
       "version_major": 2,
       "version_minor": 0
      },
      "text/plain": [
       "calculate covariances:   0%|                                                                                  …"
      ]
     },
     "metadata": {},
     "output_type": "display_data"
    },
    {
     "data": {
      "application/json": {
       "ascii": false,
       "bar_format": null,
       "colour": null,
       "elapsed": 0.00520014762878418,
       "initial": 0,
       "n": 0,
       "ncols": 158,
       "nrows": 37,
       "postfix": null,
       "prefix": "getting output of TICA",
       "rate": null,
       "total": 11,
       "unit": "it",
       "unit_divisor": 1000,
       "unit_scale": false
      },
      "application/vnd.jupyter.widget-view+json": {
       "model_id": "",
       "version_major": 2,
       "version_minor": 0
      },
      "text/plain": [
       "getting output of TICA:   0%|                                                                                 …"
      ]
     },
     "metadata": {},
     "output_type": "display_data"
    },
    {
     "data": {
      "application/json": {
       "ascii": false,
       "bar_format": null,
       "colour": null,
       "elapsed": 0.0035369396209716797,
       "initial": 0,
       "n": 0,
       "ncols": 158,
       "nrows": 37,
       "postfix": null,
       "prefix": "calculate covariances",
       "rate": null,
       "total": 11,
       "unit": "it",
       "unit_divisor": 1000,
       "unit_scale": false
      },
      "application/vnd.jupyter.widget-view+json": {
       "model_id": "",
       "version_major": 2,
       "version_minor": 0
      },
      "text/plain": [
       "calculate covariances:   0%|                                                                                  …"
      ]
     },
     "metadata": {},
     "output_type": "display_data"
    },
    {
     "data": {
      "application/json": {
       "ascii": false,
       "bar_format": null,
       "colour": null,
       "elapsed": 0.005022525787353516,
       "initial": 0,
       "n": 0,
       "ncols": 158,
       "nrows": 37,
       "postfix": null,
       "prefix": "getting output of TICA",
       "rate": null,
       "total": 11,
       "unit": "it",
       "unit_divisor": 1000,
       "unit_scale": false
      },
      "application/vnd.jupyter.widget-view+json": {
       "model_id": "",
       "version_major": 2,
       "version_minor": 0
      },
      "text/plain": [
       "getting output of TICA:   0%|                                                                                 …"
      ]
     },
     "metadata": {},
     "output_type": "display_data"
    },
    {
     "data": {
      "application/json": {
       "ascii": false,
       "bar_format": null,
       "colour": null,
       "elapsed": 0.0035173892974853516,
       "initial": 0,
       "n": 0,
       "ncols": 158,
       "nrows": 37,
       "postfix": null,
       "prefix": "calculate covariances",
       "rate": null,
       "total": 11,
       "unit": "it",
       "unit_divisor": 1000,
       "unit_scale": false
      },
      "application/vnd.jupyter.widget-view+json": {
       "model_id": "",
       "version_major": 2,
       "version_minor": 0
      },
      "text/plain": [
       "calculate covariances:   0%|                                                                                  …"
      ]
     },
     "metadata": {},
     "output_type": "display_data"
    },
    {
     "data": {
      "application/json": {
       "ascii": false,
       "bar_format": null,
       "colour": null,
       "elapsed": 0.0033104419708251953,
       "initial": 0,
       "n": 0,
       "ncols": 158,
       "nrows": 37,
       "postfix": null,
       "prefix": "getting output of TICA",
       "rate": null,
       "total": 11,
       "unit": "it",
       "unit_divisor": 1000,
       "unit_scale": false
      },
      "application/vnd.jupyter.widget-view+json": {
       "model_id": "",
       "version_major": 2,
       "version_minor": 0
      },
      "text/plain": [
       "getting output of TICA:   0%|                                                                                 …"
      ]
     },
     "metadata": {},
     "output_type": "display_data"
    },
    {
     "data": {
      "application/json": {
       "ascii": false,
       "bar_format": null,
       "colour": null,
       "elapsed": 0.004038810729980469,
       "initial": 0,
       "n": 0,
       "ncols": 158,
       "nrows": 37,
       "postfix": null,
       "prefix": "calculate covariances",
       "rate": null,
       "total": 11,
       "unit": "it",
       "unit_divisor": 1000,
       "unit_scale": false
      },
      "application/vnd.jupyter.widget-view+json": {
       "model_id": "",
       "version_major": 2,
       "version_minor": 0
      },
      "text/plain": [
       "calculate covariances:   0%|                                                                                  …"
      ]
     },
     "metadata": {},
     "output_type": "display_data"
    },
    {
     "data": {
      "application/json": {
       "ascii": false,
       "bar_format": null,
       "colour": null,
       "elapsed": 0.0471644401550293,
       "initial": 0,
       "n": 0,
       "ncols": 158,
       "nrows": 37,
       "postfix": null,
       "prefix": "getting output of TICA",
       "rate": null,
       "total": 11,
       "unit": "it",
       "unit_divisor": 1000,
       "unit_scale": false
      },
      "application/vnd.jupyter.widget-view+json": {
       "model_id": "",
       "version_major": 2,
       "version_minor": 0
      },
      "text/plain": [
       "getting output of TICA:   0%|                                                                                 …"
      ]
     },
     "metadata": {},
     "output_type": "display_data"
    },
    {
     "data": {
      "application/json": {
       "ascii": false,
       "bar_format": null,
       "colour": null,
       "elapsed": 0.0035440921783447266,
       "initial": 0,
       "n": 0,
       "ncols": 158,
       "nrows": 37,
       "postfix": null,
       "prefix": "calculate covariances",
       "rate": null,
       "total": 11,
       "unit": "it",
       "unit_divisor": 1000,
       "unit_scale": false
      },
      "application/vnd.jupyter.widget-view+json": {
       "model_id": "",
       "version_major": 2,
       "version_minor": 0
      },
      "text/plain": [
       "calculate covariances:   0%|                                                                                  …"
      ]
     },
     "metadata": {},
     "output_type": "display_data"
    },
    {
     "data": {
      "application/json": {
       "ascii": false,
       "bar_format": null,
       "colour": null,
       "elapsed": 0.003640413284301758,
       "initial": 0,
       "n": 0,
       "ncols": 158,
       "nrows": 37,
       "postfix": null,
       "prefix": "getting output of TICA",
       "rate": null,
       "total": 11,
       "unit": "it",
       "unit_divisor": 1000,
       "unit_scale": false
      },
      "application/vnd.jupyter.widget-view+json": {
       "model_id": "",
       "version_major": 2,
       "version_minor": 0
      },
      "text/plain": [
       "getting output of TICA:   0%|                                                                                 …"
      ]
     },
     "metadata": {},
     "output_type": "display_data"
    },
    {
     "data": {
      "application/json": {
       "ascii": false,
       "bar_format": null,
       "colour": null,
       "elapsed": 0.0035877227783203125,
       "initial": 0,
       "n": 0,
       "ncols": 158,
       "nrows": 37,
       "postfix": null,
       "prefix": "calculate covariances",
       "rate": null,
       "total": 11,
       "unit": "it",
       "unit_divisor": 1000,
       "unit_scale": false
      },
      "application/vnd.jupyter.widget-view+json": {
       "model_id": "",
       "version_major": 2,
       "version_minor": 0
      },
      "text/plain": [
       "calculate covariances:   0%|                                                                                  …"
      ]
     },
     "metadata": {},
     "output_type": "display_data"
    },
    {
     "data": {
      "application/json": {
       "ascii": false,
       "bar_format": null,
       "colour": null,
       "elapsed": 0.0036089420318603516,
       "initial": 0,
       "n": 0,
       "ncols": 158,
       "nrows": 37,
       "postfix": null,
       "prefix": "getting output of TICA",
       "rate": null,
       "total": 11,
       "unit": "it",
       "unit_divisor": 1000,
       "unit_scale": false
      },
      "application/vnd.jupyter.widget-view+json": {
       "model_id": "",
       "version_major": 2,
       "version_minor": 0
      },
      "text/plain": [
       "getting output of TICA:   0%|                                                                                 …"
      ]
     },
     "metadata": {},
     "output_type": "display_data"
    },
    {
     "data": {
      "application/json": {
       "ascii": false,
       "bar_format": null,
       "colour": null,
       "elapsed": 0.0033757686614990234,
       "initial": 0,
       "n": 0,
       "ncols": 158,
       "nrows": 37,
       "postfix": null,
       "prefix": "calculate covariances",
       "rate": null,
       "total": 11,
       "unit": "it",
       "unit_divisor": 1000,
       "unit_scale": false
      },
      "application/vnd.jupyter.widget-view+json": {
       "model_id": "",
       "version_major": 2,
       "version_minor": 0
      },
      "text/plain": [
       "calculate covariances:   0%|                                                                                  …"
      ]
     },
     "metadata": {},
     "output_type": "display_data"
    },
    {
     "data": {
      "application/json": {
       "ascii": false,
       "bar_format": null,
       "colour": null,
       "elapsed": 0.009955883026123047,
       "initial": 0,
       "n": 0,
       "ncols": 158,
       "nrows": 37,
       "postfix": null,
       "prefix": "getting output of TICA",
       "rate": null,
       "total": 11,
       "unit": "it",
       "unit_divisor": 1000,
       "unit_scale": false
      },
      "application/vnd.jupyter.widget-view+json": {
       "model_id": "",
       "version_major": 2,
       "version_minor": 0
      },
      "text/plain": [
       "getting output of TICA:   0%|                                                                                 …"
      ]
     },
     "metadata": {},
     "output_type": "display_data"
    },
    {
     "data": {
      "application/json": {
       "ascii": false,
       "bar_format": null,
       "colour": null,
       "elapsed": 0.00704503059387207,
       "initial": 0,
       "n": 0,
       "ncols": 158,
       "nrows": 37,
       "postfix": null,
       "prefix": "calculate covariances",
       "rate": null,
       "total": 11,
       "unit": "it",
       "unit_divisor": 1000,
       "unit_scale": false
      },
      "application/vnd.jupyter.widget-view+json": {
       "model_id": "",
       "version_major": 2,
       "version_minor": 0
      },
      "text/plain": [
       "calculate covariances:   0%|                                                                                  …"
      ]
     },
     "metadata": {},
     "output_type": "display_data"
    },
    {
     "data": {
      "application/json": {
       "ascii": false,
       "bar_format": null,
       "colour": null,
       "elapsed": 0.003657102584838867,
       "initial": 0,
       "n": 0,
       "ncols": 158,
       "nrows": 37,
       "postfix": null,
       "prefix": "getting output of TICA",
       "rate": null,
       "total": 11,
       "unit": "it",
       "unit_divisor": 1000,
       "unit_scale": false
      },
      "application/vnd.jupyter.widget-view+json": {
       "model_id": "",
       "version_major": 2,
       "version_minor": 0
      },
      "text/plain": [
       "getting output of TICA:   0%|                                                                                 …"
      ]
     },
     "metadata": {},
     "output_type": "display_data"
    },
    {
     "data": {
      "application/json": {
       "ascii": false,
       "bar_format": null,
       "colour": null,
       "elapsed": 0.003370523452758789,
       "initial": 0,
       "n": 0,
       "ncols": 158,
       "nrows": 37,
       "postfix": null,
       "prefix": "calculate covariances",
       "rate": null,
       "total": 11,
       "unit": "it",
       "unit_divisor": 1000,
       "unit_scale": false
      },
      "application/vnd.jupyter.widget-view+json": {
       "model_id": "",
       "version_major": 2,
       "version_minor": 0
      },
      "text/plain": [
       "calculate covariances:   0%|                                                                                  …"
      ]
     },
     "metadata": {},
     "output_type": "display_data"
    },
    {
     "data": {
      "application/json": {
       "ascii": false,
       "bar_format": null,
       "colour": null,
       "elapsed": 0.012298345565795898,
       "initial": 0,
       "n": 0,
       "ncols": 158,
       "nrows": 37,
       "postfix": null,
       "prefix": "getting output of TICA",
       "rate": null,
       "total": 11,
       "unit": "it",
       "unit_divisor": 1000,
       "unit_scale": false
      },
      "application/vnd.jupyter.widget-view+json": {
       "model_id": "",
       "version_major": 2,
       "version_minor": 0
      },
      "text/plain": [
       "getting output of TICA:   0%|                                                                                 …"
      ]
     },
     "metadata": {},
     "output_type": "display_data"
    },
    {
     "data": {
      "application/json": {
       "ascii": false,
       "bar_format": null,
       "colour": null,
       "elapsed": 0.0068817138671875,
       "initial": 0,
       "n": 0,
       "ncols": 158,
       "nrows": 37,
       "postfix": null,
       "prefix": "calculate covariances",
       "rate": null,
       "total": 11,
       "unit": "it",
       "unit_divisor": 1000,
       "unit_scale": false
      },
      "application/vnd.jupyter.widget-view+json": {
       "model_id": "",
       "version_major": 2,
       "version_minor": 0
      },
      "text/plain": [
       "calculate covariances:   0%|                                                                                  …"
      ]
     },
     "metadata": {},
     "output_type": "display_data"
    },
    {
     "data": {
      "application/json": {
       "ascii": false,
       "bar_format": null,
       "colour": null,
       "elapsed": 0.003309488296508789,
       "initial": 0,
       "n": 0,
       "ncols": 158,
       "nrows": 37,
       "postfix": null,
       "prefix": "getting output of TICA",
       "rate": null,
       "total": 11,
       "unit": "it",
       "unit_divisor": 1000,
       "unit_scale": false
      },
      "application/vnd.jupyter.widget-view+json": {
       "model_id": "",
       "version_major": 2,
       "version_minor": 0
      },
      "text/plain": [
       "getting output of TICA:   0%|                                                                                 …"
      ]
     },
     "metadata": {},
     "output_type": "display_data"
    }
   ],
   "source": [
    "hists = []\n",
    "extents = []\n",
    "sizes = ['0.1', '0.2', '0.3', '0.4', '0.5', '0.6', '0.7', '0.8', '0.9', '1']\n",
    "for s in sizes:\n",
    "    fimp = np.load(f'1_ef2/saved_ef/fimp_{s}.npy')\n",
    "    h1=[]\n",
    "    e1=[]\n",
    "    for f in fimp:\n",
    "        f = f.argsort()[::-1][:200]\n",
    "        tic2 = [t[:,f] for t in traj_data]\n",
    "        tic2 = coor.tica(tic2, lag=700, dim=2).get_output()[0]\n",
    "        hh = nh.hist_range(tic2, dists0, mini=0, maxi=0.6)\n",
    "        h1.append(hh[4])\n",
    "        e1.append(hh[:4])\n",
    "    hists.append(h1)\n",
    "    extents.append(e1)"
   ]
  },
  {
   "cell_type": "code",
   "execution_count": 71,
   "id": "76f1884e",
   "metadata": {},
   "outputs": [
    {
     "data": {
      "text/plain": [
       "(array([0.99985196, 0.99975126, 0.99973461, 0.9998139 , 0.99965372,\n",
       "        0.99978544, 0.99937383, 0.99973381, 0.99974646, 0.99956757]),\n",
       " array([1.20896284e-04, 7.67404492e-05, 1.32087581e-04, 1.04308893e-04,\n",
       "        6.22711444e-05, 1.02182724e-04, 8.84160707e-05, 1.10644463e-04,\n",
       "        6.83360691e-05, 6.33429639e-05]))"
      ]
     },
     "execution_count": 71,
     "metadata": {},
     "output_type": "execute_result"
    }
   ],
   "source": [
    "lc = [np.load(f'1_ef2/saved_ef/lc_{s}.npy') for s in sizes]\n",
    "lc = np.mean(lc, axis=1), np.std(lc, axis=1)\n",
    "lc"
   ]
  },
  {
   "cell_type": "code",
   "execution_count": 51,
   "id": "12ed2e72",
   "metadata": {},
   "outputs": [
    {
     "data": {
      "image/png": "[encoded data removed]",
      "text/plain": [
       "<Figure size 1600x600 with 10 Axes>"
      ]
     },
     "metadata": {},
     "output_type": "display_data"
    }
   ],
   "source": [
    "fig,ax=plt.subplots(2,5,figsize=(16,6), sharex=True, sharey=True)\n",
    "plt.tight_layout()\n",
    "ax=np.concatenate((ax))\n",
    "for a,hh in enumerate(hists):\n",
    "    ax[a].imshow(hh[0], vmin=0, vmax=1, cmap='jet', interpolation='gaussian')\n",
    "plt.show()"
   ]
  },
  {
   "cell_type": "code",
   "execution_count": null,
   "id": "e396a874",
   "metadata": {},
   "outputs": [],
   "source": []
  },
  {
   "cell_type": "code",
   "execution_count": 54,
   "id": "7ae79fb1",
   "metadata": {},
   "outputs": [],
   "source": [
    "ce = [\n",
    "    [\n",
    "        nh.classification_extent(j, cutoff=0.1, strategy='weighted',\n",
    "                                output_type='jm', operation=2, jm_lower=t4l_weight, jm_impure=t4l_impure)\n",
    "    for j in i]\n",
    "for i in hists]\n",
    "ce = np.mean(ce, axis=1), np.std(ce, axis=1)"
   ]
  },
  {
   "cell_type": "code",
   "execution_count": 58,
   "id": "92d56d24",
   "metadata": {},
   "outputs": [
    {
     "data": {
      "text/plain": [
       "(0.6, 0.8)"
      ]
     },
     "execution_count": 58,
     "metadata": {},
     "output_type": "execute_result"
    },
    {
     "data": {
      "image/png": "[encoded data removed]",
      "text/plain": [
       "<Figure size 640x480 with 1 Axes>"
      ]
     },
     "metadata": {},
     "output_type": "display_data"
    }
   ],
   "source": [
    "fig,ax=plt.subplots(1)\n",
    "ax.errorbar(sizes, ce[0], yerr=ce[1])\n",
    "ax.set_ylim(0.6,0.8)"
   ]
  },
  {
   "cell_type": "code",
   "execution_count": null,
   "id": "6a27fc3d",
   "metadata": {},
   "outputs": [],
   "source": []
  },
  {
   "cell_type": "code",
   "execution_count": null,
   "id": "09073399",
   "metadata": {},
   "outputs": [],
   "source": []
  },
  {
   "cell_type": "markdown",
   "id": "cb3446e4",
   "metadata": {},
   "source": [
    "## pmt_alg = fp"
   ]
  },
  {
   "cell_type": "code",
   "execution_count": 70,
   "id": "8e487d63",
   "metadata": {},
   "outputs": [
    {
     "data": {
      "application/json": {
       "ascii": false,
       "bar_format": null,
       "colour": null,
       "elapsed": 0.0037708282470703125,
       "initial": 0,
       "n": 0,
       "ncols": 158,
       "nrows": 37,
       "postfix": null,
       "prefix": "calculate covariances",
       "rate": null,
       "total": 11,
       "unit": "it",
       "unit_divisor": 1000,
       "unit_scale": false
      },
      "application/vnd.jupyter.widget-view+json": {
       "model_id": "",
       "version_major": 2,
       "version_minor": 0
      },
      "text/plain": [
       "calculate covariances:   0%|                                                                                  …"
      ]
     },
     "metadata": {},
     "output_type": "display_data"
    },
    {
     "data": {
      "application/json": {
       "ascii": false,
       "bar_format": null,
       "colour": null,
       "elapsed": 0.00676274299621582,
       "initial": 0,
       "n": 0,
       "ncols": 158,
       "nrows": 37,
       "postfix": null,
       "prefix": "getting output of TICA",
       "rate": null,
       "total": 11,
       "unit": "it",
       "unit_divisor": 1000,
       "unit_scale": false
      },
      "application/vnd.jupyter.widget-view+json": {
       "model_id": "",
       "version_major": 2,
       "version_minor": 0
      },
      "text/plain": [
       "getting output of TICA:   0%|                                                                                 …"
      ]
     },
     "metadata": {},
     "output_type": "display_data"
    },
    {
     "data": {
      "application/json": {
       "ascii": false,
       "bar_format": null,
       "colour": null,
       "elapsed": 0.00500178337097168,
       "initial": 0,
       "n": 0,
       "ncols": 158,
       "nrows": 37,
       "postfix": null,
       "prefix": "calculate covariances",
       "rate": null,
       "total": 11,
       "unit": "it",
       "unit_divisor": 1000,
       "unit_scale": false
      },
      "application/vnd.jupyter.widget-view+json": {
       "model_id": "",
       "version_major": 2,
       "version_minor": 0
      },
      "text/plain": [
       "calculate covariances:   0%|                                                                                  …"
      ]
     },
     "metadata": {},
     "output_type": "display_data"
    },
    {
     "data": {
      "application/json": {
       "ascii": false,
       "bar_format": null,
       "colour": null,
       "elapsed": 0.006676673889160156,
       "initial": 0,
       "n": 0,
       "ncols": 158,
       "nrows": 37,
       "postfix": null,
       "prefix": "getting output of TICA",
       "rate": null,
       "total": 11,
       "unit": "it",
       "unit_divisor": 1000,
       "unit_scale": false
      },
      "application/vnd.jupyter.widget-view+json": {
       "model_id": "",
       "version_major": 2,
       "version_minor": 0
      },
      "text/plain": [
       "getting output of TICA:   0%|                                                                                 …"
      ]
     },
     "metadata": {},
     "output_type": "display_data"
    },
    {
     "data": {
      "application/json": {
       "ascii": false,
       "bar_format": null,
       "colour": null,
       "elapsed": 0.003875255584716797,
       "initial": 0,
       "n": 0,
       "ncols": 158,
       "nrows": 37,
       "postfix": null,
       "prefix": "calculate covariances",
       "rate": null,
       "total": 11,
       "unit": "it",
       "unit_divisor": 1000,
       "unit_scale": false
      },
      "application/vnd.jupyter.widget-view+json": {
       "model_id": "",
       "version_major": 2,
       "version_minor": 0
      },
      "text/plain": [
       "calculate covariances:   0%|                                                                                  …"
      ]
     },
     "metadata": {},
     "output_type": "display_data"
    },
    {
     "data": {
      "application/json": {
       "ascii": false,
       "bar_format": null,
       "colour": null,
       "elapsed": 0.008111953735351562,
       "initial": 0,
       "n": 0,
       "ncols": 158,
       "nrows": 37,
       "postfix": null,
       "prefix": "getting output of TICA",
       "rate": null,
       "total": 11,
       "unit": "it",
       "unit_divisor": 1000,
       "unit_scale": false
      },
      "application/vnd.jupyter.widget-view+json": {
       "model_id": "",
       "version_major": 2,
       "version_minor": 0
      },
      "text/plain": [
       "getting output of TICA:   0%|                                                                                 …"
      ]
     },
     "metadata": {},
     "output_type": "display_data"
    },
    {
     "data": {
      "application/json": {
       "ascii": false,
       "bar_format": null,
       "colour": null,
       "elapsed": 0.0036878585815429688,
       "initial": 0,
       "n": 0,
       "ncols": 158,
       "nrows": 37,
       "postfix": null,
       "prefix": "calculate covariances",
       "rate": null,
       "total": 11,
       "unit": "it",
       "unit_divisor": 1000,
       "unit_scale": false
      },
      "application/vnd.jupyter.widget-view+json": {
       "model_id": "",
       "version_major": 2,
       "version_minor": 0
      },
      "text/plain": [
       "calculate covariances:   0%|                                                                                  …"
      ]
     },
     "metadata": {},
     "output_type": "display_data"
    },
    {
     "data": {
      "application/json": {
       "ascii": false,
       "bar_format": null,
       "colour": null,
       "elapsed": 0.011871814727783203,
       "initial": 0,
       "n": 0,
       "ncols": 158,
       "nrows": 37,
       "postfix": null,
       "prefix": "getting output of TICA",
       "rate": null,
       "total": 11,
       "unit": "it",
       "unit_divisor": 1000,
       "unit_scale": false
      },
      "application/vnd.jupyter.widget-view+json": {
       "model_id": "",
       "version_major": 2,
       "version_minor": 0
      },
      "text/plain": [
       "getting output of TICA:   0%|                                                                                 …"
      ]
     },
     "metadata": {},
     "output_type": "display_data"
    },
    {
     "data": {
      "application/json": {
       "ascii": false,
       "bar_format": null,
       "colour": null,
       "elapsed": 0.006886959075927734,
       "initial": 0,
       "n": 0,
       "ncols": 158,
       "nrows": 37,
       "postfix": null,
       "prefix": "calculate covariances",
       "rate": null,
       "total": 11,
       "unit": "it",
       "unit_divisor": 1000,
       "unit_scale": false
      },
      "application/vnd.jupyter.widget-view+json": {
       "model_id": "",
       "version_major": 2,
       "version_minor": 0
      },
      "text/plain": [
       "calculate covariances:   0%|                                                                                  …"
      ]
     },
     "metadata": {},
     "output_type": "display_data"
    },
    {
     "data": {
      "application/json": {
       "ascii": false,
       "bar_format": null,
       "colour": null,
       "elapsed": 0.01224374771118164,
       "initial": 0,
       "n": 0,
       "ncols": 158,
       "nrows": 37,
       "postfix": null,
       "prefix": "getting output of TICA",
       "rate": null,
       "total": 11,
       "unit": "it",
       "unit_divisor": 1000,
       "unit_scale": false
      },
      "application/vnd.jupyter.widget-view+json": {
       "model_id": "",
       "version_major": 2,
       "version_minor": 0
      },
      "text/plain": [
       "getting output of TICA:   0%|                                                                                 …"
      ]
     },
     "metadata": {},
     "output_type": "display_data"
    },
    {
     "data": {
      "application/json": {
       "ascii": false,
       "bar_format": null,
       "colour": null,
       "elapsed": 0.0035719871520996094,
       "initial": 0,
       "n": 0,
       "ncols": 158,
       "nrows": 37,
       "postfix": null,
       "prefix": "calculate covariances",
       "rate": null,
       "total": 11,
       "unit": "it",
       "unit_divisor": 1000,
       "unit_scale": false
      },
      "application/vnd.jupyter.widget-view+json": {
       "model_id": "",
       "version_major": 2,
       "version_minor": 0
      },
      "text/plain": [
       "calculate covariances:   0%|                                                                                  …"
      ]
     },
     "metadata": {},
     "output_type": "display_data"
    },
    {
     "data": {
      "application/json": {
       "ascii": false,
       "bar_format": null,
       "colour": null,
       "elapsed": 0.012202024459838867,
       "initial": 0,
       "n": 0,
       "ncols": 158,
       "nrows": 37,
       "postfix": null,
       "prefix": "getting output of TICA",
       "rate": null,
       "total": 11,
       "unit": "it",
       "unit_divisor": 1000,
       "unit_scale": false
      },
      "application/vnd.jupyter.widget-view+json": {
       "model_id": "",
       "version_major": 2,
       "version_minor": 0
      },
      "text/plain": [
       "getting output of TICA:   0%|                                                                                 …"
      ]
     },
     "metadata": {},
     "output_type": "display_data"
    },
    {
     "data": {
      "application/json": {
       "ascii": false,
       "bar_format": null,
       "colour": null,
       "elapsed": 0.0037450790405273438,
       "initial": 0,
       "n": 0,
       "ncols": 158,
       "nrows": 37,
       "postfix": null,
       "prefix": "calculate covariances",
       "rate": null,
       "total": 11,
       "unit": "it",
       "unit_divisor": 1000,
       "unit_scale": false
      },
      "application/vnd.jupyter.widget-view+json": {
       "model_id": "",
       "version_major": 2,
       "version_minor": 0
      },
      "text/plain": [
       "calculate covariances:   0%|                                                                                  …"
      ]
     },
     "metadata": {},
     "output_type": "display_data"
    },
    {
     "data": {
      "application/json": {
       "ascii": false,
       "bar_format": null,
       "colour": null,
       "elapsed": 0.0032656192779541016,
       "initial": 0,
       "n": 0,
       "ncols": 158,
       "nrows": 37,
       "postfix": null,
       "prefix": "getting output of TICA",
       "rate": null,
       "total": 11,
       "unit": "it",
       "unit_divisor": 1000,
       "unit_scale": false
      },
      "application/vnd.jupyter.widget-view+json": {
       "model_id": "",
       "version_major": 2,
       "version_minor": 0
      },
      "text/plain": [
       "getting output of TICA:   0%|                                                                                 …"
      ]
     },
     "metadata": {},
     "output_type": "display_data"
    },
    {
     "data": {
      "application/json": {
       "ascii": false,
       "bar_format": null,
       "colour": null,
       "elapsed": 0.004221200942993164,
       "initial": 0,
       "n": 0,
       "ncols": 158,
       "nrows": 37,
       "postfix": null,
       "prefix": "calculate covariances",
       "rate": null,
       "total": 11,
       "unit": "it",
       "unit_divisor": 1000,
       "unit_scale": false
      },
      "application/vnd.jupyter.widget-view+json": {
       "model_id": "",
       "version_major": 2,
       "version_minor": 0
      },
      "text/plain": [
       "calculate covariances:   0%|                                                                                  …"
      ]
     },
     "metadata": {},
     "output_type": "display_data"
    },
    {
     "data": {
      "application/json": {
       "ascii": false,
       "bar_format": null,
       "colour": null,
       "elapsed": 0.003432035446166992,
       "initial": 0,
       "n": 0,
       "ncols": 158,
       "nrows": 37,
       "postfix": null,
       "prefix": "getting output of TICA",
       "rate": null,
       "total": 11,
       "unit": "it",
       "unit_divisor": 1000,
       "unit_scale": false
      },
      "application/vnd.jupyter.widget-view+json": {
       "model_id": "",
       "version_major": 2,
       "version_minor": 0
      },
      "text/plain": [
       "getting output of TICA:   0%|                                                                                 …"
      ]
     },
     "metadata": {},
     "output_type": "display_data"
    },
    {
     "data": {
      "application/json": {
       "ascii": false,
       "bar_format": null,
       "colour": null,
       "elapsed": 0.0038077831268310547,
       "initial": 0,
       "n": 0,
       "ncols": 158,
       "nrows": 37,
       "postfix": null,
       "prefix": "calculate covariances",
       "rate": null,
       "total": 11,
       "unit": "it",
       "unit_divisor": 1000,
       "unit_scale": false
      },
      "application/vnd.jupyter.widget-view+json": {
       "model_id": "",
       "version_major": 2,
       "version_minor": 0
      },
      "text/plain": [
       "calculate covariances:   0%|                                                                                  …"
      ]
     },
     "metadata": {},
     "output_type": "display_data"
    },
    {
     "data": {
      "application/json": {
       "ascii": false,
       "bar_format": null,
       "colour": null,
       "elapsed": 0.006463527679443359,
       "initial": 0,
       "n": 0,
       "ncols": 158,
       "nrows": 37,
       "postfix": null,
       "prefix": "getting output of TICA",
       "rate": null,
       "total": 11,
       "unit": "it",
       "unit_divisor": 1000,
       "unit_scale": false
      },
      "application/vnd.jupyter.widget-view+json": {
       "model_id": "",
       "version_major": 2,
       "version_minor": 0
      },
      "text/plain": [
       "getting output of TICA:   0%|                                                                                 …"
      ]
     },
     "metadata": {},
     "output_type": "display_data"
    },
    {
     "data": {
      "application/json": {
       "ascii": false,
       "bar_format": null,
       "colour": null,
       "elapsed": 0.0033359527587890625,
       "initial": 0,
       "n": 0,
       "ncols": 158,
       "nrows": 37,
       "postfix": null,
       "prefix": "calculate covariances",
       "rate": null,
       "total": 11,
       "unit": "it",
       "unit_divisor": 1000,
       "unit_scale": false
      },
      "application/vnd.jupyter.widget-view+json": {
       "model_id": "",
       "version_major": 2,
       "version_minor": 0
      },
      "text/plain": [
       "calculate covariances:   0%|                                                                                  …"
      ]
     },
     "metadata": {},
     "output_type": "display_data"
    },
    {
     "data": {
      "application/json": {
       "ascii": false,
       "bar_format": null,
       "colour": null,
       "elapsed": 0.003538846969604492,
       "initial": 0,
       "n": 0,
       "ncols": 158,
       "nrows": 37,
       "postfix": null,
       "prefix": "getting output of TICA",
       "rate": null,
       "total": 11,
       "unit": "it",
       "unit_divisor": 1000,
       "unit_scale": false
      },
      "application/vnd.jupyter.widget-view+json": {
       "model_id": "",
       "version_major": 2,
       "version_minor": 0
      },
      "text/plain": [
       "getting output of TICA:   0%|                                                                                 …"
      ]
     },
     "metadata": {},
     "output_type": "display_data"
    },
    {
     "data": {
      "application/json": {
       "ascii": false,
       "bar_format": null,
       "colour": null,
       "elapsed": 0.0034668445587158203,
       "initial": 0,
       "n": 0,
       "ncols": 158,
       "nrows": 37,
       "postfix": null,
       "prefix": "calculate covariances",
       "rate": null,
       "total": 11,
       "unit": "it",
       "unit_divisor": 1000,
       "unit_scale": false
      },
      "application/vnd.jupyter.widget-view+json": {
       "model_id": "",
       "version_major": 2,
       "version_minor": 0
      },
      "text/plain": [
       "calculate covariances:   0%|                                                                                  …"
      ]
     },
     "metadata": {},
     "output_type": "display_data"
    },
    {
     "data": {
      "application/json": {
       "ascii": false,
       "bar_format": null,
       "colour": null,
       "elapsed": 0.003365755081176758,
       "initial": 0,
       "n": 0,
       "ncols": 158,
       "nrows": 37,
       "postfix": null,
       "prefix": "getting output of TICA",
       "rate": null,
       "total": 11,
       "unit": "it",
       "unit_divisor": 1000,
       "unit_scale": false
      },
      "application/vnd.jupyter.widget-view+json": {
       "model_id": "",
       "version_major": 2,
       "version_minor": 0
      },
      "text/plain": [
       "getting output of TICA:   0%|                                                                                 …"
      ]
     },
     "metadata": {},
     "output_type": "display_data"
    },
    {
     "data": {
      "application/json": {
       "ascii": false,
       "bar_format": null,
       "colour": null,
       "elapsed": 0.025419950485229492,
       "initial": 0,
       "n": 0,
       "ncols": 158,
       "nrows": 37,
       "postfix": null,
       "prefix": "calculate covariances",
       "rate": null,
       "total": 11,
       "unit": "it",
       "unit_divisor": 1000,
       "unit_scale": false
      },
      "application/vnd.jupyter.widget-view+json": {
       "model_id": "",
       "version_major": 2,
       "version_minor": 0
      },
      "text/plain": [
       "calculate covariances:   0%|                                                                                  …"
      ]
     },
     "metadata": {},
     "output_type": "display_data"
    },
    {
     "data": {
      "application/json": {
       "ascii": false,
       "bar_format": null,
       "colour": null,
       "elapsed": 0.006361484527587891,
       "initial": 0,
       "n": 0,
       "ncols": 158,
       "nrows": 37,
       "postfix": null,
       "prefix": "getting output of TICA",
       "rate": null,
       "total": 11,
       "unit": "it",
       "unit_divisor": 1000,
       "unit_scale": false
      },
      "application/vnd.jupyter.widget-view+json": {
       "model_id": "",
       "version_major": 2,
       "version_minor": 0
      },
      "text/plain": [
       "getting output of TICA:   0%|                                                                                 …"
      ]
     },
     "metadata": {},
     "output_type": "display_data"
    },
    {
     "data": {
      "application/json": {
       "ascii": false,
       "bar_format": null,
       "colour": null,
       "elapsed": 0.0036640167236328125,
       "initial": 0,
       "n": 0,
       "ncols": 158,
       "nrows": 37,
       "postfix": null,
       "prefix": "calculate covariances",
       "rate": null,
       "total": 11,
       "unit": "it",
       "unit_divisor": 1000,
       "unit_scale": false
      },
      "application/vnd.jupyter.widget-view+json": {
       "model_id": "",
       "version_major": 2,
       "version_minor": 0
      },
      "text/plain": [
       "calculate covariances:   0%|                                                                                  …"
      ]
     },
     "metadata": {},
     "output_type": "display_data"
    },
    {
     "data": {
      "application/json": {
       "ascii": false,
       "bar_format": null,
       "colour": null,
       "elapsed": 0.006165027618408203,
       "initial": 0,
       "n": 0,
       "ncols": 158,
       "nrows": 37,
       "postfix": null,
       "prefix": "getting output of TICA",
       "rate": null,
       "total": 11,
       "unit": "it",
       "unit_divisor": 1000,
       "unit_scale": false
      },
      "application/vnd.jupyter.widget-view+json": {
       "model_id": "",
       "version_major": 2,
       "version_minor": 0
      },
      "text/plain": [
       "getting output of TICA:   0%|                                                                                 …"
      ]
     },
     "metadata": {},
     "output_type": "display_data"
    },
    {
     "data": {
      "application/json": {
       "ascii": false,
       "bar_format": null,
       "colour": null,
       "elapsed": 0.007035255432128906,
       "initial": 0,
       "n": 0,
       "ncols": 158,
       "nrows": 37,
       "postfix": null,
       "prefix": "calculate covariances",
       "rate": null,
       "total": 11,
       "unit": "it",
       "unit_divisor": 1000,
       "unit_scale": false
      },
      "application/vnd.jupyter.widget-view+json": {
       "model_id": "",
       "version_major": 2,
       "version_minor": 0
      },
      "text/plain": [
       "calculate covariances:   0%|                                                                                  …"
      ]
     },
     "metadata": {},
     "output_type": "display_data"
    },
    {
     "data": {
      "application/json": {
       "ascii": false,
       "bar_format": null,
       "colour": null,
       "elapsed": 0.0036551952362060547,
       "initial": 0,
       "n": 0,
       "ncols": 158,
       "nrows": 37,
       "postfix": null,
       "prefix": "getting output of TICA",
       "rate": null,
       "total": 11,
       "unit": "it",
       "unit_divisor": 1000,
       "unit_scale": false
      },
      "application/vnd.jupyter.widget-view+json": {
       "model_id": "",
       "version_major": 2,
       "version_minor": 0
      },
      "text/plain": [
       "getting output of TICA:   0%|                                                                                 …"
      ]
     },
     "metadata": {},
     "output_type": "display_data"
    },
    {
     "data": {
      "application/json": {
       "ascii": false,
       "bar_format": null,
       "colour": null,
       "elapsed": 0.003412485122680664,
       "initial": 0,
       "n": 0,
       "ncols": 158,
       "nrows": 37,
       "postfix": null,
       "prefix": "calculate covariances",
       "rate": null,
       "total": 11,
       "unit": "it",
       "unit_divisor": 1000,
       "unit_scale": false
      },
      "application/vnd.jupyter.widget-view+json": {
       "model_id": "",
       "version_major": 2,
       "version_minor": 0
      },
      "text/plain": [
       "calculate covariances:   0%|                                                                                  …"
      ]
     },
     "metadata": {},
     "output_type": "display_data"
    },
    {
     "data": {
      "application/json": {
       "ascii": false,
       "bar_format": null,
       "colour": null,
       "elapsed": 0.005869388580322266,
       "initial": 0,
       "n": 0,
       "ncols": 158,
       "nrows": 37,
       "postfix": null,
       "prefix": "getting output of TICA",
       "rate": null,
       "total": 11,
       "unit": "it",
       "unit_divisor": 1000,
       "unit_scale": false
      },
      "application/vnd.jupyter.widget-view+json": {
       "model_id": "",
       "version_major": 2,
       "version_minor": 0
      },
      "text/plain": [
       "getting output of TICA:   0%|                                                                                 …"
      ]
     },
     "metadata": {},
     "output_type": "display_data"
    },
    {
     "data": {
      "application/json": {
       "ascii": false,
       "bar_format": null,
       "colour": null,
       "elapsed": 0.006905317306518555,
       "initial": 0,
       "n": 0,
       "ncols": 158,
       "nrows": 37,
       "postfix": null,
       "prefix": "calculate covariances",
       "rate": null,
       "total": 11,
       "unit": "it",
       "unit_divisor": 1000,
       "unit_scale": false
      },
      "application/vnd.jupyter.widget-view+json": {
       "model_id": "",
       "version_major": 2,
       "version_minor": 0
      },
      "text/plain": [
       "calculate covariances:   0%|                                                                                  …"
      ]
     },
     "metadata": {},
     "output_type": "display_data"
    },
    {
     "data": {
      "application/json": {
       "ascii": false,
       "bar_format": null,
       "colour": null,
       "elapsed": 0.0253293514251709,
       "initial": 0,
       "n": 0,
       "ncols": 158,
       "nrows": 37,
       "postfix": null,
       "prefix": "getting output of TICA",
       "rate": null,
       "total": 11,
       "unit": "it",
       "unit_divisor": 1000,
       "unit_scale": false
      },
      "application/vnd.jupyter.widget-view+json": {
       "model_id": "",
       "version_major": 2,
       "version_minor": 0
      },
      "text/plain": [
       "getting output of TICA:   0%|                                                                                 …"
      ]
     },
     "metadata": {},
     "output_type": "display_data"
    },
    {
     "data": {
      "application/json": {
       "ascii": false,
       "bar_format": null,
       "colour": null,
       "elapsed": 0.004149675369262695,
       "initial": 0,
       "n": 0,
       "ncols": 158,
       "nrows": 37,
       "postfix": null,
       "prefix": "calculate covariances",
       "rate": null,
       "total": 11,
       "unit": "it",
       "unit_divisor": 1000,
       "unit_scale": false
      },
      "application/vnd.jupyter.widget-view+json": {
       "model_id": "",
       "version_major": 2,
       "version_minor": 0
      },
      "text/plain": [
       "calculate covariances:   0%|                                                                                  …"
      ]
     },
     "metadata": {},
     "output_type": "display_data"
    },
    {
     "data": {
      "application/json": {
       "ascii": false,
       "bar_format": null,
       "colour": null,
       "elapsed": 0.010314702987670898,
       "initial": 0,
       "n": 0,
       "ncols": 158,
       "nrows": 37,
       "postfix": null,
       "prefix": "getting output of TICA",
       "rate": null,
       "total": 11,
       "unit": "it",
       "unit_divisor": 1000,
       "unit_scale": false
      },
      "application/vnd.jupyter.widget-view+json": {
       "model_id": "",
       "version_major": 2,
       "version_minor": 0
      },
      "text/plain": [
       "getting output of TICA:   0%|                                                                                 …"
      ]
     },
     "metadata": {},
     "output_type": "display_data"
    },
    {
     "data": {
      "application/json": {
       "ascii": false,
       "bar_format": null,
       "colour": null,
       "elapsed": 0.003620624542236328,
       "initial": 0,
       "n": 0,
       "ncols": 158,
       "nrows": 37,
       "postfix": null,
       "prefix": "calculate covariances",
       "rate": null,
       "total": 11,
       "unit": "it",
       "unit_divisor": 1000,
       "unit_scale": false
      },
      "application/vnd.jupyter.widget-view+json": {
       "model_id": "",
       "version_major": 2,
       "version_minor": 0
      },
      "text/plain": [
       "calculate covariances:   0%|                                                                                  …"
      ]
     },
     "metadata": {},
     "output_type": "display_data"
    },
    {
     "data": {
      "application/json": {
       "ascii": false,
       "bar_format": null,
       "colour": null,
       "elapsed": 0.008956670761108398,
       "initial": 0,
       "n": 0,
       "ncols": 158,
       "nrows": 37,
       "postfix": null,
       "prefix": "getting output of TICA",
       "rate": null,
       "total": 11,
       "unit": "it",
       "unit_divisor": 1000,
       "unit_scale": false
      },
      "application/vnd.jupyter.widget-view+json": {
       "model_id": "",
       "version_major": 2,
       "version_minor": 0
      },
      "text/plain": [
       "getting output of TICA:   0%|                                                                                 …"
      ]
     },
     "metadata": {},
     "output_type": "display_data"
    },
    {
     "data": {
      "application/json": {
       "ascii": false,
       "bar_format": null,
       "colour": null,
       "elapsed": 0.0037729740142822266,
       "initial": 0,
       "n": 0,
       "ncols": 158,
       "nrows": 37,
       "postfix": null,
       "prefix": "calculate covariances",
       "rate": null,
       "total": 11,
       "unit": "it",
       "unit_divisor": 1000,
       "unit_scale": false
      },
      "application/vnd.jupyter.widget-view+json": {
       "model_id": "",
       "version_major": 2,
       "version_minor": 0
      },
      "text/plain": [
       "calculate covariances:   0%|                                                                                  …"
      ]
     },
     "metadata": {},
     "output_type": "display_data"
    },
    {
     "data": {
      "application/json": {
       "ascii": false,
       "bar_format": null,
       "colour": null,
       "elapsed": 0.0035173892974853516,
       "initial": 0,
       "n": 0,
       "ncols": 158,
       "nrows": 37,
       "postfix": null,
       "prefix": "getting output of TICA",
       "rate": null,
       "total": 11,
       "unit": "it",
       "unit_divisor": 1000,
       "unit_scale": false
      },
      "application/vnd.jupyter.widget-view+json": {
       "model_id": "",
       "version_major": 2,
       "version_minor": 0
      },
      "text/plain": [
       "getting output of TICA:   0%|                                                                                 …"
      ]
     },
     "metadata": {},
     "output_type": "display_data"
    },
    {
     "data": {
      "application/json": {
       "ascii": false,
       "bar_format": null,
       "colour": null,
       "elapsed": 0.0037889480590820312,
       "initial": 0,
       "n": 0,
       "ncols": 158,
       "nrows": 37,
       "postfix": null,
       "prefix": "calculate covariances",
       "rate": null,
       "total": 11,
       "unit": "it",
       "unit_divisor": 1000,
       "unit_scale": false
      },
      "application/vnd.jupyter.widget-view+json": {
       "model_id": "",
       "version_major": 2,
       "version_minor": 0
      },
      "text/plain": [
       "calculate covariances:   0%|                                                                                  …"
      ]
     },
     "metadata": {},
     "output_type": "display_data"
    },
    {
     "data": {
      "application/json": {
       "ascii": false,
       "bar_format": null,
       "colour": null,
       "elapsed": 0.011673450469970703,
       "initial": 0,
       "n": 0,
       "ncols": 158,
       "nrows": 37,
       "postfix": null,
       "prefix": "getting output of TICA",
       "rate": null,
       "total": 11,
       "unit": "it",
       "unit_divisor": 1000,
       "unit_scale": false
      },
      "application/vnd.jupyter.widget-view+json": {
       "model_id": "",
       "version_major": 2,
       "version_minor": 0
      },
      "text/plain": [
       "getting output of TICA:   0%|                                                                                 …"
      ]
     },
     "metadata": {},
     "output_type": "display_data"
    },
    {
     "data": {
      "application/json": {
       "ascii": false,
       "bar_format": null,
       "colour": null,
       "elapsed": 0.00795292854309082,
       "initial": 0,
       "n": 0,
       "ncols": 158,
       "nrows": 37,
       "postfix": null,
       "prefix": "calculate covariances",
       "rate": null,
       "total": 11,
       "unit": "it",
       "unit_divisor": 1000,
       "unit_scale": false
      },
      "application/vnd.jupyter.widget-view+json": {
       "model_id": "",
       "version_major": 2,
       "version_minor": 0
      },
      "text/plain": [
       "calculate covariances:   0%|                                                                                  …"
      ]
     },
     "metadata": {},
     "output_type": "display_data"
    },
    {
     "data": {
      "application/json": {
       "ascii": false,
       "bar_format": null,
       "colour": null,
       "elapsed": 0.011573553085327148,
       "initial": 0,
       "n": 0,
       "ncols": 158,
       "nrows": 37,
       "postfix": null,
       "prefix": "getting output of TICA",
       "rate": null,
       "total": 11,
       "unit": "it",
       "unit_divisor": 1000,
       "unit_scale": false
      },
      "application/vnd.jupyter.widget-view+json": {
       "model_id": "",
       "version_major": 2,
       "version_minor": 0
      },
      "text/plain": [
       "getting output of TICA:   0%|                                                                                 …"
      ]
     },
     "metadata": {},
     "output_type": "display_data"
    },
    {
     "data": {
      "application/json": {
       "ascii": false,
       "bar_format": null,
       "colour": null,
       "elapsed": 0.003514528274536133,
       "initial": 0,
       "n": 0,
       "ncols": 158,
       "nrows": 37,
       "postfix": null,
       "prefix": "calculate covariances",
       "rate": null,
       "total": 11,
       "unit": "it",
       "unit_divisor": 1000,
       "unit_scale": false
      },
      "application/vnd.jupyter.widget-view+json": {
       "model_id": "",
       "version_major": 2,
       "version_minor": 0
      },
      "text/plain": [
       "calculate covariances:   0%|                                                                                  …"
      ]
     },
     "metadata": {},
     "output_type": "display_data"
    },
    {
     "data": {
      "application/json": {
       "ascii": false,
       "bar_format": null,
       "colour": null,
       "elapsed": 0.0035829544067382812,
       "initial": 0,
       "n": 0,
       "ncols": 158,
       "nrows": 37,
       "postfix": null,
       "prefix": "getting output of TICA",
       "rate": null,
       "total": 11,
       "unit": "it",
       "unit_divisor": 1000,
       "unit_scale": false
      },
      "application/vnd.jupyter.widget-view+json": {
       "model_id": "",
       "version_major": 2,
       "version_minor": 0
      },
      "text/plain": [
       "getting output of TICA:   0%|                                                                                 …"
      ]
     },
     "metadata": {},
     "output_type": "display_data"
    },
    {
     "data": {
      "application/json": {
       "ascii": false,
       "bar_format": null,
       "colour": null,
       "elapsed": 0.006754159927368164,
       "initial": 0,
       "n": 0,
       "ncols": 158,
       "nrows": 37,
       "postfix": null,
       "prefix": "calculate covariances",
       "rate": null,
       "total": 11,
       "unit": "it",
       "unit_divisor": 1000,
       "unit_scale": false
      },
      "application/vnd.jupyter.widget-view+json": {
       "model_id": "",
       "version_major": 2,
       "version_minor": 0
      },
      "text/plain": [
       "calculate covariances:   0%|                                                                                  …"
      ]
     },
     "metadata": {},
     "output_type": "display_data"
    },
    {
     "data": {
      "application/json": {
       "ascii": false,
       "bar_format": null,
       "colour": null,
       "elapsed": 0.0032949447631835938,
       "initial": 0,
       "n": 0,
       "ncols": 158,
       "nrows": 37,
       "postfix": null,
       "prefix": "getting output of TICA",
       "rate": null,
       "total": 11,
       "unit": "it",
       "unit_divisor": 1000,
       "unit_scale": false
      },
      "application/vnd.jupyter.widget-view+json": {
       "model_id": "",
       "version_major": 2,
       "version_minor": 0
      },
      "text/plain": [
       "getting output of TICA:   0%|                                                                                 …"
      ]
     },
     "metadata": {},
     "output_type": "display_data"
    },
    {
     "data": {
      "application/json": {
       "ascii": false,
       "bar_format": null,
       "colour": null,
       "elapsed": 0.0039882659912109375,
       "initial": 0,
       "n": 0,
       "ncols": 158,
       "nrows": 37,
       "postfix": null,
       "prefix": "calculate covariances",
       "rate": null,
       "total": 11,
       "unit": "it",
       "unit_divisor": 1000,
       "unit_scale": false
      },
      "application/vnd.jupyter.widget-view+json": {
       "model_id": "",
       "version_major": 2,
       "version_minor": 0
      },
      "text/plain": [
       "calculate covariances:   0%|                                                                                  …"
      ]
     },
     "metadata": {},
     "output_type": "display_data"
    },
    {
     "data": {
      "application/json": {
       "ascii": false,
       "bar_format": null,
       "colour": null,
       "elapsed": 0.003316164016723633,
       "initial": 0,
       "n": 0,
       "ncols": 158,
       "nrows": 37,
       "postfix": null,
       "prefix": "getting output of TICA",
       "rate": null,
       "total": 11,
       "unit": "it",
       "unit_divisor": 1000,
       "unit_scale": false
      },
      "application/vnd.jupyter.widget-view+json": {
       "model_id": "",
       "version_major": 2,
       "version_minor": 0
      },
      "text/plain": [
       "getting output of TICA:   0%|                                                                                 …"
      ]
     },
     "metadata": {},
     "output_type": "display_data"
    },
    {
     "data": {
      "application/json": {
       "ascii": false,
       "bar_format": null,
       "colour": null,
       "elapsed": 0.003587484359741211,
       "initial": 0,
       "n": 0,
       "ncols": 158,
       "nrows": 37,
       "postfix": null,
       "prefix": "calculate covariances",
       "rate": null,
       "total": 11,
       "unit": "it",
       "unit_divisor": 1000,
       "unit_scale": false
      },
      "application/vnd.jupyter.widget-view+json": {
       "model_id": "",
       "version_major": 2,
       "version_minor": 0
      },
      "text/plain": [
       "calculate covariances:   0%|                                                                                  …"
      ]
     },
     "metadata": {},
     "output_type": "display_data"
    },
    {
     "data": {
      "application/json": {
       "ascii": false,
       "bar_format": null,
       "colour": null,
       "elapsed": 0.0035271644592285156,
       "initial": 0,
       "n": 0,
       "ncols": 158,
       "nrows": 37,
       "postfix": null,
       "prefix": "getting output of TICA",
       "rate": null,
       "total": 11,
       "unit": "it",
       "unit_divisor": 1000,
       "unit_scale": false
      },
      "application/vnd.jupyter.widget-view+json": {
       "model_id": "",
       "version_major": 2,
       "version_minor": 0
      },
      "text/plain": [
       "getting output of TICA:   0%|                                                                                 …"
      ]
     },
     "metadata": {},
     "output_type": "display_data"
    },
    {
     "data": {
      "application/json": {
       "ascii": false,
       "bar_format": null,
       "colour": null,
       "elapsed": 0.003689289093017578,
       "initial": 0,
       "n": 0,
       "ncols": 158,
       "nrows": 37,
       "postfix": null,
       "prefix": "calculate covariances",
       "rate": null,
       "total": 11,
       "unit": "it",
       "unit_divisor": 1000,
       "unit_scale": false
      },
      "application/vnd.jupyter.widget-view+json": {
       "model_id": "",
       "version_major": 2,
       "version_minor": 0
      },
      "text/plain": [
       "calculate covariances:   0%|                                                                                  …"
      ]
     },
     "metadata": {},
     "output_type": "display_data"
    },
    {
     "data": {
      "application/json": {
       "ascii": false,
       "bar_format": null,
       "colour": null,
       "elapsed": 0.0034689903259277344,
       "initial": 0,
       "n": 0,
       "ncols": 158,
       "nrows": 37,
       "postfix": null,
       "prefix": "getting output of TICA",
       "rate": null,
       "total": 11,
       "unit": "it",
       "unit_divisor": 1000,
       "unit_scale": false
      },
      "application/vnd.jupyter.widget-view+json": {
       "model_id": "",
       "version_major": 2,
       "version_minor": 0
      },
      "text/plain": [
       "getting output of TICA:   0%|                                                                                 …"
      ]
     },
     "metadata": {},
     "output_type": "display_data"
    },
    {
     "data": {
      "application/json": {
       "ascii": false,
       "bar_format": null,
       "colour": null,
       "elapsed": 0.004111051559448242,
       "initial": 0,
       "n": 0,
       "ncols": 158,
       "nrows": 37,
       "postfix": null,
       "prefix": "calculate covariances",
       "rate": null,
       "total": 11,
       "unit": "it",
       "unit_divisor": 1000,
       "unit_scale": false
      },
      "application/vnd.jupyter.widget-view+json": {
       "model_id": "",
       "version_major": 2,
       "version_minor": 0
      },
      "text/plain": [
       "calculate covariances:   0%|                                                                                  …"
      ]
     },
     "metadata": {},
     "output_type": "display_data"
    },
    {
     "data": {
      "application/json": {
       "ascii": false,
       "bar_format": null,
       "colour": null,
       "elapsed": 0.011763572692871094,
       "initial": 0,
       "n": 0,
       "ncols": 158,
       "nrows": 37,
       "postfix": null,
       "prefix": "getting output of TICA",
       "rate": null,
       "total": 11,
       "unit": "it",
       "unit_divisor": 1000,
       "unit_scale": false
      },
      "application/vnd.jupyter.widget-view+json": {
       "model_id": "",
       "version_major": 2,
       "version_minor": 0
      },
      "text/plain": [
       "getting output of TICA:   0%|                                                                                 …"
      ]
     },
     "metadata": {},
     "output_type": "display_data"
    },
    {
     "data": {
      "application/json": {
       "ascii": false,
       "bar_format": null,
       "colour": null,
       "elapsed": 0.003587007522583008,
       "initial": 0,
       "n": 0,
       "ncols": 158,
       "nrows": 37,
       "postfix": null,
       "prefix": "calculate covariances",
       "rate": null,
       "total": 11,
       "unit": "it",
       "unit_divisor": 1000,
       "unit_scale": false
      },
      "application/vnd.jupyter.widget-view+json": {
       "model_id": "",
       "version_major": 2,
       "version_minor": 0
      },
      "text/plain": [
       "calculate covariances:   0%|                                                                                  …"
      ]
     },
     "metadata": {},
     "output_type": "display_data"
    },
    {
     "data": {
      "application/json": {
       "ascii": false,
       "bar_format": null,
       "colour": null,
       "elapsed": 0.024672985076904297,
       "initial": 0,
       "n": 0,
       "ncols": 158,
       "nrows": 37,
       "postfix": null,
       "prefix": "getting output of TICA",
       "rate": null,
       "total": 11,
       "unit": "it",
       "unit_divisor": 1000,
       "unit_scale": false
      },
      "application/vnd.jupyter.widget-view+json": {
       "model_id": "",
       "version_major": 2,
       "version_minor": 0
      },
      "text/plain": [
       "getting output of TICA:   0%|                                                                                 …"
      ]
     },
     "metadata": {},
     "output_type": "display_data"
    },
    {
     "data": {
      "application/json": {
       "ascii": false,
       "bar_format": null,
       "colour": null,
       "elapsed": 0.0035424232482910156,
       "initial": 0,
       "n": 0,
       "ncols": 158,
       "nrows": 37,
       "postfix": null,
       "prefix": "calculate covariances",
       "rate": null,
       "total": 11,
       "unit": "it",
       "unit_divisor": 1000,
       "unit_scale": false
      },
      "application/vnd.jupyter.widget-view+json": {
       "model_id": "",
       "version_major": 2,
       "version_minor": 0
      },
      "text/plain": [
       "calculate covariances:   0%|                                                                                  …"
      ]
     },
     "metadata": {},
     "output_type": "display_data"
    },
    {
     "data": {
      "application/json": {
       "ascii": false,
       "bar_format": null,
       "colour": null,
       "elapsed": 0.013072490692138672,
       "initial": 0,
       "n": 0,
       "ncols": 158,
       "nrows": 37,
       "postfix": null,
       "prefix": "getting output of TICA",
       "rate": null,
       "total": 11,
       "unit": "it",
       "unit_divisor": 1000,
       "unit_scale": false
      },
      "application/vnd.jupyter.widget-view+json": {
       "model_id": "",
       "version_major": 2,
       "version_minor": 0
      },
      "text/plain": [
       "getting output of TICA:   0%|                                                                                 …"
      ]
     },
     "metadata": {},
     "output_type": "display_data"
    },
    {
     "data": {
      "application/json": {
       "ascii": false,
       "bar_format": null,
       "colour": null,
       "elapsed": 0.0067446231842041016,
       "initial": 0,
       "n": 0,
       "ncols": 158,
       "nrows": 37,
       "postfix": null,
       "prefix": "calculate covariances",
       "rate": null,
       "total": 11,
       "unit": "it",
       "unit_divisor": 1000,
       "unit_scale": false
      },
      "application/vnd.jupyter.widget-view+json": {
       "model_id": "",
       "version_major": 2,
       "version_minor": 0
      },
      "text/plain": [
       "calculate covariances:   0%|                                                                                  …"
      ]
     },
     "metadata": {},
     "output_type": "display_data"
    },
    {
     "data": {
      "application/json": {
       "ascii": false,
       "bar_format": null,
       "colour": null,
       "elapsed": 0.02660536766052246,
       "initial": 0,
       "n": 0,
       "ncols": 158,
       "nrows": 37,
       "postfix": null,
       "prefix": "getting output of TICA",
       "rate": null,
       "total": 11,
       "unit": "it",
       "unit_divisor": 1000,
       "unit_scale": false
      },
      "application/vnd.jupyter.widget-view+json": {
       "model_id": "",
       "version_major": 2,
       "version_minor": 0
      },
      "text/plain": [
       "getting output of TICA:   0%|                                                                                 …"
      ]
     },
     "metadata": {},
     "output_type": "display_data"
    },
    {
     "data": {
      "application/json": {
       "ascii": false,
       "bar_format": null,
       "colour": null,
       "elapsed": 0.0035893917083740234,
       "initial": 0,
       "n": 0,
       "ncols": 158,
       "nrows": 37,
       "postfix": null,
       "prefix": "calculate covariances",
       "rate": null,
       "total": 11,
       "unit": "it",
       "unit_divisor": 1000,
       "unit_scale": false
      },
      "application/vnd.jupyter.widget-view+json": {
       "model_id": "",
       "version_major": 2,
       "version_minor": 0
      },
      "text/plain": [
       "calculate covariances:   0%|                                                                                  …"
      ]
     },
     "metadata": {},
     "output_type": "display_data"
    },
    {
     "data": {
      "application/json": {
       "ascii": false,
       "bar_format": null,
       "colour": null,
       "elapsed": 0.0032491683959960938,
       "initial": 0,
       "n": 0,
       "ncols": 158,
       "nrows": 37,
       "postfix": null,
       "prefix": "getting output of TICA",
       "rate": null,
       "total": 11,
       "unit": "it",
       "unit_divisor": 1000,
       "unit_scale": false
      },
      "application/vnd.jupyter.widget-view+json": {
       "model_id": "",
       "version_major": 2,
       "version_minor": 0
      },
      "text/plain": [
       "getting output of TICA:   0%|                                                                                 …"
      ]
     },
     "metadata": {},
     "output_type": "display_data"
    },
    {
     "data": {
      "application/json": {
       "ascii": false,
       "bar_format": null,
       "colour": null,
       "elapsed": 0.007078886032104492,
       "initial": 0,
       "n": 0,
       "ncols": 158,
       "nrows": 37,
       "postfix": null,
       "prefix": "calculate covariances",
       "rate": null,
       "total": 11,
       "unit": "it",
       "unit_divisor": 1000,
       "unit_scale": false
      },
      "application/vnd.jupyter.widget-view+json": {
       "model_id": "",
       "version_major": 2,
       "version_minor": 0
      },
      "text/plain": [
       "calculate covariances:   0%|                                                                                  …"
      ]
     },
     "metadata": {},
     "output_type": "display_data"
    },
    {
     "data": {
      "application/json": {
       "ascii": false,
       "bar_format": null,
       "colour": null,
       "elapsed": 0.009421586990356445,
       "initial": 0,
       "n": 0,
       "ncols": 158,
       "nrows": 37,
       "postfix": null,
       "prefix": "getting output of TICA",
       "rate": null,
       "total": 11,
       "unit": "it",
       "unit_divisor": 1000,
       "unit_scale": false
      },
      "application/vnd.jupyter.widget-view+json": {
       "model_id": "",
       "version_major": 2,
       "version_minor": 0
      },
      "text/plain": [
       "getting output of TICA:   0%|                                                                                 …"
      ]
     },
     "metadata": {},
     "output_type": "display_data"
    },
    {
     "data": {
      "application/json": {
       "ascii": false,
       "bar_format": null,
       "colour": null,
       "elapsed": 0.003427267074584961,
       "initial": 0,
       "n": 0,
       "ncols": 158,
       "nrows": 37,
       "postfix": null,
       "prefix": "calculate covariances",
       "rate": null,
       "total": 11,
       "unit": "it",
       "unit_divisor": 1000,
       "unit_scale": false
      },
      "application/vnd.jupyter.widget-view+json": {
       "model_id": "",
       "version_major": 2,
       "version_minor": 0
      },
      "text/plain": [
       "calculate covariances:   0%|                                                                                  …"
      ]
     },
     "metadata": {},
     "output_type": "display_data"
    },
    {
     "data": {
      "application/json": {
       "ascii": false,
       "bar_format": null,
       "colour": null,
       "elapsed": 0.006161212921142578,
       "initial": 0,
       "n": 0,
       "ncols": 158,
       "nrows": 37,
       "postfix": null,
       "prefix": "getting output of TICA",
       "rate": null,
       "total": 11,
       "unit": "it",
       "unit_divisor": 1000,
       "unit_scale": false
      },
      "application/vnd.jupyter.widget-view+json": {
       "model_id": "",
       "version_major": 2,
       "version_minor": 0
      },
      "text/plain": [
       "getting output of TICA:   0%|                                                                                 …"
      ]
     },
     "metadata": {},
     "output_type": "display_data"
    },
    {
     "data": {
      "application/json": {
       "ascii": false,
       "bar_format": null,
       "colour": null,
       "elapsed": 0.0036821365356445312,
       "initial": 0,
       "n": 0,
       "ncols": 158,
       "nrows": 37,
       "postfix": null,
       "prefix": "calculate covariances",
       "rate": null,
       "total": 11,
       "unit": "it",
       "unit_divisor": 1000,
       "unit_scale": false
      },
      "application/vnd.jupyter.widget-view+json": {
       "model_id": "",
       "version_major": 2,
       "version_minor": 0
      },
      "text/plain": [
       "calculate covariances:   0%|                                                                                  …"
      ]
     },
     "metadata": {},
     "output_type": "display_data"
    },
    {
     "data": {
      "application/json": {
       "ascii": false,
       "bar_format": null,
       "colour": null,
       "elapsed": 0.0036797523498535156,
       "initial": 0,
       "n": 0,
       "ncols": 158,
       "nrows": 37,
       "postfix": null,
       "prefix": "getting output of TICA",
       "rate": null,
       "total": 11,
       "unit": "it",
       "unit_divisor": 1000,
       "unit_scale": false
      },
      "application/vnd.jupyter.widget-view+json": {
       "model_id": "",
       "version_major": 2,
       "version_minor": 0
      },
      "text/plain": [
       "getting output of TICA:   0%|                                                                                 …"
      ]
     },
     "metadata": {},
     "output_type": "display_data"
    },
    {
     "data": {
      "application/json": {
       "ascii": false,
       "bar_format": null,
       "colour": null,
       "elapsed": 0.0035123825073242188,
       "initial": 0,
       "n": 0,
       "ncols": 158,
       "nrows": 37,
       "postfix": null,
       "prefix": "calculate covariances",
       "rate": null,
       "total": 11,
       "unit": "it",
       "unit_divisor": 1000,
       "unit_scale": false
      },
      "application/vnd.jupyter.widget-view+json": {
       "model_id": "",
       "version_major": 2,
       "version_minor": 0
      },
      "text/plain": [
       "calculate covariances:   0%|                                                                                  …"
      ]
     },
     "metadata": {},
     "output_type": "display_data"
    },
    {
     "data": {
      "application/json": {
       "ascii": false,
       "bar_format": null,
       "colour": null,
       "elapsed": 0.003848552703857422,
       "initial": 0,
       "n": 0,
       "ncols": 158,
       "nrows": 37,
       "postfix": null,
       "prefix": "getting output of TICA",
       "rate": null,
       "total": 11,
       "unit": "it",
       "unit_divisor": 1000,
       "unit_scale": false
      },
      "application/vnd.jupyter.widget-view+json": {
       "model_id": "",
       "version_major": 2,
       "version_minor": 0
      },
      "text/plain": [
       "getting output of TICA:   0%|                                                                                 …"
      ]
     },
     "metadata": {},
     "output_type": "display_data"
    },
    {
     "data": {
      "application/json": {
       "ascii": false,
       "bar_format": null,
       "colour": null,
       "elapsed": 0.003401517868041992,
       "initial": 0,
       "n": 0,
       "ncols": 158,
       "nrows": 37,
       "postfix": null,
       "prefix": "calculate covariances",
       "rate": null,
       "total": 11,
       "unit": "it",
       "unit_divisor": 1000,
       "unit_scale": false
      },
      "application/vnd.jupyter.widget-view+json": {
       "model_id": "",
       "version_major": 2,
       "version_minor": 0
      },
      "text/plain": [
       "calculate covariances:   0%|                                                                                  …"
      ]
     },
     "metadata": {},
     "output_type": "display_data"
    },
    {
     "data": {
      "application/json": {
       "ascii": false,
       "bar_format": null,
       "colour": null,
       "elapsed": 0.007171630859375,
       "initial": 0,
       "n": 0,
       "ncols": 158,
       "nrows": 37,
       "postfix": null,
       "prefix": "getting output of TICA",
       "rate": null,
       "total": 11,
       "unit": "it",
       "unit_divisor": 1000,
       "unit_scale": false
      },
      "application/vnd.jupyter.widget-view+json": {
       "model_id": "",
       "version_major": 2,
       "version_minor": 0
      },
      "text/plain": [
       "getting output of TICA:   0%|                                                                                 …"
      ]
     },
     "metadata": {},
     "output_type": "display_data"
    },
    {
     "data": {
      "application/json": {
       "ascii": false,
       "bar_format": null,
       "colour": null,
       "elapsed": 0.0036149024963378906,
       "initial": 0,
       "n": 0,
       "ncols": 158,
       "nrows": 37,
       "postfix": null,
       "prefix": "calculate covariances",
       "rate": null,
       "total": 11,
       "unit": "it",
       "unit_divisor": 1000,
       "unit_scale": false
      },
      "application/vnd.jupyter.widget-view+json": {
       "model_id": "",
       "version_major": 2,
       "version_minor": 0
      },
      "text/plain": [
       "calculate covariances:   0%|                                                                                  …"
      ]
     },
     "metadata": {},
     "output_type": "display_data"
    },
    {
     "data": {
      "application/json": {
       "ascii": false,
       "bar_format": null,
       "colour": null,
       "elapsed": 0.0035550594329833984,
       "initial": 0,
       "n": 0,
       "ncols": 158,
       "nrows": 37,
       "postfix": null,
       "prefix": "getting output of TICA",
       "rate": null,
       "total": 11,
       "unit": "it",
       "unit_divisor": 1000,
       "unit_scale": false
      },
      "application/vnd.jupyter.widget-view+json": {
       "model_id": "",
       "version_major": 2,
       "version_minor": 0
      },
      "text/plain": [
       "getting output of TICA:   0%|                                                                                 …"
      ]
     },
     "metadata": {},
     "output_type": "display_data"
    },
    {
     "data": {
      "application/json": {
       "ascii": false,
       "bar_format": null,
       "colour": null,
       "elapsed": 0.0035893917083740234,
       "initial": 0,
       "n": 0,
       "ncols": 158,
       "nrows": 37,
       "postfix": null,
       "prefix": "calculate covariances",
       "rate": null,
       "total": 11,
       "unit": "it",
       "unit_divisor": 1000,
       "unit_scale": false
      },
      "application/vnd.jupyter.widget-view+json": {
       "model_id": "",
       "version_major": 2,
       "version_minor": 0
      },
      "text/plain": [
       "calculate covariances:   0%|                                                                                  …"
      ]
     },
     "metadata": {},
     "output_type": "display_data"
    },
    {
     "data": {
      "application/json": {
       "ascii": false,
       "bar_format": null,
       "colour": null,
       "elapsed": 0.0033614635467529297,
       "initial": 0,
       "n": 0,
       "ncols": 158,
       "nrows": 37,
       "postfix": null,
       "prefix": "getting output of TICA",
       "rate": null,
       "total": 11,
       "unit": "it",
       "unit_divisor": 1000,
       "unit_scale": false
      },
      "application/vnd.jupyter.widget-view+json": {
       "model_id": "",
       "version_major": 2,
       "version_minor": 0
      },
      "text/plain": [
       "getting output of TICA:   0%|                                                                                 …"
      ]
     },
     "metadata": {},
     "output_type": "display_data"
    },
    {
     "data": {
      "application/json": {
       "ascii": false,
       "bar_format": null,
       "colour": null,
       "elapsed": 0.0067942142486572266,
       "initial": 0,
       "n": 0,
       "ncols": 158,
       "nrows": 37,
       "postfix": null,
       "prefix": "calculate covariances",
       "rate": null,
       "total": 11,
       "unit": "it",
       "unit_divisor": 1000,
       "unit_scale": false
      },
      "application/vnd.jupyter.widget-view+json": {
       "model_id": "",
       "version_major": 2,
       "version_minor": 0
      },
      "text/plain": [
       "calculate covariances:   0%|                                                                                  …"
      ]
     },
     "metadata": {},
     "output_type": "display_data"
    },
    {
     "data": {
      "application/json": {
       "ascii": false,
       "bar_format": null,
       "colour": null,
       "elapsed": 0.0036764144897460938,
       "initial": 0,
       "n": 0,
       "ncols": 158,
       "nrows": 37,
       "postfix": null,
       "prefix": "getting output of TICA",
       "rate": null,
       "total": 11,
       "unit": "it",
       "unit_divisor": 1000,
       "unit_scale": false
      },
      "application/vnd.jupyter.widget-view+json": {
       "model_id": "",
       "version_major": 2,
       "version_minor": 0
      },
      "text/plain": [
       "getting output of TICA:   0%|                                                                                 …"
      ]
     },
     "metadata": {},
     "output_type": "display_data"
    },
    {
     "data": {
      "application/json": {
       "ascii": false,
       "bar_format": null,
       "colour": null,
       "elapsed": 0.003605365753173828,
       "initial": 0,
       "n": 0,
       "ncols": 158,
       "nrows": 37,
       "postfix": null,
       "prefix": "calculate covariances",
       "rate": null,
       "total": 11,
       "unit": "it",
       "unit_divisor": 1000,
       "unit_scale": false
      },
      "application/vnd.jupyter.widget-view+json": {
       "model_id": "",
       "version_major": 2,
       "version_minor": 0
      },
      "text/plain": [
       "calculate covariances:   0%|                                                                                  …"
      ]
     },
     "metadata": {},
     "output_type": "display_data"
    },
    {
     "data": {
      "application/json": {
       "ascii": false,
       "bar_format": null,
       "colour": null,
       "elapsed": 0.013835430145263672,
       "initial": 0,
       "n": 0,
       "ncols": 158,
       "nrows": 37,
       "postfix": null,
       "prefix": "getting output of TICA",
       "rate": null,
       "total": 11,
       "unit": "it",
       "unit_divisor": 1000,
       "unit_scale": false
      },
      "application/vnd.jupyter.widget-view+json": {
       "model_id": "",
       "version_major": 2,
       "version_minor": 0
      },
      "text/plain": [
       "getting output of TICA:   0%|                                                                                 …"
      ]
     },
     "metadata": {},
     "output_type": "display_data"
    },
    {
     "data": {
      "application/json": {
       "ascii": false,
       "bar_format": null,
       "colour": null,
       "elapsed": 0.007748126983642578,
       "initial": 0,
       "n": 0,
       "ncols": 158,
       "nrows": 37,
       "postfix": null,
       "prefix": "calculate covariances",
       "rate": null,
       "total": 11,
       "unit": "it",
       "unit_divisor": 1000,
       "unit_scale": false
      },
      "application/vnd.jupyter.widget-view+json": {
       "model_id": "",
       "version_major": 2,
       "version_minor": 0
      },
      "text/plain": [
       "calculate covariances:   0%|                                                                                  …"
      ]
     },
     "metadata": {},
     "output_type": "display_data"
    },
    {
     "data": {
      "application/json": {
       "ascii": false,
       "bar_format": null,
       "colour": null,
       "elapsed": 0.02264261245727539,
       "initial": 0,
       "n": 0,
       "ncols": 158,
       "nrows": 37,
       "postfix": null,
       "prefix": "getting output of TICA",
       "rate": null,
       "total": 11,
       "unit": "it",
       "unit_divisor": 1000,
       "unit_scale": false
      },
      "application/vnd.jupyter.widget-view+json": {
       "model_id": "",
       "version_major": 2,
       "version_minor": 0
      },
      "text/plain": [
       "getting output of TICA:   0%|                                                                                 …"
      ]
     },
     "metadata": {},
     "output_type": "display_data"
    },
    {
     "data": {
      "application/json": {
       "ascii": false,
       "bar_format": null,
       "colour": null,
       "elapsed": 0.0035505294799804688,
       "initial": 0,
       "n": 0,
       "ncols": 158,
       "nrows": 37,
       "postfix": null,
       "prefix": "calculate covariances",
       "rate": null,
       "total": 11,
       "unit": "it",
       "unit_divisor": 1000,
       "unit_scale": false
      },
      "application/vnd.jupyter.widget-view+json": {
       "model_id": "",
       "version_major": 2,
       "version_minor": 0
      },
      "text/plain": [
       "calculate covariances:   0%|                                                                                  …"
      ]
     },
     "metadata": {},
     "output_type": "display_data"
    },
    {
     "data": {
      "application/json": {
       "ascii": false,
       "bar_format": null,
       "colour": null,
       "elapsed": 0.0033426284790039062,
       "initial": 0,
       "n": 0,
       "ncols": 158,
       "nrows": 37,
       "postfix": null,
       "prefix": "getting output of TICA",
       "rate": null,
       "total": 11,
       "unit": "it",
       "unit_divisor": 1000,
       "unit_scale": false
      },
      "application/vnd.jupyter.widget-view+json": {
       "model_id": "",
       "version_major": 2,
       "version_minor": 0
      },
      "text/plain": [
       "getting output of TICA:   0%|                                                                                 …"
      ]
     },
     "metadata": {},
     "output_type": "display_data"
    },
    {
     "data": {
      "application/json": {
       "ascii": false,
       "bar_format": null,
       "colour": null,
       "elapsed": 0.003866434097290039,
       "initial": 0,
       "n": 0,
       "ncols": 158,
       "nrows": 37,
       "postfix": null,
       "prefix": "calculate covariances",
       "rate": null,
       "total": 11,
       "unit": "it",
       "unit_divisor": 1000,
       "unit_scale": false
      },
      "application/vnd.jupyter.widget-view+json": {
       "model_id": "",
       "version_major": 2,
       "version_minor": 0
      },
      "text/plain": [
       "calculate covariances:   0%|                                                                                  …"
      ]
     },
     "metadata": {},
     "output_type": "display_data"
    },
    {
     "data": {
      "application/json": {
       "ascii": false,
       "bar_format": null,
       "colour": null,
       "elapsed": 0.01146554946899414,
       "initial": 0,
       "n": 0,
       "ncols": 158,
       "nrows": 37,
       "postfix": null,
       "prefix": "getting output of TICA",
       "rate": null,
       "total": 11,
       "unit": "it",
       "unit_divisor": 1000,
       "unit_scale": false
      },
      "application/vnd.jupyter.widget-view+json": {
       "model_id": "",
       "version_major": 2,
       "version_minor": 0
      },
      "text/plain": [
       "getting output of TICA:   0%|                                                                                 …"
      ]
     },
     "metadata": {},
     "output_type": "display_data"
    },
    {
     "data": {
      "application/json": {
       "ascii": false,
       "bar_format": null,
       "colour": null,
       "elapsed": 0.0037331581115722656,
       "initial": 0,
       "n": 0,
       "ncols": 158,
       "nrows": 37,
       "postfix": null,
       "prefix": "calculate covariances",
       "rate": null,
       "total": 11,
       "unit": "it",
       "unit_divisor": 1000,
       "unit_scale": false
      },
      "application/vnd.jupyter.widget-view+json": {
       "model_id": "",
       "version_major": 2,
       "version_minor": 0
      },
      "text/plain": [
       "calculate covariances:   0%|                                                                                  …"
      ]
     },
     "metadata": {},
     "output_type": "display_data"
    },
    {
     "data": {
      "application/json": {
       "ascii": false,
       "bar_format": null,
       "colour": null,
       "elapsed": 0.023975610733032227,
       "initial": 0,
       "n": 0,
       "ncols": 158,
       "nrows": 37,
       "postfix": null,
       "prefix": "getting output of TICA",
       "rate": null,
       "total": 11,
       "unit": "it",
       "unit_divisor": 1000,
       "unit_scale": false
      },
      "application/vnd.jupyter.widget-view+json": {
       "model_id": "",
       "version_major": 2,
       "version_minor": 0
      },
      "text/plain": [
       "getting output of TICA:   0%|                                                                                 …"
      ]
     },
     "metadata": {},
     "output_type": "display_data"
    },
    {
     "data": {
      "application/json": {
       "ascii": false,
       "bar_format": null,
       "colour": null,
       "elapsed": 0.0046007633209228516,
       "initial": 0,
       "n": 0,
       "ncols": 158,
       "nrows": 37,
       "postfix": null,
       "prefix": "calculate covariances",
       "rate": null,
       "total": 11,
       "unit": "it",
       "unit_divisor": 1000,
       "unit_scale": false
      },
      "application/vnd.jupyter.widget-view+json": {
       "model_id": "",
       "version_major": 2,
       "version_minor": 0
      },
      "text/plain": [
       "calculate covariances:   0%|                                                                                  …"
      ]
     },
     "metadata": {},
     "output_type": "display_data"
    },
    {
     "data": {
      "application/json": {
       "ascii": false,
       "bar_format": null,
       "colour": null,
       "elapsed": 0.012676477432250977,
       "initial": 0,
       "n": 0,
       "ncols": 158,
       "nrows": 37,
       "postfix": null,
       "prefix": "getting output of TICA",
       "rate": null,
       "total": 11,
       "unit": "it",
       "unit_divisor": 1000,
       "unit_scale": false
      },
      "application/vnd.jupyter.widget-view+json": {
       "model_id": "",
       "version_major": 2,
       "version_minor": 0
      },
      "text/plain": [
       "getting output of TICA:   0%|                                                                                 …"
      ]
     },
     "metadata": {},
     "output_type": "display_data"
    },
    {
     "data": {
      "application/json": {
       "ascii": false,
       "bar_format": null,
       "colour": null,
       "elapsed": 0.003961086273193359,
       "initial": 0,
       "n": 0,
       "ncols": 158,
       "nrows": 37,
       "postfix": null,
       "prefix": "calculate covariances",
       "rate": null,
       "total": 11,
       "unit": "it",
       "unit_divisor": 1000,
       "unit_scale": false
      },
      "application/vnd.jupyter.widget-view+json": {
       "model_id": "",
       "version_major": 2,
       "version_minor": 0
      },
      "text/plain": [
       "calculate covariances:   0%|                                                                                  …"
      ]
     },
     "metadata": {},
     "output_type": "display_data"
    },
    {
     "data": {
      "application/json": {
       "ascii": false,
       "bar_format": null,
       "colour": null,
       "elapsed": 0.003324270248413086,
       "initial": 0,
       "n": 0,
       "ncols": 158,
       "nrows": 37,
       "postfix": null,
       "prefix": "getting output of TICA",
       "rate": null,
       "total": 11,
       "unit": "it",
       "unit_divisor": 1000,
       "unit_scale": false
      },
      "application/vnd.jupyter.widget-view+json": {
       "model_id": "",
       "version_major": 2,
       "version_minor": 0
      },
      "text/plain": [
       "getting output of TICA:   0%|                                                                                 …"
      ]
     },
     "metadata": {},
     "output_type": "display_data"
    },
    {
     "data": {
      "application/json": {
       "ascii": false,
       "bar_format": null,
       "colour": null,
       "elapsed": 0.004238128662109375,
       "initial": 0,
       "n": 0,
       "ncols": 158,
       "nrows": 37,
       "postfix": null,
       "prefix": "calculate covariances",
       "rate": null,
       "total": 11,
       "unit": "it",
       "unit_divisor": 1000,
       "unit_scale": false
      },
      "application/vnd.jupyter.widget-view+json": {
       "model_id": "",
       "version_major": 2,
       "version_minor": 0
      },
      "text/plain": [
       "calculate covariances:   0%|                                                                                  …"
      ]
     },
     "metadata": {},
     "output_type": "display_data"
    },
    {
     "data": {
      "application/json": {
       "ascii": false,
       "bar_format": null,
       "colour": null,
       "elapsed": 0.003332853317260742,
       "initial": 0,
       "n": 0,
       "ncols": 158,
       "nrows": 37,
       "postfix": null,
       "prefix": "getting output of TICA",
       "rate": null,
       "total": 11,
       "unit": "it",
       "unit_divisor": 1000,
       "unit_scale": false
      },
      "application/vnd.jupyter.widget-view+json": {
       "model_id": "",
       "version_major": 2,
       "version_minor": 0
      },
      "text/plain": [
       "getting output of TICA:   0%|                                                                                 …"
      ]
     },
     "metadata": {},
     "output_type": "display_data"
    },
    {
     "data": {
      "application/json": {
       "ascii": false,
       "bar_format": null,
       "colour": null,
       "elapsed": 0.006812095642089844,
       "initial": 0,
       "n": 0,
       "ncols": 158,
       "nrows": 37,
       "postfix": null,
       "prefix": "calculate covariances",
       "rate": null,
       "total": 11,
       "unit": "it",
       "unit_divisor": 1000,
       "unit_scale": false
      },
      "application/vnd.jupyter.widget-view+json": {
       "model_id": "",
       "version_major": 2,
       "version_minor": 0
      },
      "text/plain": [
       "calculate covariances:   0%|                                                                                  …"
      ]
     },
     "metadata": {},
     "output_type": "display_data"
    },
    {
     "data": {
      "application/json": {
       "ascii": false,
       "bar_format": null,
       "colour": null,
       "elapsed": 0.023245573043823242,
       "initial": 0,
       "n": 0,
       "ncols": 158,
       "nrows": 37,
       "postfix": null,
       "prefix": "getting output of TICA",
       "rate": null,
       "total": 11,
       "unit": "it",
       "unit_divisor": 1000,
       "unit_scale": false
      },
      "application/vnd.jupyter.widget-view+json": {
       "model_id": "",
       "version_major": 2,
       "version_minor": 0
      },
      "text/plain": [
       "getting output of TICA:   0%|                                                                                 …"
      ]
     },
     "metadata": {},
     "output_type": "display_data"
    },
    {
     "data": {
      "application/json": {
       "ascii": false,
       "bar_format": null,
       "colour": null,
       "elapsed": 0.003676891326904297,
       "initial": 0,
       "n": 0,
       "ncols": 158,
       "nrows": 37,
       "postfix": null,
       "prefix": "calculate covariances",
       "rate": null,
       "total": 11,
       "unit": "it",
       "unit_divisor": 1000,
       "unit_scale": false
      },
      "application/vnd.jupyter.widget-view+json": {
       "model_id": "",
       "version_major": 2,
       "version_minor": 0
      },
      "text/plain": [
       "calculate covariances:   0%|                                                                                  …"
      ]
     },
     "metadata": {},
     "output_type": "display_data"
    },
    {
     "data": {
      "application/json": {
       "ascii": false,
       "bar_format": null,
       "colour": null,
       "elapsed": 0.024451017379760742,
       "initial": 0,
       "n": 0,
       "ncols": 158,
       "nrows": 37,
       "postfix": null,
       "prefix": "getting output of TICA",
       "rate": null,
       "total": 11,
       "unit": "it",
       "unit_divisor": 1000,
       "unit_scale": false
      },
      "application/vnd.jupyter.widget-view+json": {
       "model_id": "",
       "version_major": 2,
       "version_minor": 0
      },
      "text/plain": [
       "getting output of TICA:   0%|                                                                                 …"
      ]
     },
     "metadata": {},
     "output_type": "display_data"
    },
    {
     "data": {
      "application/json": {
       "ascii": false,
       "bar_format": null,
       "colour": null,
       "elapsed": 0.006607532501220703,
       "initial": 0,
       "n": 0,
       "ncols": 158,
       "nrows": 37,
       "postfix": null,
       "prefix": "calculate covariances",
       "rate": null,
       "total": 11,
       "unit": "it",
       "unit_divisor": 1000,
       "unit_scale": false
      },
      "application/vnd.jupyter.widget-view+json": {
       "model_id": "",
       "version_major": 2,
       "version_minor": 0
      },
      "text/plain": [
       "calculate covariances:   0%|                                                                                  …"
      ]
     },
     "metadata": {},
     "output_type": "display_data"
    },
    {
     "data": {
      "application/json": {
       "ascii": false,
       "bar_format": null,
       "colour": null,
       "elapsed": 0.011710643768310547,
       "initial": 0,
       "n": 0,
       "ncols": 158,
       "nrows": 37,
       "postfix": null,
       "prefix": "getting output of TICA",
       "rate": null,
       "total": 11,
       "unit": "it",
       "unit_divisor": 1000,
       "unit_scale": false
      },
      "application/vnd.jupyter.widget-view+json": {
       "model_id": "",
       "version_major": 2,
       "version_minor": 0
      },
      "text/plain": [
       "getting output of TICA:   0%|                                                                                 …"
      ]
     },
     "metadata": {},
     "output_type": "display_data"
    }
   ],
   "source": [
    "hists = []\n",
    "extents = []\n",
    "sizes = ['0.1', '0.2', '0.3', '0.4', '0.5', '0.6', '0.7', '0.8', '0.9', '1']\n",
    "for s in sizes:\n",
    "    fimp = np.load(f'2_fp2/saved_fp/fimp_{s}.npy')\n",
    "    h1=[]\n",
    "    e1=[]\n",
    "    for f in fimp:\n",
    "        f = f.argsort()[::-1][:200]\n",
    "        tic2 = [t[:,f] for t in traj_data]\n",
    "        tic2 = coor.tica(tic2, lag=700, dim=2).get_output()[0]\n",
    "        hh = nh.hist_range(tic2, dists0, mini=0, maxi=0.6)\n",
    "        h1.append(hh[4])\n",
    "        e1.append(hh[:4])\n",
    "    hists.append(h1)\n",
    "    extents.append(e1)"
   ]
  },
  {
   "cell_type": "code",
   "execution_count": 72,
   "id": "3a67e933",
   "metadata": {},
   "outputs": [
    {
     "data": {
      "text/plain": [
       "(array([0.99942304, 0.99962214, 0.99966188, 0.99975139, 0.99976625,\n",
       "        0.99975138, 0.9993006 , 0.99971672, 0.99971168, 0.99941808]),\n",
       " array([1.34330196e-04, 7.26210433e-05, 5.37591994e-05, 4.46640460e-05,\n",
       "        6.03996056e-05, 4.76367733e-05, 7.59414690e-05, 1.05985267e-04,\n",
       "        3.72890552e-05, 1.17877927e-04]))"
      ]
     },
     "execution_count": 72,
     "metadata": {},
     "output_type": "execute_result"
    }
   ],
   "source": [
    "lc = [np.load(f'2_fp2/saved_fp/lc_{s}.npy') for s in sizes]\n",
    "lc = np.mean(lc, axis=1), np.std(lc, axis=1)\n",
    "lc"
   ]
  },
  {
   "cell_type": "code",
   "execution_count": 73,
   "id": "7b5e2d39",
   "metadata": {},
   "outputs": [
    {
     "data": {
      "image/png": "[encoded data removed]",
      "text/plain": [
       "<Figure size 1600x600 with 10 Axes>"
      ]
     },
     "metadata": {},
     "output_type": "display_data"
    }
   ],
   "source": [
    "fig,ax=plt.subplots(2,5,figsize=(16,6), sharex=True, sharey=True)\n",
    "plt.tight_layout()\n",
    "ax=np.concatenate((ax))\n",
    "for a,hh in enumerate(hists):\n",
    "    ax[a].imshow(hh[0], vmin=0, vmax=1, cmap='jet', interpolation='gaussian')\n",
    "plt.show()"
   ]
  },
  {
   "cell_type": "code",
   "execution_count": null,
   "id": "83d7451d",
   "metadata": {},
   "outputs": [],
   "source": []
  },
  {
   "cell_type": "code",
   "execution_count": 74,
   "id": "b24bae0f",
   "metadata": {},
   "outputs": [],
   "source": [
    "ce = [\n",
    "    [\n",
    "        nh.classification_extent(j, cutoff=0.1, strategy='weighted',\n",
    "                                output_type='jm', operation=2, jm_lower=t4l_weight, jm_impure=t4l_impure)\n",
    "    for j in i]\n",
    "for i in hists]\n",
    "ce = np.mean(ce, axis=1), np.std(ce, axis=1)"
   ]
  },
  {
   "cell_type": "code",
   "execution_count": 75,
   "id": "5a25aa56",
   "metadata": {},
   "outputs": [
    {
     "data": {
      "text/plain": [
       "(0.6, 0.8)"
      ]
     },
     "execution_count": 75,
     "metadata": {},
     "output_type": "execute_result"
    },
    {
     "data": {
      "image/png": "[encoded data removed]",
      "text/plain": [
       "<Figure size 640x480 with 1 Axes>"
      ]
     },
     "metadata": {},
     "output_type": "display_data"
    }
   ],
   "source": [
    "fig,ax=plt.subplots(1)\n",
    "ax.errorbar(sizes, ce[0], yerr=ce[1])\n",
    "ax.set_ylim(0.6,0.8)"
   ]
  },
  {
   "cell_type": "code",
   "execution_count": null,
   "id": "eef2e5f5",
   "metadata": {},
   "outputs": [],
   "source": []
  },
  {
   "cell_type": "markdown",
   "id": "556fc514",
   "metadata": {},
   "source": [
    "### for pmt_data_size=0.1"
   ]
  },
  {
   "cell_type": "code",
   "execution_count": 27,
   "id": "08b37616",
   "metadata": {},
   "outputs": [],
   "source": [
    "hists = []\n",
    "ce = []\n",
    "fimp = np.load(f'2_fp2/saved_fp/fimp_0.1.npy')\n",
    "for f in fimp:\n",
    "    f = f.argsort()[::-1][:200]\n",
    "    tic2 = [t[:,f] for t in traj_data]\n",
    "    tic2 = coor.tica(tic2, lag=700, dim=2).get_output()[0]\n",
    "    hh = nh.hist_range(tic2, dists0, mini=0, maxi=0.6)[4]\n",
    "    hists.append(hh)\n",
    "    ce.append(nh.classification_extent(hh, cutoff=0.1, strategy='weighted',\n",
    "                                      output_type='jm', operation=2, \n",
    "                                      jm_lower=t4l_weight, jm_impure=t4l_impure))\n",
    "ce = np.array(ce)"
   ]
  },
  {
   "cell_type": "code",
   "execution_count": 28,
   "id": "45433171",
   "metadata": {},
   "outputs": [],
   "source": [
    "#reference with all data\n",
    "cref = 0.7528, 0.0074"
   ]
  },
  {
   "cell_type": "markdown",
   "id": "f03de69b",
   "metadata": {},
   "source": [
    "<font size=3>\n",
    "    error calculation: <br>\n",
    "    $ cdiff = \\frac{ce-cref}{cref }* 100 $ #percent diff in results <br>\n",
    "    <br>\n",
    "    $\\Delta cdiff = \\sqrt{\\frac{\\delta cdiff}{\\delta ce}\\Delta ce + \\frac{\\delta cdiff}{\\delta cref}\\Delta cref }$ <br>\n",
    "    \\Delta ce is 0, hence first component is zero <br>\n",
    "    $ \\frac {\\delta} {\\delta cref} (\\frac{ce-cref}{cref }* 100) = -100\\frac{ce}{cref^2} $ <br>\n",
    "    $ \\Delta cdiff = \\sqrt{100 \\frac{ce}{cref^2}\\Delta cref} $"
   ]
  },
  {
   "cell_type": "code",
   "execution_count": 29,
   "id": "da1a8a6b",
   "metadata": {},
   "outputs": [
    {
     "data": {
      "text/plain": [
       "array([-0.56795209, -0.13564681,  0.38480845, -3.49071575, -0.19855035])"
      ]
     },
     "execution_count": 29,
     "metadata": {},
     "output_type": "execute_result"
    }
   ],
   "source": [
    "cdiff = (ce-cref[0])/cref[0] * 100\n",
    "cdiff"
   ]
  },
  {
   "cell_type": "code",
   "execution_count": 31,
   "id": "4788ac16",
   "metadata": {},
   "outputs": [
    {
     "data": {
      "text/plain": [
       "array([0.98864243, 0.99078929, 0.99336774, 0.97400369, 0.99047719])"
      ]
     },
     "execution_count": 31,
     "metadata": {},
     "output_type": "execute_result"
    }
   ],
   "source": [
    "cerr = np.sqrt(100 * ce/(cref[0]**2) * cref[1])\n",
    "cerr"
   ]
  },
  {
   "cell_type": "code",
   "execution_count": null,
   "id": "cbaabb69",
   "metadata": {},
   "outputs": [],
   "source": []
  },
  {
   "cell_type": "code",
   "execution_count": 49,
   "id": "8e810867",
   "metadata": {},
   "outputs": [
    {
     "data": {
      "image/png": "[encoded data removed]",
      "text/plain": [
       "<Figure size 640x480 with 1 Axes>"
      ]
     },
     "metadata": {},
     "output_type": "display_data"
    }
   ],
   "source": [
    "fig,ax=plt.subplots()\n",
    "ax.errorbar(range(5), cdiff, yerr=cerr, fmt='o', color='crimson', ecolor='black', ms=10)\n",
    "ax.set_xlim(-15,20)\n",
    "ax.spines[:].set_linewidth(2)\n",
    "ax.set_yticks([-3,-1,1])\n",
    "ax.tick_params(labelsize=30, length=8, width=2, labelbottom=False, bottom=False)\n",
    "ax.yaxis.set_minor_locator(AutoMinorLocator(2))\n",
    "ax.tick_params(which='minor', length=5, width=2)\n",
    "plt.savefig('plots/percent_diff_fp.pdf')\n",
    "plt.show()"
   ]
  },
  {
   "cell_type": "code",
   "execution_count": null,
   "id": "9cb38237",
   "metadata": {},
   "outputs": [],
   "source": []
  }
 ],
 "metadata": {
  "kernelspec": {
   "display_name": "Python 3 (ipykernel)",
   "language": "python",
   "name": "python3"
  },
  "language_info": {
   "codemirror_mode": {
    "name": "ipython",
    "version": 3
   },
   "file_extension": ".py",
   "mimetype": "text/x-python",
   "name": "python",
   "nbconvert_exporter": "python",
   "pygments_lexer": "ipython3",
   "version": "3.9.12"
  }
 },
 "nbformat": 4,
 "nbformat_minor": 5
}
