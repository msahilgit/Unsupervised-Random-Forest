{
 "cells": [
  {
   "cell_type": "code",
   "execution_count": 1,
   "id": "b05827dd",
   "metadata": {},
   "outputs": [],
   "source": [
    "import copy as cp\n",
    "import numpy as np\n",
    "import matplotlib as mt\n",
    "import matplotlib.pyplot as plt\n",
    "from matplotlib.ticker import AutoMinorLocator, MaxNLocator\n",
    "from numba import njit, prange\n",
    "from sklearn.metrics import accuracy_score as acc, confusion_matrix as cfm\n",
    "import sys\n",
    "sys.path.append('../0_python_modules/')\n",
    "import extras"
   ]
  },
  {
   "cell_type": "code",
   "execution_count": null,
   "id": "f44e61ac",
   "metadata": {},
   "outputs": [],
   "source": []
  },
  {
   "cell_type": "code",
   "execution_count": 2,
   "id": "39beb25e",
   "metadata": {},
   "outputs": [],
   "source": [
    "def clusters(hc, nids=range(2,11)):\n",
    "    for h in nids:\n",
    "        hl = extras.get_hc_dtraj(hc, nids=h)\n",
    "        print(h,_clusters(hl))\n",
    "def _clusters(hl):\n",
    "    return {i:np.where(hl==i)[0].shape[0] for i in np.unique(hl)}"
   ]
  },
  {
   "cell_type": "code",
   "execution_count": 3,
   "id": "00d54257",
   "metadata": {},
   "outputs": [],
   "source": [
    "def mse(pfile, pmean, chunk=1000):\n",
    "    pfile = np.load(pfile, mmap_mode='r')\n",
    "    pmean = np.load(pmean, mmap_mode='r')\n",
    "    nobs = pfile.shape[0]\n",
    "    iters = int(nobs/chunk)\n",
    "    s=0\n",
    "    for k in range(iters+1):\n",
    "        start=i*chunk\n",
    "        end=(i+1)*chunk\n",
    "        s += np.sum( np.square( pmean[start:end]-pfile[start-end] ))\n",
    "    return np.sqrt(s/nobs)"
   ]
  },
  {
   "cell_type": "code",
   "execution_count": 4,
   "id": "a5ebd06d",
   "metadata": {},
   "outputs": [],
   "source": [
    "def is_outlier_free(dtrj, cfactor=2):\n",
    "    labels = _clusters(dtrj)\n",
    "    pops = list(labels.values())\n",
    "    labels = list(labels.keys())\n",
    "    cutoff = cfactor * np.sqrt(dtrj.shape[0]/len(labels))\n",
    "    if np.where(pops>cutoff)[0].shape[0] == 2:\n",
    "        return True\n",
    "    return False"
   ]
  },
  {
   "cell_type": "code",
   "execution_count": null,
   "id": "b1d23573",
   "metadata": {},
   "outputs": [],
   "source": []
  },
  {
   "cell_type": "code",
   "execution_count": null,
   "id": "5f7bdbcf",
   "metadata": {},
   "outputs": [],
   "source": []
  },
  {
   "cell_type": "markdown",
   "id": "7832a6f3",
   "metadata": {},
   "source": [
    "## random state difference"
   ]
  },
  {
   "cell_type": "markdown",
   "id": "26424fbd",
   "metadata": {},
   "source": [
    "### mse in proximities"
   ]
  },
  {
   "cell_type": "code",
   "execution_count": 5,
   "id": "70fcf54d",
   "metadata": {},
   "outputs": [
    {
     "name": "stdout",
     "output_type": "stream",
     "text": [
      "0.06883601942328657\n",
      "0.07822117387859444\n",
      "0.06993541763556\n",
      "0.0715114648701958\n",
      "0.08002732794325236\n"
     ]
    }
   ],
   "source": [
    "for i in range(5):\n",
    "    print(mse(f'4_dtrj_random_state/saved_dtrj/prox{i}.npy', \n",
    "             '../2_jctc_urf/saved_furf/permute_pmt_mean.npy',\n",
    "             chunk=100000)\n",
    "         )"
   ]
  },
  {
   "cell_type": "code",
   "execution_count": null,
   "id": "824cdc94",
   "metadata": {},
   "outputs": [],
   "source": []
  },
  {
   "cell_type": "markdown",
   "id": "20071836",
   "metadata": {},
   "source": [
    "### labels at nids=2"
   ]
  },
  {
   "cell_type": "code",
   "execution_count": 5,
   "id": "a828169a",
   "metadata": {},
   "outputs": [],
   "source": [
    "mhc = np.load('../2_jctc_urf/saved_furf/hc_average.npy')"
   ]
  },
  {
   "cell_type": "code",
   "execution_count": 6,
   "id": "38ff924b",
   "metadata": {},
   "outputs": [
    {
     "data": {
      "text/plain": [
       "{0: 49319, 1: 104802}"
      ]
     },
     "execution_count": 6,
     "metadata": {},
     "output_type": "execute_result"
    }
   ],
   "source": [
    "_clusters(extras.get_hc_dtraj(mhc, nids=2))"
   ]
  },
  {
   "cell_type": "code",
   "execution_count": 7,
   "id": "7e00704a",
   "metadata": {},
   "outputs": [],
   "source": [
    "hcs = [np.load(f'4_dtrj_random_state/saved_dtrj/hc{i}.npy') for i in range(5)]"
   ]
  },
  {
   "cell_type": "code",
   "execution_count": 8,
   "id": "b320e635",
   "metadata": {},
   "outputs": [
    {
     "name": "stdout",
     "output_type": "stream",
     "text": [
      "{0: 1, 1: 154120}\n",
      "{0: 104810, 1: 49311}\n",
      "{0: 1, 1: 154120}\n",
      "{0: 104819, 1: 49302}\n",
      "{0: 48446, 1: 105675}\n"
     ]
    }
   ],
   "source": [
    "for i in hcs:\n",
    "    print(_clusters(extras.get_hc_dtraj(i, nids=2)))"
   ]
  },
  {
   "cell_type": "code",
   "execution_count": 9,
   "id": "8219b69b",
   "metadata": {},
   "outputs": [
    {
     "name": "stdout",
     "output_type": "stream",
     "text": [
      "[[ 49304     15]\n",
      " [    10 104792]] 0.9997465351352997 \n",
      "\n",
      "[[ 49304     15]\n",
      " [    10 104792]] 0.9997465351352997 \n",
      "\n",
      "[[ 49305     14]\n",
      " [    10 104792]] 0.9997566761968489 \n",
      "\n",
      "[[ 49305     14]\n",
      " [    10 104792]] 0.9997566761968489 \n",
      "\n",
      "[[ 49305     14]\n",
      " [    10 104792]] 0.9997566761968489 \n",
      "\n"
     ]
    }
   ],
   "source": [
    "lmean = extras.get_hc_dtraj(mhc, nids=2)\n",
    "rstate_f1 = []\n",
    "for i in range(5):\n",
    "    lhc = extras.get_relabelled_class_labels( \n",
    "        lmean, extras.get_dtraj_renumbered_outliers(\n",
    "            extras.get_hc_dtraj(hcs[0], nids=3), display=False)\n",
    "    )\n",
    "    cmt = cfm(lmean, lhc)\n",
    "    f1 = extras.get_f1_score(cmt)\n",
    "    rstate_f1.append(f1)\n",
    "    print(cmt, f1, '\\n')"
   ]
  },
  {
   "cell_type": "code",
   "execution_count": null,
   "id": "c25eae63",
   "metadata": {},
   "outputs": [],
   "source": []
  },
  {
   "cell_type": "code",
   "execution_count": null,
   "id": "4872e371",
   "metadata": {},
   "outputs": [],
   "source": []
  },
  {
   "cell_type": "markdown",
   "id": "721aacc0",
   "metadata": {},
   "source": [
    "## fit-predict differences from efficient(all data)"
   ]
  },
  {
   "cell_type": "code",
   "execution_count": 10,
   "id": "bdc206e7",
   "metadata": {},
   "outputs": [],
   "source": [
    "dtrjs = [\n",
    "    [\n",
    "        np.load(f'2_fp3/saved_sizes/dtrj_{s}_{i}.npy')\n",
    "    for i in range(5)]\n",
    "for s in range(9)]"
   ]
  },
  {
   "cell_type": "code",
   "execution_count": 11,
   "id": "5b43be4a",
   "metadata": {},
   "outputs": [
    {
     "name": "stdout",
     "output_type": "stream",
     "text": [
      "{0: 49262, 1: 104859}\n",
      "{0: 49266, 1: 104855}\n",
      "{0: 49259, 1: 104862}\n",
      "{0: 2, 1: 154119}\n",
      "{0: 1, 1: 154120}\n",
      "\n",
      "\n",
      "{0: 48616, 1: 105505}\n",
      "{0: 49287, 1: 104834}\n",
      "{0: 49289, 1: 104832}\n",
      "{0: 104834, 1: 49287}\n",
      "{0: 104829, 1: 49292}\n",
      "\n",
      "\n",
      "{0: 48526, 1: 105595}\n",
      "{0: 49291, 1: 104830}\n",
      "{0: 49291, 1: 104830}\n",
      "{0: 104826, 1: 49295}\n",
      "{0: 49295, 1: 104826}\n",
      "\n",
      "\n",
      "{0: 8, 1: 154113}\n",
      "{0: 104819, 1: 49302}\n",
      "{0: 104819, 1: 49302}\n",
      "{0: 2, 1: 154119}\n",
      "{0: 104827, 1: 49294}\n",
      "\n",
      "\n",
      "{0: 49304, 1: 104817}\n",
      "{0: 104810, 1: 49311}\n",
      "{0: 104822, 1: 49299}\n",
      "{0: 104820, 1: 49301}\n",
      "{0: 1, 1: 154120}\n",
      "\n",
      "\n",
      "{0: 104805, 1: 49316}\n",
      "{0: 104815, 1: 49306}\n",
      "{0: 104810, 1: 49311}\n",
      "{0: 48475, 1: 105646}\n",
      "{0: 1, 1: 154120}\n",
      "\n",
      "\n",
      "{0: 49322, 1: 104799}\n",
      "{0: 104813, 1: 49308}\n",
      "{0: 104807, 1: 49314}\n",
      "{0: 49298, 1: 104823}\n",
      "{0: 104807, 1: 49314}\n",
      "\n",
      "\n",
      "{0: 49321, 1: 104800}\n",
      "{0: 104811, 1: 49310}\n",
      "{0: 49316, 1: 104805}\n",
      "{0: 48435, 1: 105686}\n",
      "{0: 104809, 1: 49312}\n",
      "\n",
      "\n",
      "{0: 48361, 1: 105760}\n",
      "{0: 104810, 1: 49311}\n",
      "{0: 49314, 1: 104807}\n",
      "{0: 104809, 1: 49312}\n",
      "{0: 104796, 1: 49325}\n",
      "\n",
      "\n"
     ]
    }
   ],
   "source": [
    "for i in dtrjs:\n",
    "    for j in i:\n",
    "        print(_clusters(j))\n",
    "    print('\\n')"
   ]
  },
  {
   "cell_type": "markdown",
   "id": "aca423e6",
   "metadata": {},
   "source": [
    "### qualitatively, the results are same as efficient "
   ]
  },
  {
   "cell_type": "code",
   "execution_count": 23,
   "id": "01466e0f",
   "metadata": {
    "scrolled": false
   },
   "outputs": [
    {
     "name": "stdout",
     "output_type": "stream",
     "text": [
      "[[ 49254     65]\n",
      " [     8 104794]] 0.9992594921942363 \n",
      "\n",
      "[[ 49258     61]\n",
      " [     8 104794]] 0.9993000963635441 \n",
      "\n",
      "[[ 49251     68]\n",
      " [     8 104794]] 0.9992290369047859 \n",
      "\n",
      "\n",
      "\n",
      "[[ 48614    705]\n",
      " [     2 104800]] 0.9927809261244702 \n",
      "\n",
      "[[ 49278     41]\n",
      " [     9 104793]] 0.9994929314646167 \n",
      "\n",
      "[[ 49276     43]\n",
      " [    13 104789]] 0.9994320947590459 \n",
      "\n",
      "[[ 49276     43]\n",
      " [    11 104791]] 0.9994523659817861 \n",
      "\n",
      "[[ 49280     39]\n",
      " [    12 104790]] 0.9994828163186662 \n",
      "\n",
      "\n",
      "\n",
      "[[ 48521    798]\n",
      " [     5 104797]] 0.9917931422147274 \n",
      "\n",
      "[[ 49284     35]\n",
      " [     7 104795]] 0.9995740797079403 \n",
      "\n",
      "[[ 49282     37]\n",
      " [     9 104793]] 0.9995335158706014 \n",
      "\n",
      "[[ 49285     34]\n",
      " [    10 104792]] 0.9995538158882107 \n",
      "\n",
      "[[ 49282     37]\n",
      " [    13 104789]] 0.9994929726002393 \n",
      "\n",
      "\n",
      "\n",
      "[[ 49297     22]\n",
      " [     5 104797]] 0.9997262246377546 \n",
      "\n",
      "[[ 49293     26]\n",
      " [     9 104793]] 0.9996451060119041 \n",
      "\n",
      "[[ 49283     36]\n",
      " [    11 104791]] 0.9995233894111324 \n",
      "\n",
      "\n",
      "\n",
      "[[ 49294     25]\n",
      " [    10 104792]] 0.9996451132088864 \n",
      "\n",
      "[[ 49297     22]\n",
      " [    14 104788]] 0.999634999493055 \n",
      "\n",
      "[[ 49291     28]\n",
      " [     8 104794]] 0.9996349550791945 \n",
      "\n",
      "[[ 49288     31]\n",
      " [    13 104789]] 0.9995538430338673 \n",
      "\n",
      "\n",
      "\n",
      "[[ 49301     18]\n",
      " [    15 104787]] 0.9996654331626705 \n",
      "\n",
      "[[ 49298     21]\n",
      " [     8 104794]] 0.9997059569074778 \n",
      "\n",
      "[[ 49302     17]\n",
      " [     9 104793]] 0.9997363885227618 \n",
      "\n",
      "[[ 48474    845]\n",
      " [     1 104801]] 0.9913491625253082 \n",
      "\n",
      "\n",
      "\n",
      "[[ 49302     17]\n",
      " [    20 104782]] 0.9996249024239414 \n",
      "\n",
      "[[ 49303     16]\n",
      " [     5 104797]] 0.999787076561185 \n",
      "\n",
      "[[ 49305     14]\n",
      " [     9 104793]] 0.9997668123244757 \n",
      "\n",
      "[[ 49291     28]\n",
      " [     7 104795]] 0.999645091617064 \n",
      "\n",
      "[[ 49299     20]\n",
      " [    15 104787]] 0.9996451491894194 \n",
      "\n",
      "\n",
      "\n",
      "[[ 49307     12]\n",
      " [    14 104788]] 0.9997364152473641 \n",
      "\n",
      "[[ 49307     12]\n",
      " [     3 104799]] 0.9998479149134636 \n",
      "\n",
      "[[ 49311      8]\n",
      " [     5 104797]] 0.9998682009428702 \n",
      "\n",
      "[[ 48435    884]\n",
      " [     0 104802]] 0.9909568917895942 \n",
      "\n",
      "[[ 49305     14]\n",
      " [     7 104795]] 0.9997870851963379 \n",
      "\n",
      "\n",
      "\n",
      "[[ 48361    958]\n",
      " [     0 104802]] 0.9901924651924653 \n",
      "\n",
      "[[ 49307     12]\n",
      " [     4 104798]] 0.9998377775524688 \n",
      "\n",
      "[[ 49307     12]\n",
      " [     7 104795]] 0.9998073667028275 \n",
      "\n",
      "[[ 49309     10]\n",
      " [     3 104799]] 0.999868195597733 \n",
      "\n",
      "[[ 49306     13]\n",
      " [    19 104783]] 0.9996756011516159 \n",
      "\n",
      "\n",
      "\n"
     ]
    }
   ],
   "source": [
    "fp_f1 = []\n",
    "for dtrj in dtrjs:\n",
    "    ff = []\n",
    "    for lhc in dtrj:\n",
    "        if is_outlier_free(lhc):\n",
    "            lhc = extras.get_relabelled_class_labels(lmean, lhc)\n",
    "            cmt = cfm(lmean, lhc)\n",
    "            f1 = extras.get_f1_score(cmt)\n",
    "            ff.append(f1)\n",
    "            print(cmt, f1, '\\n')\n",
    "    fp_f1.append(ff)\n",
    "    print('\\n')"
   ]
  },
  {
   "cell_type": "code",
   "execution_count": 24,
   "id": "5117ee04",
   "metadata": {},
   "outputs": [],
   "source": [
    "sizes = np.arange(0.1,1,0.1)"
   ]
  },
  {
   "cell_type": "code",
   "execution_count": 25,
   "id": "fd3e4e14",
   "metadata": {},
   "outputs": [],
   "source": [
    "means = []\n",
    "stds = []\n",
    "for i in fp_f1:\n",
    "    means.append(np.mean(i))\n",
    "    stds.append(np.std(i))"
   ]
  },
  {
   "cell_type": "code",
   "execution_count": 54,
   "id": "e76ce3a2",
   "metadata": {},
   "outputs": [
    {
     "data": {
      "image/png": "[encoded data removed]",
      "text/plain": [
       "<Figure size 640x480 with 1 Axes>"
      ]
     },
     "metadata": {},
     "output_type": "display_data"
    }
   ],
   "source": [
    "fig,ax=plt.subplots()\n",
    "ax.boxplot(fp_f1)\n",
    "ax.set_ylim(0.99,1.0001)\n",
    "ax.set_yticks([0.99,1])\n",
    "ax.yaxis.set_minor_locator(AutoMinorLocator(5))\n",
    "# ax.set_xticks(ticks=np.arange(1,10), labels=np.round(np.arange(0.1,1,0.1),2))\n",
    "ax.set_xticks(ticks=[1,5,9],labels=['0.1','0.5','0.9'])\n",
    "ax.tick_params(labelsize=26, length=8, width=2)\n",
    "ax.tick_params(which='minor', length=5, width=2)\n",
    "ax.spines[:].set_linewidth(2)\n",
    "plt.show()"
   ]
  },
  {
   "cell_type": "code",
   "execution_count": null,
   "id": "36eaca1f",
   "metadata": {},
   "outputs": [],
   "source": []
  },
  {
   "cell_type": "code",
   "execution_count": 4,
   "id": "f3260d60",
   "metadata": {},
   "outputs": [
    {
     "data": {
      "text/plain": [
       "2.8674417556808756"
      ]
     },
     "execution_count": 4,
     "metadata": {},
     "output_type": "execute_result"
    }
   ],
   "source": [
    "np.std([65,61,68])"
   ]
  },
  {
   "cell_type": "code",
   "execution_count": 6,
   "id": "e407a9bf",
   "metadata": {},
   "outputs": [
    {
     "data": {
      "text/plain": [
       "2.8674417556808756"
      ]
     },
     "execution_count": 6,
     "metadata": {},
     "output_type": "execute_result"
    }
   ],
   "source": [
    "np.std([49254, 49258, 49251])"
   ]
  },
  {
   "cell_type": "code",
   "execution_count": null,
   "id": "844c1893",
   "metadata": {},
   "outputs": [],
   "source": []
  },
  {
   "cell_type": "code",
   "execution_count": null,
   "id": "1e15a30c",
   "metadata": {},
   "outputs": [],
   "source": []
  },
  {
   "cell_type": "code",
   "execution_count": null,
   "id": "425e1dc1",
   "metadata": {},
   "outputs": [],
   "source": []
  }
 ],
 "metadata": {
  "kernelspec": {
   "display_name": "Python 3 (ipykernel)",
   "language": "python",
   "name": "python3"
  },
  "language_info": {
   "codemirror_mode": {
    "name": "ipython",
    "version": 3
   },
   "file_extension": ".py",
   "mimetype": "text/x-python",
   "name": "python",
   "nbconvert_exporter": "python",
   "pygments_lexer": "ipython3",
   "version": "3.9.12"
  }
 },
 "nbformat": 4,
 "nbformat_minor": 5
}
