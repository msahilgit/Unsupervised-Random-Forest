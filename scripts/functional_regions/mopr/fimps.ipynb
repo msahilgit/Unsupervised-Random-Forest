{
 "cells": [
  {
   "cell_type": "code",
   "execution_count": 1,
   "id": "50cd2f0e",
   "metadata": {},
   "outputs": [],
   "source": [
    "import copy as cp\n",
    "import numpy as np\n",
    "import matplotlib as mt\n",
    "import matplotlib.pyplot as plt\n",
    "import sys\n",
    "sys.path.append('../../../0_python_modules/')\n",
    "import extras"
   ]
  },
  {
   "cell_type": "code",
   "execution_count": null,
   "id": "852cc3e7",
   "metadata": {},
   "outputs": [],
   "source": []
  },
  {
   "cell_type": "code",
   "execution_count": 2,
   "id": "41805ec2",
   "metadata": {},
   "outputs": [],
   "source": [
    "def get_fmean(fs, rs):\n",
    "    '''\n",
    "    lets say a feature of f score is composed of r residues, \n",
    "    then each residue shall get f/r share of the score\n",
    "    '''\n",
    "    fs = np.mean(fs, axis=0)\n",
    "    if len(fs) != len(rs):\n",
    "        raise ValueError('il y a un problème')\n",
    "        \n",
    "    res = np.unique(np.concatenate((rs)))\n",
    "    fimps={r:0 for r in res}\n",
    "    \n",
    "    for a,f in enumerate(fs):\n",
    "        for r in rs[a]:\n",
    "            fimps[r] += f/len(rs[a])\n",
    "            \n",
    "    return fimps\n",
    "\n",
    "\n",
    "def get_fnum(fs, rs, nr):\n",
    "    '''\n",
    "    lets say a feature of f score is composed of r residues, \n",
    "    then each residue shall get a score of +1\n",
    "    all analysis is based on top nr features\n",
    "    '''\n",
    "    fs = np.concatenate(([f.argsort()[::-1][:nr] for f in fs]))\n",
    "    fs = np.concatenate(([rs[i] for i in fs]))\n",
    "    \n",
    "    res = np.unique(fs)\n",
    "    fimps = {r:0 for r in res}\n",
    "    \n",
    "    for a,f in enumerate(fs):\n",
    "        fimps[f] += 1\n",
    "        \n",
    "    return fimps\n",
    "\n",
    "\n",
    "def get_normalize(fs, rmini, rmaxi):\n",
    "    '''\n",
    "    normalize the resid - for visualization\n",
    "    '''\n",
    "    rs, fs = np.array(list(fs.items())).T\n",
    "    fs = (fs-fs.min())/(fs.max()-fs.min())\n",
    "    fs = fs*(rmaxi-rmini) + rmini\n",
    "    return np.column_stack((rs, fs))"
   ]
  },
  {
   "cell_type": "code",
   "execution_count": null,
   "id": "2d3604d3",
   "metadata": {},
   "outputs": [],
   "source": []
  },
  {
   "cell_type": "markdown",
   "id": "fc94e4b1",
   "metadata": {},
   "source": [
    "<font size=4>\n",
    "    by taking all 4 states: <br>\n",
    "    there are 4 cases, <br>\n",
    "    supervised_dih_all, urf_dih_all, urf_dih_red, urf_coords <br><br>"
   ]
  },
  {
   "cell_type": "code",
   "execution_count": 3,
   "id": "ca13bafa",
   "metadata": {},
   "outputs": [],
   "source": [
    "def cluster(hc, nids=range(2,11)):\n",
    "    for h in nids:\n",
    "        hl=extras.get_hc_dtraj(hc, nids=h)\n",
    "        print(h, {i:np.where(hl==i)[0].shape for i in np.unique(hl)})"
   ]
  },
  {
   "cell_type": "code",
   "execution_count": 12,
   "id": "edd214c7",
   "metadata": {},
   "outputs": [
    {
     "name": "stdout",
     "output_type": "stream",
     "text": [
      "2 {0: (50036,), 1: (81215,)}\n",
      "3 {0: (50036,), 1: (13567,), 2: (67648,)}\n",
      "4 {0: (50036,), 1: (13567,), 2: (10219,), 3: (57429,)}\n",
      "5 {0: (50036,), 1: (13567,), 2: (10219,), 3: (49,), 4: (57380,)}\n",
      "6 {0: (50036,), 1: (13567,), 2: (10219,), 3: (49,), 4: (1,), 5: (57379,)}\n",
      "7 {0: (50036,), 1: (13567,), 2: (10219,), 3: (49,), 4: (1,), 5: (8,), 6: (57371,)}\n",
      "8 {0: (13567,), 1: (10219,), 2: (49,), 3: (1,), 4: (8,), 5: (57371,), 6: (13713,), 7: (36323,)}\n",
      "9 {0: (13567,), 1: (10219,), 2: (49,), 3: (1,), 4: (8,), 5: (57371,), 6: (13713,), 7: (32815,), 8: (3508,)}\n",
      "10 {0: (13567,), 1: (10219,), 2: (49,), 3: (1,), 4: (8,), 5: (13713,), 6: (32815,), 7: (3508,), 8: (22841,), 9: (34530,)}\n"
     ]
    }
   ],
   "source": [
    "cluster(np.load('saved_urf_all/hc_permute.npy'))"
   ]
  },
  {
   "cell_type": "code",
   "execution_count": 13,
   "id": "a9deeb68",
   "metadata": {},
   "outputs": [
    {
     "name": "stdout",
     "output_type": "stream",
     "text": [
      "2 {0: (59275,), 1: (71976,)}\n",
      "3 {0: (59275,), 1: (2,), 2: (71974,)}\n",
      "4 {0: (2,), 1: (71974,), 2: (10549,), 3: (48726,)}\n",
      "5 {0: (2,), 1: (10549,), 2: (48726,), 3: (49084,), 4: (22890,)}\n",
      "6 {0: (2,), 1: (10549,), 2: (48726,), 3: (49084,), 4: (2,), 5: (22888,)}\n",
      "7 {0: (2,), 1: (10549,), 2: (49084,), 3: (2,), 4: (22888,), 5: (26215,), 6: (22511,)}\n",
      "8 {0: (2,), 1: (49084,), 2: (2,), 3: (22888,), 4: (26215,), 5: (22511,), 6: (8514,), 7: (2035,)}\n",
      "9 {0: (2,), 1: (49084,), 2: (2,), 3: (22888,), 4: (26215,), 5: (8514,), 6: (2035,), 7: (12384,), 8: (10127,)}\n",
      "10 {0: (2,), 1: (2,), 2: (22888,), 3: (26215,), 4: (8514,), 5: (2035,), 6: (12384,), 7: (10127,), 8: (18749,), 9: (30335,)}\n"
     ]
    }
   ],
   "source": [
    "cluster(np.load('saved_reduced_urf_all/hc_permute.npy'))"
   ]
  },
  {
   "cell_type": "code",
   "execution_count": 14,
   "id": "3ac2d536",
   "metadata": {},
   "outputs": [
    {
     "name": "stdout",
     "output_type": "stream",
     "text": [
      "2 {0: (24,), 1: (149976,)}\n",
      "3 {0: (24,), 1: (35,), 2: (149941,)}\n",
      "4 {0: (24,), 1: (35,), 2: (56,), 3: (149885,)}\n",
      "5 {0: (24,), 1: (35,), 2: (56,), 3: (32,), 4: (149853,)}\n",
      "6 {0: (24,), 1: (35,), 2: (56,), 3: (32,), 4: (27,), 5: (149826,)}\n",
      "7 {0: (24,), 1: (35,), 2: (56,), 3: (32,), 4: (27,), 5: (36,), 6: (149790,)}\n",
      "8 {0: (24,), 1: (35,), 2: (56,), 3: (32,), 4: (27,), 5: (36,), 6: (24,), 7: (149766,)}\n",
      "9 {0: (24,), 1: (35,), 2: (56,), 3: (32,), 4: (27,), 5: (36,), 6: (24,), 7: (23,), 8: (149743,)}\n",
      "10 {0: (24,), 1: (35,), 2: (56,), 3: (32,), 4: (27,), 5: (36,), 6: (24,), 7: (23,), 8: (28142,), 9: (121601,)}\n"
     ]
    }
   ],
   "source": [
    "cluster(np.load('saved_urf_coords/hc_permute.npy'))"
   ]
  },
  {
   "cell_type": "code",
   "execution_count": null,
   "id": "c2930260",
   "metadata": {},
   "outputs": [],
   "source": []
  },
  {
   "cell_type": "code",
   "execution_count": 7,
   "id": "1b24c200",
   "metadata": {},
   "outputs": [
    {
     "data": {
      "text/plain": [
       "[<matplotlib.lines.Line2D at 0x7fb2701c8b20>]"
      ]
     },
     "execution_count": 7,
     "metadata": {},
     "output_type": "execute_result"
    },
    {
     "data": {
      "image/png": "[encoded data removed]",
      "text/plain": [
       "<Figure size 400x300 with 1 Axes>"
      ]
     },
     "metadata": {},
     "output_type": "display_data"
    }
   ],
   "source": [
    "fimps = np.mean([np.load(f'saved_clf_all/fimp_all_{i}.npy') for i in range(5)], axis=0)\n",
    "fimps = np.cumsum(fimps[fimps.argsort()[::-1]])\n",
    "plt.plot(fimps)"
   ]
  },
  {
   "cell_type": "code",
   "execution_count": 8,
   "id": "ef9fb286",
   "metadata": {},
   "outputs": [
    {
     "name": "stderr",
     "output_type": "stream",
     "text": [
      "/tmp/ipykernel_1559100/1619998289.py:1: MatplotlibDeprecationWarning: The get_cmap function was deprecated in Matplotlib 3.7 and will be removed two minor releases later. Use ``matplotlib.colormaps[name]`` or ``matplotlib.colormaps.get_cmap(obj)`` instead.\n",
      "  cmaps=mt.cm.get_cmap('Reds')\n"
     ]
    }
   ],
   "source": [
    "cmaps=mt.cm.get_cmap('Reds')"
   ]
  },
  {
   "cell_type": "code",
   "execution_count": 9,
   "id": "71707f05",
   "metadata": {},
   "outputs": [
    {
     "data": {
      "image/png": "[encoded data removed]",
      "text/plain": [
       "<Figure size 400x300 with 1 Axes>"
      ]
     },
     "metadata": {},
     "output_type": "display_data"
    }
   ],
   "source": [
    "for h in range(2,11):\n",
    "    fimps = np.mean([np.load(f'saved_urf_all/fimp_hlabel{h}_{i}.npy') for i in range(5)], axis=0)\n",
    "    fimps = np.cumsum(fimps[fimps.argsort()[::-1]])\n",
    "    plt.plot(fimps, color=cmaps(h/10))\n",
    "plt.show()"
   ]
  },
  {
   "cell_type": "code",
   "execution_count": 10,
   "id": "25b03d3e",
   "metadata": {},
   "outputs": [
    {
     "data": {
      "image/png": "[encoded data removed]",
      "text/plain": [
       "<Figure size 400x300 with 1 Axes>"
      ]
     },
     "metadata": {},
     "output_type": "display_data"
    }
   ],
   "source": [
    "for h in range(2,11):\n",
    "    fimps = np.mean([np.load(f'saved_reduced_urf_all/fimp_hlabel{h}_{i}.npy') for i in range(5)], axis=0)\n",
    "    fimps = np.cumsum(fimps[fimps.argsort()[::-1]])\n",
    "    plt.plot(fimps, color=cmaps(h/10))\n",
    "plt.show()"
   ]
  },
  {
   "cell_type": "code",
   "execution_count": 11,
   "id": "689fba8e",
   "metadata": {},
   "outputs": [
    {
     "data": {
      "image/png": "[encoded data removed]",
      "text/plain": [
       "<Figure size 400x300 with 1 Axes>"
      ]
     },
     "metadata": {},
     "output_type": "display_data"
    }
   ],
   "source": [
    "for h in range(2,11):\n",
    "    fimps = np.mean([np.load(f'saved_urf_coords/fimp_hlabel{h}_{i}.npy') for i in range(5)], axis=0)\n",
    "    fimps = np.cumsum(fimps[fimps.argsort()[::-1]])\n",
    "    plt.plot(fimps, color=cmaps(h/10))\n",
    "plt.show()"
   ]
  },
  {
   "cell_type": "code",
   "execution_count": null,
   "id": "a8be7584",
   "metadata": {},
   "outputs": [],
   "source": []
  },
  {
   "cell_type": "markdown",
   "id": "9825c742",
   "metadata": {},
   "source": [
    "## data"
   ]
  },
  {
   "cell_type": "code",
   "execution_count": 4,
   "id": "0e9c7eaf",
   "metadata": {},
   "outputs": [],
   "source": [
    "names = ['supervised_all', 'urf_all', 'urf_red', 'urf_coords']"
   ]
  },
  {
   "cell_type": "code",
   "execution_count": null,
   "id": "af544139",
   "metadata": {},
   "outputs": [],
   "source": []
  },
  {
   "cell_type": "code",
   "execution_count": 5,
   "id": "9048ec90",
   "metadata": {},
   "outputs": [],
   "source": [
    "resids_dihedral_all = np.load('../../../1_datasets/mopR_ensembles/phi_psi_chi1_resids.npz')\n",
    "resids_dihedral_all = [resids_dihedral_all[i] for i in list(resids_dihedral_all)]"
   ]
  },
  {
   "cell_type": "code",
   "execution_count": 6,
   "id": "bbdf3fb5",
   "metadata": {},
   "outputs": [],
   "source": [
    "resids_dihedral_red = [i for i in resids_dihedral_all if all((i>=20)&(i<=220))]"
   ]
  },
  {
   "cell_type": "code",
   "execution_count": 7,
   "id": "9d5395e6",
   "metadata": {},
   "outputs": [],
   "source": [
    "dd = [i for i in range(20,221) if i!=148]\n",
    "atoms=['N','CA','CB','C']\n",
    "resids_coords = []\n",
    "for line in open('../../../1_datasets/mopR_ensembles/pbc_trjs/w.pdb', 'r'):\n",
    "    items = line.strip().split()\n",
    "    if items[0] == 'ATOM':\n",
    "        if items[2] in atoms:\n",
    "            if int(items[4]) in dd:\n",
    "                resids_coords.append([items[4]]*3)\n",
    "resids_coords = np.array(np.concatenate((resids_coords))).astype(int)[:,None]"
   ]
  },
  {
   "cell_type": "code",
   "execution_count": 8,
   "id": "de9ce365",
   "metadata": {},
   "outputs": [],
   "source": [
    "resids_ = [resids_dihedral_all, resids_dihedral_all, resids_dihedral_red, resids_coords]"
   ]
  },
  {
   "cell_type": "code",
   "execution_count": null,
   "id": "6548224a",
   "metadata": {},
   "outputs": [],
   "source": []
  },
  {
   "cell_type": "code",
   "execution_count": 9,
   "id": "86b5ff7d",
   "metadata": {},
   "outputs": [],
   "source": [
    "fsupervised = [np.load(f'saved_clf_all/fimp_all_{i}.npy') for i in range(5)]"
   ]
  },
  {
   "cell_type": "code",
   "execution_count": 14,
   "id": "8e8ba93c",
   "metadata": {},
   "outputs": [],
   "source": [
    "furf_all = [np.load(f'saved_urf_all/fimp_hlabel2_{i}.npy') for i in range(5)]\n",
    "furf_red = [np.load(f'saved_reduced_urf_all/fimp_hlabel2_{i}.npy') for i in range(5)]\n",
    "furf_coords = [np.load(f'saved_urf_coords/fimp_hlabel2_{i}.npy') for i in range(5)]"
   ]
  },
  {
   "cell_type": "code",
   "execution_count": 15,
   "id": "a0867b7a",
   "metadata": {},
   "outputs": [],
   "source": [
    "fimps = [fsupervised, furf_all, furf_red, furf_coords]"
   ]
  },
  {
   "cell_type": "code",
   "execution_count": null,
   "id": "78b37cc7",
   "metadata": {},
   "outputs": [],
   "source": []
  },
  {
   "cell_type": "code",
   "execution_count": null,
   "id": "fb6a7992",
   "metadata": {},
   "outputs": [],
   "source": []
  },
  {
   "cell_type": "code",
   "execution_count": 16,
   "id": "2cfb51aa",
   "metadata": {},
   "outputs": [],
   "source": [
    "for a,n in enumerate(names):\n",
    "    dd = get_normalize(\n",
    "            get_fmean(fimps[a], resids_[a]),\n",
    "    rmini=0, rmaxi=1)\n",
    "    np.savetxt(f'saved_fimps/fmean_{names[a]}.txt', dd, fmt=['%4d','%10.4f'])"
   ]
  },
  {
   "cell_type": "code",
   "execution_count": 17,
   "id": "f512d45e",
   "metadata": {},
   "outputs": [],
   "source": [
    "for a,n in enumerate(names):\n",
    "    dd = get_normalize(\n",
    "            get_fnum(fimps[a], resids_[a], 100),\n",
    "    rmini=0, rmaxi=1)\n",
    "    np.savetxt(f'saved_fimps/fnum_{names[a]}.txt', dd, fmt=['%4d','%10.4f'])"
   ]
  },
  {
   "cell_type": "code",
   "execution_count": null,
   "id": "35d60752",
   "metadata": {},
   "outputs": [],
   "source": []
  },
  {
   "cell_type": "code",
   "execution_count": null,
   "id": "cae44a25",
   "metadata": {},
   "outputs": [],
   "source": []
  },
  {
   "cell_type": "code",
   "execution_count": null,
   "id": "474a3cd1",
   "metadata": {},
   "outputs": [],
   "source": []
  },
  {
   "cell_type": "code",
   "execution_count": null,
   "id": "57d84a67",
   "metadata": {},
   "outputs": [],
   "source": []
  },
  {
   "cell_type": "code",
   "execution_count": null,
   "id": "79c0492d",
   "metadata": {},
   "outputs": [],
   "source": []
  },
  {
   "cell_type": "code",
   "execution_count": null,
   "id": "970c92c0",
   "metadata": {},
   "outputs": [],
   "source": []
  },
  {
   "cell_type": "code",
   "execution_count": null,
   "id": "9f07545c",
   "metadata": {},
   "outputs": [],
   "source": []
  },
  {
   "cell_type": "code",
   "execution_count": null,
   "id": "10730050",
   "metadata": {},
   "outputs": [],
   "source": []
  }
 ],
 "metadata": {
  "kernelspec": {
   "display_name": "Python 3 (ipykernel)",
   "language": "python",
   "name": "python3"
  },
  "language_info": {
   "codemirror_mode": {
    "name": "ipython",
    "version": 3
   },
   "file_extension": ".py",
   "mimetype": "text/x-python",
   "name": "python",
   "nbconvert_exporter": "python",
   "pygments_lexer": "ipython3",
   "version": "3.9.12"
  }
 },
 "nbformat": 4,
 "nbformat_minor": 5
}
