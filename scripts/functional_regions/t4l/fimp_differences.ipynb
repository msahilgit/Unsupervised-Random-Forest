{
 "cells": [
  {
   "cell_type": "code",
   "execution_count": 55,
   "id": "332e7067",
   "metadata": {},
   "outputs": [],
   "source": [
    "import numpy as np\n",
    "import copy as cp\n",
    "import matplotlib as mt\n",
    "import matplotlib.pyplot as plt\n",
    "import pyemma.plots as mplt\n",
    "import sys\n",
    "from tqdm import tqdm\n",
    "from matplotlib.ticker import AutoMinorLocator, MaxNLocator\n",
    "import scipy as sc\n",
    "import scipy.optimize as sco"
   ]
  },
  {
   "cell_type": "code",
   "execution_count": 56,
   "id": "fa99dc59",
   "metadata": {},
   "outputs": [],
   "source": [
    "sys.path.append('../../0_python_modules/')"
   ]
  },
  {
   "cell_type": "code",
   "execution_count": 57,
   "id": "2f234749",
   "metadata": {},
   "outputs": [],
   "source": [
    "import navjeet_hist as nh\n",
    "import extras\n",
    "import metrics as mtr"
   ]
  },
  {
   "cell_type": "code",
   "execution_count": null,
   "id": "39bedcfb",
   "metadata": {},
   "outputs": [],
   "source": []
  },
  {
   "cell_type": "code",
   "execution_count": 4,
   "id": "67ff4816",
   "metadata": {},
   "outputs": [],
   "source": [
    "randoms = np.loadtxt('../../1_datasets/randoms.txt', dtype=int)"
   ]
  },
  {
   "cell_type": "code",
   "execution_count": 5,
   "id": "1e3d8572",
   "metadata": {},
   "outputs": [],
   "source": [
    "fsupervised = []\n",
    "isupervised = []\n",
    "for i in range(len(randoms)):\n",
    "    fimp = np.load(f'../../2_jctc_urf/saved_supervised/fimp_supervised_{i}.npy')\n",
    "    fsupervised.append( fimp )\n",
    "    isupervised.append(fimp.argsort()[::-1])\n",
    "fsupervised = np.array(fsupervised)\n",
    "isupervised = np.array(isupervised)"
   ]
  },
  {
   "cell_type": "code",
   "execution_count": 6,
   "id": "535ee92b",
   "metadata": {},
   "outputs": [],
   "source": [
    "fpermute = []\n",
    "ipermute = []\n",
    "for h in range(2,11):\n",
    "    ff = []\n",
    "    ii=[]\n",
    "    for i in range(len(randoms)):\n",
    "        fimp = np.load(f'../../2_jctc_urf/saved_furf/fimp_hlabel{h}_{i}.npy')\n",
    "        ff.append( fimp )\n",
    "        ii.append(fimp.argsort()[::-1])\n",
    "    fpermute.append(ff)\n",
    "    ipermute.append(ii)\n",
    "fpermute = np.array(fpermute)\n",
    "ipermute = np.array(ipermute)"
   ]
  },
  {
   "cell_type": "code",
   "execution_count": 7,
   "id": "0a9055c0",
   "metadata": {},
   "outputs": [],
   "source": [
    "frandom = []\n",
    "irandom = []\n",
    "for i in randoms:\n",
    "    np.random.seed(i)\n",
    "    ff = np.random.random(size=fsupervised.shape[1])\n",
    "    ff = ff/ff.sum()\n",
    "    frandom.append(ff)\n",
    "    irandom.append(ff.argsort()[::-1])\n",
    "frandom = np.array(frandom)\n",
    "irandom = np.array(irandom)"
   ]
  },
  {
   "cell_type": "code",
   "execution_count": null,
   "id": "0654d88d",
   "metadata": {},
   "outputs": [],
   "source": []
  },
  {
   "cell_type": "code",
   "execution_count": 8,
   "id": "ac52e908",
   "metadata": {},
   "outputs": [],
   "source": [
    "fsame = np.zeros((9,fsupervised.shape[-1],2)) # n_features common in permute to supervised\n",
    "wpsame = np.zeros((9,fsupervised.shape[-1],2)) # cum fimp of common wrt permute\n",
    "wssame = np.zeros((9,fsupervised.shape[-1],2)) # cum fimp of common wrt supervised\n",
    "for h in range(2,11):\n",
    "    for f in range(1,fsupervised.shape[-1]+1):\n",
    "        ss = []\n",
    "        wp = []\n",
    "        ws = []\n",
    "        for i in range(len(randoms)):\n",
    "            fp = ipermute[h-2,i][:f]\n",
    "            for j in range(len(randoms)):\n",
    "                fs = isupervised[j][:f]\n",
    "                cc = np.intersect1d(fp,fs)\n",
    "                ss.append(cc.shape[0])\n",
    "                wp.append( fpermute[h-2,i][cc].sum() / fpermute[h-2,i][fp].sum() )\n",
    "                ws.append( fsupervised[j][cc].sum() / fsupervised[j][fs].sum() )\n",
    "        fsame[h-2,f-1] = [np.mean(ss), np.std(ss)]\n",
    "        wpsame[h-2,f-1] = [np.mean(wp), np.std(wp)]\n",
    "        wssame[h-2,f-1] = [np.mean(ws), np.std(ws)]\n",
    "        \n"
   ]
  },
  {
   "cell_type": "code",
   "execution_count": 9,
   "id": "56a16a90",
   "metadata": {},
   "outputs": [],
   "source": [
    "rsame_sup = np.zeros(( fsupervised.shape[-1], 2 )) # n_features common in random to supervised\n",
    "rssame = np.zeros(( fsupervised.shape[-1], 2 )) # cum fimp of common wrt supervised\n",
    "\n",
    "for f in range(1, fsupervised.shape[-1]+1):\n",
    "    ss=[]\n",
    "    ws=[]\n",
    "    \n",
    "    for i in range(len(randoms)):\n",
    "        fr = irandom[i][:f]\n",
    "        for j in range(len(randoms)):\n",
    "            fs = isupervised[j][:f]\n",
    "            \n",
    "            cc = np.intersect1d(fr, fs)\n",
    "            ss.append(cc.shape[0])\n",
    "            ws.append( fsupervised[j][cc].sum() / fsupervised[j][fs].sum() )\n",
    "            \n",
    "    rsame_sup[f-1] = [np.mean(ss), np.std(ss)]\n",
    "    rssame[f-1] = [np.mean(ws), np.std(ws)]\n"
   ]
  },
  {
   "cell_type": "code",
   "execution_count": 37,
   "id": "0594c5c7",
   "metadata": {},
   "outputs": [],
   "source": [
    "rsame_permute = np.zeros(( 9, fsupervised.shape[-1], 2 )) # n_features common in random to permute\n",
    "rpsame = np.zeros(( 9, fsupervised.shape[-1], 2 )) # cum fimp of common wrt permute\n",
    "\n",
    "for h in range(2,11):\n",
    "\n",
    "    for f in range(1, fsupervised.shape[-1]+1):\n",
    "        ss=[]\n",
    "        wp=[]\n",
    "\n",
    "        for i in range(len(randoms)):\n",
    "            fr = irandom[i][:f]\n",
    "            for j in range(len(randoms)):\n",
    "                fp = ipermute[h-2,j][:f]\n",
    "\n",
    "                cc = np.intersect1d(fr, fp)\n",
    "                ss.append(cc.shape[0])\n",
    "                wp.append(fpermute[h-2,i][cc].sum() / fpermute[h-2,i][fp].sum())\n",
    "\n",
    "        rsame_permute[h-2,f-1] = [np.mean(ss), np.std(ss)]\n",
    "        rpsame[h-2,f-1] = [np.mean(wp), np.std(wp)]\n"
   ]
  },
  {
   "cell_type": "code",
   "execution_count": null,
   "id": "be2ba83f",
   "metadata": {},
   "outputs": [],
   "source": []
  },
  {
   "cell_type": "code",
   "execution_count": 96,
   "id": "eb6088d1",
   "metadata": {},
   "outputs": [
    {
     "data": {
      "image/png": "[encoded data removed]",
      "text/plain": [
       "<Figure size 576x432 with 1 Axes>"
      ]
     },
     "metadata": {
      "needs_background": "light"
     },
     "output_type": "display_data"
    }
   ],
   "source": [
    "h=2\n",
    "fig,ax=plt.subplots(figsize=(8,6))\n",
    "ax.plot(range(1,756), ls='--', c='black', lw=2)\n",
    "ax.plot([200,200],[0,700], lw=2, ls='--', c='teal')\n",
    "ax.errorbar(range(1,756), fsame[h-2][:,0], yerr=fsame[h-2][:,1], c='crimson')\n",
    "ax.errorbar(range(1,756), rsame_sup[:,0], yerr=rsame_sup[:,1], c='dodgerblue')\n",
    "#\n",
    "ax.set_xlim(0,756)\n",
    "ax.set_ylim(0,756)\n",
    "ax.set_yticks([0,350,700])\n",
    "ax.set_xticks([0,350,700])\n",
    "ax.spines[:].set_linewidth(2)\n",
    "ax.xaxis.set_minor_locator(AutoMinorLocator(7))\n",
    "ax.yaxis.set_minor_locator(AutoMinorLocator(7))\n",
    "ax.tick_params(labelsize=22, length=7, width=2, )\n",
    "ax.tick_params(which='minor', length=4, width=2)\n",
    "plt.savefig(f'plots/nfeatures.pdf')\n",
    "plt.show()"
   ]
  },
  {
   "cell_type": "code",
   "execution_count": 105,
   "id": "6d5e257a",
   "metadata": {},
   "outputs": [
    {
     "data": {
      "image/png": "[encoded data removed]",
      "text/plain": [
       "<Figure size 576x432 with 1 Axes>"
      ]
     },
     "metadata": {
      "needs_background": "light"
     },
     "output_type": "display_data"
    }
   ],
   "source": [
    "h=2\n",
    "fig,ax=plt.subplots(figsize=(8,6))\n",
    "ax.plot([1,755],[1,1], ls='--', c='black', lw=2)\n",
    "ax.plot([200,200],[0,1], lw=2, ls='--', c='teal')\n",
    "ax.errorbar(range(1,756), wssame[h-2][:,0], yerr=wssame[h-2][:,1], c='crimson')\n",
    "ax.errorbar(range(1,756), rssame[:,0], yerr=rssame[:,1], c='dodgerblue')\n",
    "#\n",
    "ax.set_xlim(0,756)\n",
    "ax.set_ylim(0,1.05)\n",
    "ax.set_yticks([0,0.5,1])\n",
    "ax.set_xticks([0,350,700])\n",
    "ax.spines[:].set_linewidth(2)\n",
    "ax.xaxis.set_minor_locator(AutoMinorLocator(7))\n",
    "ax.yaxis.set_minor_locator(AutoMinorLocator(5))\n",
    "ax.tick_params(labelsize=22, length=7, width=2, )\n",
    "ax.tick_params(which='minor', length=4, width=2)\n",
    "plt.savefig(f'plots/csupervised.pdf')\n",
    "plt.show()"
   ]
  },
  {
   "cell_type": "code",
   "execution_count": 108,
   "id": "8e80eaa7",
   "metadata": {},
   "outputs": [
    {
     "data": {
      "image/png": "[encoded data removed]",
      "text/plain": [
       "<Figure size 576x432 with 1 Axes>"
      ]
     },
     "metadata": {
      "needs_background": "light"
     },
     "output_type": "display_data"
    }
   ],
   "source": [
    "h=2\n",
    "fig,ax=plt.subplots(figsize=(8,6))\n",
    "ax.plot([1,755],[1,1], ls='--', c='black', lw=2)\n",
    "ax.plot([200,200],[0,1], lw=2, ls='--', c='teal')\n",
    "ax.errorbar(range(1,756), wpsame[h-2][:,0], yerr=wpsame[h-2][:,1], c='crimson')\n",
    "ax.errorbar(range(1,756), rpsame[h-2][:,0], yerr=rpsame[h-2][:,1], c='dodgerblue')\n",
    "\n",
    "ax.set_xlim(0,756)\n",
    "ax.set_ylim(0,1.05)\n",
    "ax.set_yticks([0,0.5,1])\n",
    "ax.set_xticks([0,350,700])\n",
    "ax.spines[:].set_linewidth(2)\n",
    "ax.xaxis.set_minor_locator(AutoMinorLocator(7))\n",
    "ax.yaxis.set_minor_locator(AutoMinorLocator(5))\n",
    "ax.tick_params(labelsize=22, length=7, width=2, )\n",
    "ax.tick_params(which='minor', length=4, width=2)\n",
    "plt.savefig(f'plots/cpermute.pdf')\n",
    "plt.show()"
   ]
  },
  {
   "cell_type": "code",
   "execution_count": 111,
   "id": "f3aead58",
   "metadata": {},
   "outputs": [
    {
     "data": {
      "image/png": "[encoded data removed]",
      "text/plain": [
       "<Figure size 864x288 with 2 Axes>"
      ]
     },
     "metadata": {
      "needs_background": "light"
     },
     "output_type": "display_data"
    }
   ],
   "source": [
    "fig,ax=plt.subplots(2,1,figsize=(12,4), sharex=True, sharey=True)\n",
    "plt.tight_layout()\n",
    "h=2\n",
    "ax[0].plot(range(1,756), np.mean(fsupervised, axis=0), lw=2, c='crimson')\n",
    "ax[1].plot(range(1,756), np.mean(fpermute[h-2], axis=0), lw=2, c='crimson')\n",
    "ax[0].set_xlim(0,756)\n",
    "ax[0].set_yticks([0,0.08])\n",
    "for i in range(2):\n",
    "    ax[i].spines[:].set_linewidth(2)\n",
    "    ax[i].tick_params(labelsize=22, length=7, width=2)\n",
    "    ax[i].axes.yaxis.set_minor_locator(AutoMinorLocator(4))\n",
    "    ax[i].tick_params(length=4, width=2, which='minor')\n",
    "plt.savefig('plots/fimp.pdf')"
   ]
  },
  {
   "cell_type": "code",
   "execution_count": null,
   "id": "b1c215da",
   "metadata": {},
   "outputs": [],
   "source": []
  },
  {
   "cell_type": "code",
   "execution_count": 67,
   "id": "2d12d9ca",
   "metadata": {},
   "outputs": [
    {
     "data": {
      "text/plain": [
       "array([[0.94501089, 0.00200483],\n",
       "       [0.94511504, 0.00231868],\n",
       "       [0.945327  , 0.00188248],\n",
       "       [0.94583334, 0.00162212],\n",
       "       [0.94566964, 0.00160992],\n",
       "       [0.94541511, 0.00163988],\n",
       "       [0.94523185, 0.00195916],\n",
       "       [0.94476894, 0.00197429],\n",
       "       [0.94476766, 0.00214755]])"
      ]
     },
     "execution_count": 67,
     "metadata": {},
     "output_type": "execute_result"
    }
   ],
   "source": [
    "wpsame[:,200]"
   ]
  },
  {
   "cell_type": "code",
   "execution_count": 68,
   "id": "53255450",
   "metadata": {},
   "outputs": [
    {
     "data": {
      "text/plain": [
       "array([[0.68244092, 0.02231628],\n",
       "       [0.671686  , 0.00879212],\n",
       "       [0.67685755, 0.01204429],\n",
       "       [0.6777177 , 0.01558336],\n",
       "       [0.67382775, 0.01106364],\n",
       "       [0.67166336, 0.01782351],\n",
       "       [0.67999542, 0.01813772],\n",
       "       [0.67378666, 0.01696377],\n",
       "       [0.67636286, 0.01154734]])"
      ]
     },
     "execution_count": 68,
     "metadata": {},
     "output_type": "execute_result"
    }
   ],
   "source": [
    "wssame[:,200]"
   ]
  },
  {
   "cell_type": "code",
   "execution_count": 118,
   "id": "bc44b458",
   "metadata": {},
   "outputs": [
    {
     "data": {
      "text/plain": [
       "array([0.29149754, 0.03613872])"
      ]
     },
     "execution_count": 118,
     "metadata": {},
     "output_type": "execute_result"
    }
   ],
   "source": [
    "rssame[200]"
   ]
  },
  {
   "cell_type": "code",
   "execution_count": 113,
   "id": "9145a978",
   "metadata": {},
   "outputs": [
    {
     "data": {
      "text/plain": [
       "array([56.88      ,  3.32649966])"
      ]
     },
     "execution_count": 113,
     "metadata": {},
     "output_type": "execute_result"
    }
   ],
   "source": [
    "rsame_sup[200]"
   ]
  },
  {
   "cell_type": "code",
   "execution_count": 115,
   "id": "523e7a01",
   "metadata": {},
   "outputs": [
    {
     "data": {
      "text/plain": [
       "array([[141.04      ,   2.34059821],\n",
       "       [140.16      ,   1.66565303],\n",
       "       [140.76      ,   1.44996552],\n",
       "       [140.76      ,   2.58116253],\n",
       "       [139.96      ,   2.02938414],\n",
       "       [139.44      ,   2.33375234],\n",
       "       [141.96      ,   1.45547243],\n",
       "       [141.4       ,   1.64924225],\n",
       "       [141.76      ,   1.06883114]])"
      ]
     },
     "execution_count": 115,
     "metadata": {},
     "output_type": "execute_result"
    }
   ],
   "source": [
    "fsame[:,200]"
   ]
  },
  {
   "cell_type": "code",
   "execution_count": null,
   "id": "8f8c1fd2",
   "metadata": {},
   "outputs": [],
   "source": []
  },
  {
   "cell_type": "code",
   "execution_count": null,
   "id": "8f974ac9",
   "metadata": {},
   "outputs": [],
   "source": []
  },
  {
   "cell_type": "code",
   "execution_count": null,
   "id": "654dd9ca",
   "metadata": {},
   "outputs": [],
   "source": []
  },
  {
   "cell_type": "code",
   "execution_count": null,
   "id": "abf5737d",
   "metadata": {},
   "outputs": [],
   "source": []
  },
  {
   "cell_type": "code",
   "execution_count": 14,
   "id": "3c4e540c",
   "metadata": {},
   "outputs": [],
   "source": [
    "cpairs = np.loadtxt('../../1_datasets/t4l/contact_pairs.txt', dtype=int)"
   ]
  },
  {
   "cell_type": "code",
   "execution_count": 53,
   "id": "a9cc44b9",
   "metadata": {},
   "outputs": [],
   "source": [
    "features = np.load('../../2_jctc_urf/traj_specific_data/features_0.npy')"
   ]
  },
  {
   "cell_type": "code",
   "execution_count": 56,
   "id": "fe4b2549",
   "metadata": {},
   "outputs": [],
   "source": [
    "labels = np.loadtxt('../../2_jctc_urf/traj_specific_data/distances0.xvg', comments=['@','#'], usecols=[3])\n",
    "labels[np.where(labels<0.6)[0]] = 0\n",
    "labels[np.where(labels != 0)[0]] = 1"
   ]
  },
  {
   "cell_type": "code",
   "execution_count": null,
   "id": "cc0585cb",
   "metadata": {},
   "outputs": [],
   "source": []
  },
  {
   "cell_type": "code",
   "execution_count": null,
   "id": "e3a7af87",
   "metadata": {},
   "outputs": [],
   "source": []
  },
  {
   "cell_type": "code",
   "execution_count": 17,
   "id": "00a605ea",
   "metadata": {},
   "outputs": [],
   "source": [
    "wtrunc_same = np.zeros((9,2))\n",
    "for h in range(2,11):\n",
    "\n",
    "    wp = []\n",
    "    \n",
    "    for i in range(len(randoms)):\n",
    "        f = fpermute[h-2,i]\n",
    "        f = np.cumsum(f[f.argsort()[::-1]])\n",
    "        f = np.gradient(f)\n",
    "        f = np.where(f<=0.0005)[0][0]\n",
    "        fp = ipermute[h-2,i][:f]\n",
    "        \n",
    "        for j in range(len(randoms)):\n",
    "            f = fsupervised[j]\n",
    "            f = np.cumsum(f[f.argsort()[::-1]])\n",
    "            f = np.gradient(f)\n",
    "            f = np.where(f<=0.0005)[0][0]\n",
    "            fs = isupervised[j][:f]\n",
    "            \n",
    "            cc = np.intersect1d(fp,fs)\n",
    "            wp.append( fpermute[h-2,i][cc].sum() / fpermute[h-2,i][fp].sum() )\n",
    "\n",
    "    wtrunc_same[h-2] = [np.mean(wp), np.std(wp)]\n"
   ]
  },
  {
   "cell_type": "code",
   "execution_count": 18,
   "id": "6305ccb0",
   "metadata": {},
   "outputs": [
    {
     "data": {
      "text/plain": [
       "array([[9.95367115e-01, 5.80169810e-04],\n",
       "       [9.95111318e-01, 6.80176607e-04],\n",
       "       [9.95149913e-01, 7.28754681e-04],\n",
       "       [9.95286762e-01, 6.29576519e-04],\n",
       "       [9.95291917e-01, 6.30135913e-04],\n",
       "       [9.95247013e-01, 7.83060285e-04],\n",
       "       [9.95260936e-01, 6.04544779e-04],\n",
       "       [9.95150029e-01, 5.23335244e-04],\n",
       "       [9.95148254e-01, 5.80803718e-04]])"
      ]
     },
     "execution_count": 18,
     "metadata": {},
     "output_type": "execute_result"
    }
   ],
   "source": [
    "wtrunc_same"
   ]
  },
  {
   "cell_type": "code",
   "execution_count": null,
   "id": "f81ccc05",
   "metadata": {},
   "outputs": [],
   "source": [
    "\n"
   ]
  },
  {
   "cell_type": "markdown",
   "id": "b7e954ee",
   "metadata": {},
   "source": [
    "### check is the top200 are important in literature (region wise and residue wise)"
   ]
  },
  {
   "cell_type": "code",
   "execution_count": null,
   "id": "c7cc2be8",
   "metadata": {},
   "outputs": [],
   "source": []
  },
  {
   "cell_type": "markdown",
   "id": "c5603c4e",
   "metadata": {},
   "source": [
    "## residue pairs"
   ]
  },
  {
   "cell_type": "code",
   "execution_count": 141,
   "id": "981f9739",
   "metadata": {},
   "outputs": [
    {
     "name": "stdout",
     "output_type": "stream",
     "text": [
      "0 223\n",
      "1 225\n",
      "2 224\n",
      "3 228\n",
      "4 227\n",
      "5 230\n",
      "6 222\n",
      "7 223\n",
      "8 225\n"
     ]
    }
   ],
   "source": [
    "for i in range(9):\n",
    "    print(i,np.unique(np.concatenate((ipermute[i,:,:200]))).shape[0])"
   ]
  },
  {
   "cell_type": "code",
   "execution_count": 142,
   "id": "cf3b247e",
   "metadata": {},
   "outputs": [
    {
     "name": "stdout",
     "output_type": "stream",
     "text": [
      "223\n",
      "218\n",
      "219\n",
      "218\n",
      "219\n",
      "222\n",
      "218\n",
      "218\n",
      "219\n"
     ]
    }
   ],
   "source": [
    "for i in range(9):\n",
    "    print( np.intersect1d( np.unique(np.concatenate((ipermute[0,:,:200]))), np.unique(np.concatenate((ipermute[i,:,:200]))) ).shape[0] )"
   ]
  },
  {
   "cell_type": "code",
   "execution_count": null,
   "id": "50cc3999",
   "metadata": {},
   "outputs": [],
   "source": []
  },
  {
   "cell_type": "markdown",
   "id": "2f9102de",
   "metadata": {},
   "source": [
    "### strict"
   ]
  },
  {
   "cell_type": "markdown",
   "id": "a50b1fcb",
   "metadata": {},
   "source": [
    "<font size=4>\n",
    "    in strict definition, a feature appearing in all 5 cross validated iteration is taken:"
   ]
  },
  {
   "cell_type": "code",
   "execution_count": 98,
   "id": "4ce887c3",
   "metadata": {},
   "outputs": [],
   "source": [
    "aa = np.concatenate((ipermute[1,:,:200]))\n",
    "all_pairs_permute = []\n",
    "for i in np.unique(aa):\n",
    "    if np.where(aa == i)[0].shape[0] == len(randoms):\n",
    "        all_pairs_permute.append(i)\n",
    "all_pairs_permute = np.array(all_pairs_permute)"
   ]
  },
  {
   "cell_type": "code",
   "execution_count": 99,
   "id": "51075549",
   "metadata": {},
   "outputs": [],
   "source": [
    "aa = np.concatenate((isupervised[:,:200]))\n",
    "all_pairs_supervised = []\n",
    "for i in np.unique(aa):\n",
    "    if np.where(aa == i)[0].shape[0] == len(randoms):\n",
    "        all_pairs_supervised.append(i)\n",
    "all_pairs_supervised = np.array(all_pairs_supervised)"
   ]
  },
  {
   "cell_type": "code",
   "execution_count": 100,
   "id": "91b698a3",
   "metadata": {},
   "outputs": [],
   "source": [
    "strict_common = np.intersect1d(all_pairs_permute, all_pairs_supervised)\n",
    "strict_permute = np.setdiff1d(all_pairs_permute, strict_common)\n",
    "strict_supervised = np.setdiff1d(all_pairs_supervised, strict_common)"
   ]
  },
  {
   "cell_type": "code",
   "execution_count": 102,
   "id": "de7974f2",
   "metadata": {},
   "outputs": [],
   "source": [
    "blabels = np.where(labels==0)[0]\n",
    "ulabels = np.where(labels == 1)[0]\n",
    "def update_pairdist(ids):\n",
    "    pairs = np.zeros((len(ids),3))\n",
    "    for i in range(len(ids)):\n",
    "        pairs[i][:2] = cpairs[ids[i]]+1\n",
    "        bf = features[:,ids[i]][blabels].mean()\n",
    "        uf = features[:,ids[i]][ulabels].mean()\n",
    "        pairs[i,2] = np.abs(bf-uf)\n",
    "    return pairs\n",
    "strict_common = update_pairdist(strict_common)\n",
    "strict_permute = update_pairdist(strict_permute)\n",
    "strict_supervised = update_pairdist(strict_supervised)"
   ]
  },
  {
   "cell_type": "code",
   "execution_count": 104,
   "id": "fc7f5d02",
   "metadata": {},
   "outputs": [],
   "source": [
    "all_diffs = np.concatenate((strict_common[:,2], strict_permute[:,2], strict_supervised[:,2]))\n",
    "maxi_diff = all_diffs.max()\n",
    "mini_diff = all_diffs.min()\n",
    "mini_radii = 0.1\n",
    "maxi_radii = 0.5\n",
    "def update_radii(ids):\n",
    "    for i in range(len(ids)):\n",
    "        ids[i,2] = (ids[i,2] - mini_diff) / maxi_diff\n",
    "        ids[i,2] = ids[i,2]*(maxi_radii-mini_radii) + mini_radii\n",
    "update_radii(strict_common)\n",
    "update_radii(strict_permute)\n",
    "update_radii(strict_supervised)"
   ]
  },
  {
   "cell_type": "code",
   "execution_count": 124,
   "id": "a9ea94f7",
   "metadata": {},
   "outputs": [],
   "source": [
    "np.savetxt('../2_features_strict/strict_common.txt', strict_common, fmt=['%4d', '%4d', '%8.4f'])\n",
    "np.savetxt('../2_features_strict/strict_permute.txt', strict_permute, fmt=['%4d', '%4d', '%8.4f'])\n",
    "np.savetxt('../2_features_strict/strict_supervised.txt', strict_supervised, fmt=['%4d', '%4d', '%8.4f'])"
   ]
  },
  {
   "cell_type": "code",
   "execution_count": null,
   "id": "c2ec86c6",
   "metadata": {},
   "outputs": [],
   "source": []
  },
  {
   "cell_type": "markdown",
   "id": "66a1cf93",
   "metadata": {},
   "source": [
    "### loose"
   ]
  },
  {
   "cell_type": "code",
   "execution_count": 125,
   "id": "7d984c80",
   "metadata": {},
   "outputs": [],
   "source": [
    "all_pairs_permute = np.unique(np.concatenate((ipermute[1:,:200])))\n",
    "all_pairs_supervised = np.unique(np.concatenate(isupervised[:,:200]))\n",
    "\n",
    "loose_common = np.intersect1d(all_pairs_permute, all_pairs_supervised)\n",
    "loose_permute = np.setdiff1d(all_pairs_permute, loose_common)\n",
    "loose_supervised = np.setdiff1d(all_pairs_supervised, loose_common)\n",
    "\n",
    "blabels = np.where(labels==0)[0]\n",
    "ulabels = np.where(labels == 1)[0]\n",
    "\n",
    "loose_common = update_pairdist(loose_common)\n",
    "loose_permute = update_pairdist(loose_permute)\n",
    "loose_supervised = update_pairdist(loose_supervised)\n",
    "\n",
    "all_diffs = np.concatenate((loose_common[:,2], loose_permute[:,2], loose_supervised[:,2]))\n",
    "maxi_diff = all_diffs.max()\n",
    "mini_diff = all_diffs.min()\n",
    "\n",
    "update_radii(loose_common)\n",
    "update_radii(loose_permute)\n",
    "update_radii(loose_supervised)"
   ]
  },
  {
   "cell_type": "code",
   "execution_count": 127,
   "id": "93f1892d",
   "metadata": {},
   "outputs": [],
   "source": [
    "np.savetxt('../3_features_loose/loose_common.txt', loose_common, fmt=['%4d', '%4d', '%8.4f'])\n",
    "np.savetxt('../3_features_loose/loose_permute.txt', loose_permute, fmt=['%4d', '%4d', '%8.4f'])\n",
    "np.savetxt('../3_features_loose/loose_supervised.txt', loose_supervised, fmt=['%4d', '%4d', '%8.4f'])"
   ]
  },
  {
   "cell_type": "code",
   "execution_count": null,
   "id": "c2eeef0f",
   "metadata": {},
   "outputs": [],
   "source": []
  },
  {
   "cell_type": "code",
   "execution_count": null,
   "id": "4268d8ce",
   "metadata": {},
   "outputs": [],
   "source": []
  },
  {
   "cell_type": "code",
   "execution_count": null,
   "id": "2e4c9010",
   "metadata": {},
   "outputs": [],
   "source": []
  }
 ],
 "metadata": {
  "kernelspec": {
   "display_name": "Python 3 (ipykernel)",
   "language": "python",
   "name": "python3"
  },
  "language_info": {
   "codemirror_mode": {
    "name": "ipython",
    "version": 3
   },
   "file_extension": ".py",
   "mimetype": "text/x-python",
   "name": "python",
   "nbconvert_exporter": "python",
   "pygments_lexer": "ipython3",
   "version": "3.9.12"
  }
 },
 "nbformat": 4,
 "nbformat_minor": 5
}
