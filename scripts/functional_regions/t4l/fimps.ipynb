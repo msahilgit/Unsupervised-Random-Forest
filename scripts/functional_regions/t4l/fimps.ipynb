{
 "cells": [
  {
   "cell_type": "code",
   "execution_count": 1,
   "id": "4ffd9685",
   "metadata": {},
   "outputs": [],
   "source": [
    "import numpy as np\n",
    "import matplotlib as mt\n",
    "import matplotlib.pyplot as plt"
   ]
  },
  {
   "cell_type": "code",
   "execution_count": null,
   "id": "28f2588d",
   "metadata": {},
   "outputs": [],
   "source": []
  },
  {
   "cell_type": "code",
   "execution_count": null,
   "id": "f4bdc97a",
   "metadata": {},
   "outputs": [],
   "source": []
  },
  {
   "cell_type": "code",
   "execution_count": 4,
   "id": "b0db4117",
   "metadata": {},
   "outputs": [],
   "source": [
    "rpairs = np.loadtxt('../../1_datasets/t4l/contact_pairs.txt', dtype=int)+1"
   ]
  },
  {
   "cell_type": "code",
   "execution_count": 6,
   "id": "c66120d6",
   "metadata": {},
   "outputs": [
    {
     "data": {
      "text/plain": [
       "(755, 2)"
      ]
     },
     "execution_count": 6,
     "metadata": {},
     "output_type": "execute_result"
    }
   ],
   "source": [
    "rpairs.shape"
   ]
  },
  {
   "cell_type": "code",
   "execution_count": 22,
   "id": "dbc9e0b1",
   "metadata": {},
   "outputs": [],
   "source": [
    "np.savetxt('all_contact.txt', rpairs, fmt='%d')"
   ]
  },
  {
   "cell_type": "code",
   "execution_count": null,
   "id": "97bc2a4f",
   "metadata": {},
   "outputs": [],
   "source": []
  },
  {
   "cell_type": "code",
   "execution_count": null,
   "id": "8a524cfc",
   "metadata": {},
   "outputs": [],
   "source": []
  },
  {
   "cell_type": "code",
   "execution_count": 37,
   "id": "63bfe736",
   "metadata": {},
   "outputs": [],
   "source": [
    "fimp = np.mean([np.load(f'../../2_jctc_urf/saved_furf/fimp_hlabel2_{i}.npy') for i in range(5)], axis=0)"
   ]
  },
  {
   "cell_type": "code",
   "execution_count": 38,
   "id": "d921a157",
   "metadata": {},
   "outputs": [],
   "source": [
    "indices = fimp.argsort()[::-1][:200]"
   ]
  },
  {
   "cell_type": "code",
   "execution_count": 39,
   "id": "76f3f3a6",
   "metadata": {},
   "outputs": [],
   "source": [
    "fimp = fimp[indices]"
   ]
  },
  {
   "cell_type": "code",
   "execution_count": 41,
   "id": "642c3eed",
   "metadata": {},
   "outputs": [],
   "source": [
    "fimp = (fimp-fimp.min()) / (fimp.max()-fimp.min())"
   ]
  },
  {
   "cell_type": "code",
   "execution_count": 42,
   "id": "f4ab3b06",
   "metadata": {},
   "outputs": [],
   "source": [
    "fimp = fimp * 0.5"
   ]
  },
  {
   "cell_type": "code",
   "execution_count": 44,
   "id": "25c147be",
   "metadata": {},
   "outputs": [],
   "source": [
    "np.savetxt('permute_hl2.txt', np.column_stack((rpairs[indices], fimp)), fmt=['%5d', '%5d', '%8.4f'])"
   ]
  },
  {
   "cell_type": "code",
   "execution_count": null,
   "id": "d6f70ea5",
   "metadata": {},
   "outputs": [],
   "source": []
  },
  {
   "cell_type": "code",
   "execution_count": null,
   "id": "c10dd899",
   "metadata": {},
   "outputs": [],
   "source": []
  },
  {
   "cell_type": "code",
   "execution_count": 54,
   "id": "6cce3a02",
   "metadata": {},
   "outputs": [],
   "source": [
    "fimp = np.mean([np.load(f'../../2_jctc_urf/saved_synthetic_random/fimp_hlabel2_{i}.npy') for i in range(5)], axis=0)"
   ]
  },
  {
   "cell_type": "code",
   "execution_count": 55,
   "id": "9cfce5ce",
   "metadata": {},
   "outputs": [],
   "source": [
    "indices = fimp.argsort()[::-1][:200]"
   ]
  },
  {
   "cell_type": "code",
   "execution_count": 56,
   "id": "938180d5",
   "metadata": {},
   "outputs": [],
   "source": [
    "fimp = fimp[indices]"
   ]
  },
  {
   "cell_type": "code",
   "execution_count": 57,
   "id": "a2be8f4b",
   "metadata": {},
   "outputs": [],
   "source": [
    "fimp = (fimp-fimp.min()) / (fimp.max()-fimp.min())"
   ]
  },
  {
   "cell_type": "code",
   "execution_count": 58,
   "id": "ef0a84c0",
   "metadata": {},
   "outputs": [],
   "source": [
    "fimp = fimp*0.5"
   ]
  },
  {
   "cell_type": "code",
   "execution_count": 59,
   "id": "4cc60add",
   "metadata": {},
   "outputs": [],
   "source": [
    "np.savetxt('random_hl2.txt', np.column_stack((rpairs[indices], fimp)), fmt=['%5d', '%5d', '%8.4f'])"
   ]
  },
  {
   "cell_type": "code",
   "execution_count": null,
   "id": "a4017ec3",
   "metadata": {},
   "outputs": [],
   "source": []
  },
  {
   "cell_type": "code",
   "execution_count": null,
   "id": "ef449bff",
   "metadata": {},
   "outputs": [],
   "source": []
  }
 ],
 "metadata": {
  "kernelspec": {
   "display_name": "Python 3 (ipykernel)",
   "language": "python",
   "name": "python3"
  },
  "language_info": {
   "codemirror_mode": {
    "name": "ipython",
    "version": 3
   },
   "file_extension": ".py",
   "mimetype": "text/x-python",
   "name": "python",
   "nbconvert_exporter": "python",
   "pygments_lexer": "ipython3",
   "version": "3.9.12"
  }
 },
 "nbformat": 4,
 "nbformat_minor": 5
}
