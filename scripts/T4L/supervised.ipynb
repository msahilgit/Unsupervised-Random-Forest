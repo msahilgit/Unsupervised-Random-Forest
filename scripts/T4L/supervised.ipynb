{
 "cells": [
  {
   "cell_type": "code",
   "execution_count": 1,
   "id": "87e0b654",
   "metadata": {},
   "outputs": [],
   "source": [
    "import numpy as np\n",
    "np.bool = np.bool_\n",
    "import copy as cp\n",
    "import sys\n",
    "import matplotlib as mt\n",
    "import matplotlib.pyplot as plt\n",
    "import pickle as pkl\n",
    "import sklearn as skl\n",
    "from sklearn.ensemble import RandomForestClassifier as rfc\n",
    "from sklearn.model_selection import train_test_split as splt\n",
    "from sklearn.metrics import accuracy_score as acc, confusion_matrix as cfm\n",
    "import scipy as sc\n",
    "import scipy.cluster as scc\n",
    "from tqdm import tqdm\n",
    "import time\n",
    "import pyemma\n",
    "import pyemma.coordinates as coor\n",
    "import pyemma.plots as mplt"
   ]
  },
  {
   "cell_type": "code",
   "execution_count": 2,
   "id": "72378513",
   "metadata": {},
   "outputs": [],
   "source": [
    "sys.path.append('../0_python_modules/')"
   ]
  },
  {
   "cell_type": "code",
   "execution_count": 3,
   "id": "f6f51b26",
   "metadata": {},
   "outputs": [],
   "source": [
    "import proximity_matrix as pmt\n",
    "import synthetic_data as syn\n",
    "import extras\n",
    "from navjeet_hist import hist_raw_data\n",
    "import navjeet_hist as nh"
   ]
  },
  {
   "cell_type": "code",
   "execution_count": null,
   "id": "154ae474",
   "metadata": {},
   "outputs": [],
   "source": []
  },
  {
   "cell_type": "code",
   "execution_count": 4,
   "id": "c4f5d376-bb0d-408d-b992-658600da5d46",
   "metadata": {},
   "outputs": [],
   "source": [
    "traj_data = [np.load(f'traj_specific_data/features_{i}.npy') for i in range(6)]"
   ]
  },
  {
   "cell_type": "code",
   "execution_count": 4,
   "id": "0f6e5b33-2f94-476c-b5c6-9b61acadcb7f",
   "metadata": {},
   "outputs": [],
   "source": [
    "dists = [np.loadtxt(f'traj_specific_data/distances{i}.xvg', comments=['@','#'], usecols=[3]) for i in [0,4,3]]"
   ]
  },
  {
   "cell_type": "code",
   "execution_count": 5,
   "id": "b69ac5de",
   "metadata": {},
   "outputs": [],
   "source": [
    "randoms = np.loadtxt('../1_datasets/randoms.txt', dtype=int)"
   ]
  },
  {
   "cell_type": "code",
   "execution_count": 66,
   "id": "77ebc915",
   "metadata": {
    "collapsed": true
   },
   "outputs": [
    {
     "name": "stderr",
     "output_type": "stream",
     "text": [
      "/home/msahil/softwares/miniconda3/lib/python3.9/site-packages/decorator.py:232: PyEMMA_DeprecationWarning: Call to deprecated function \"tica\". Called from /home/msahil/softwares/miniconda3/lib/python3.9/site-packages/decorator.py line 232. Use deeptime.decomposition.TICA instead.\n",
      "  return caller(func, *(extras + args), **kw)\n"
     ]
    },
    {
     "data": {
      "application/json": {
       "ascii": false,
       "bar_format": null,
       "colour": null,
       "elapsed": 0.004338264465332031,
       "initial": 0,
       "n": 0,
       "ncols": 158,
       "nrows": 36,
       "postfix": null,
       "prefix": "calculate covariances",
       "rate": null,
       "total": 11,
       "unit": "it",
       "unit_divisor": 1000,
       "unit_scale": false
      },
      "application/vnd.jupyter.widget-view+json": {
       "model_id": "",
       "version_major": 2,
       "version_minor": 0
      },
      "text/plain": [
       "calculate covariances:   0%|                                                                                  …"
      ]
     },
     "metadata": {},
     "output_type": "display_data"
    },
    {
     "data": {
      "application/json": {
       "ascii": false,
       "bar_format": null,
       "colour": null,
       "elapsed": 0.004828453063964844,
       "initial": 0,
       "n": 0,
       "ncols": 158,
       "nrows": 36,
       "postfix": null,
       "prefix": "getting output of TICA",
       "rate": null,
       "total": 11,
       "unit": "it",
       "unit_divisor": 1000,
       "unit_scale": false
      },
      "application/vnd.jupyter.widget-view+json": {
       "model_id": "",
       "version_major": 2,
       "version_minor": 0
      },
      "text/plain": [
       "getting output of TICA:   0%|                                                                                 …"
      ]
     },
     "metadata": {},
     "output_type": "display_data"
    },
    {
     "name": "stderr",
     "output_type": "stream",
     "text": [
      "/home/msahil/unsupervised_random_forest/2_jctc_urf/../0_python_modules/navjeet_hist.py:169: RuntimeWarning: invalid value encountered in divide\n",
      "  fraction = np.divide(fraction, norm)\n",
      "/home/msahil/softwares/miniconda3/lib/python3.9/site-packages/decorator.py:232: PyEMMA_DeprecationWarning: Call to deprecated function \"tica\". Called from /home/msahil/softwares/miniconda3/lib/python3.9/site-packages/decorator.py line 232. Use deeptime.decomposition.TICA instead.\n",
      "  return caller(func, *(extras + args), **kw)\n"
     ]
    },
    {
     "data": {
      "application/json": {
       "ascii": false,
       "bar_format": null,
       "colour": null,
       "elapsed": 0.004041194915771484,
       "initial": 0,
       "n": 0,
       "ncols": 158,
       "nrows": 36,
       "postfix": null,
       "prefix": "calculate covariances",
       "rate": null,
       "total": 11,
       "unit": "it",
       "unit_divisor": 1000,
       "unit_scale": false
      },
      "application/vnd.jupyter.widget-view+json": {
       "model_id": "",
       "version_major": 2,
       "version_minor": 0
      },
      "text/plain": [
       "calculate covariances:   0%|                                                                                  …"
      ]
     },
     "metadata": {},
     "output_type": "display_data"
    },
    {
     "data": {
      "application/json": {
       "ascii": false,
       "bar_format": null,
       "colour": null,
       "elapsed": 0.025373220443725586,
       "initial": 0,
       "n": 0,
       "ncols": 158,
       "nrows": 36,
       "postfix": null,
       "prefix": "getting output of TICA",
       "rate": null,
       "total": 11,
       "unit": "it",
       "unit_divisor": 1000,
       "unit_scale": false
      },
      "application/vnd.jupyter.widget-view+json": {
       "model_id": "",
       "version_major": 2,
       "version_minor": 0
      },
      "text/plain": [
       "getting output of TICA:   0%|                                                                                 …"
      ]
     },
     "metadata": {},
     "output_type": "display_data"
    },
    {
     "name": "stderr",
     "output_type": "stream",
     "text": [
      "/home/msahil/unsupervised_random_forest/2_jctc_urf/../0_python_modules/navjeet_hist.py:169: RuntimeWarning: invalid value encountered in divide\n",
      "  fraction = np.divide(fraction, norm)\n",
      "/home/msahil/softwares/miniconda3/lib/python3.9/site-packages/decorator.py:232: PyEMMA_DeprecationWarning: Call to deprecated function \"tica\". Called from /home/msahil/softwares/miniconda3/lib/python3.9/site-packages/decorator.py line 232. Use deeptime.decomposition.TICA instead.\n",
      "  return caller(func, *(extras + args), **kw)\n"
     ]
    },
    {
     "data": {
      "application/json": {
       "ascii": false,
       "bar_format": null,
       "colour": null,
       "elapsed": 0.008665323257446289,
       "initial": 0,
       "n": 0,
       "ncols": 158,
       "nrows": 36,
       "postfix": null,
       "prefix": "calculate covariances",
       "rate": null,
       "total": 11,
       "unit": "it",
       "unit_divisor": 1000,
       "unit_scale": false
      },
      "application/vnd.jupyter.widget-view+json": {
       "model_id": "",
       "version_major": 2,
       "version_minor": 0
      },
      "text/plain": [
       "calculate covariances:   0%|                                                                                  …"
      ]
     },
     "metadata": {},
     "output_type": "display_data"
    },
    {
     "data": {
      "application/json": {
       "ascii": false,
       "bar_format": null,
       "colour": null,
       "elapsed": 0.0037720203399658203,
       "initial": 0,
       "n": 0,
       "ncols": 158,
       "nrows": 36,
       "postfix": null,
       "prefix": "getting output of TICA",
       "rate": null,
       "total": 11,
       "unit": "it",
       "unit_divisor": 1000,
       "unit_scale": false
      },
      "application/vnd.jupyter.widget-view+json": {
       "model_id": "",
       "version_major": 2,
       "version_minor": 0
      },
      "text/plain": [
       "getting output of TICA:   0%|                                                                                 …"
      ]
     },
     "metadata": {},
     "output_type": "display_data"
    },
    {
     "name": "stderr",
     "output_type": "stream",
     "text": [
      "/home/msahil/unsupervised_random_forest/2_jctc_urf/../0_python_modules/navjeet_hist.py:169: RuntimeWarning: invalid value encountered in divide\n",
      "  fraction = np.divide(fraction, norm)\n",
      "/home/msahil/softwares/miniconda3/lib/python3.9/site-packages/decorator.py:232: PyEMMA_DeprecationWarning: Call to deprecated function \"tica\". Called from /home/msahil/softwares/miniconda3/lib/python3.9/site-packages/decorator.py line 232. Use deeptime.decomposition.TICA instead.\n",
      "  return caller(func, *(extras + args), **kw)\n"
     ]
    },
    {
     "data": {
      "application/json": {
       "ascii": false,
       "bar_format": null,
       "colour": null,
       "elapsed": 0.0035359859466552734,
       "initial": 0,
       "n": 0,
       "ncols": 158,
       "nrows": 36,
       "postfix": null,
       "prefix": "calculate covariances",
       "rate": null,
       "total": 11,
       "unit": "it",
       "unit_divisor": 1000,
       "unit_scale": false
      },
      "application/vnd.jupyter.widget-view+json": {
       "model_id": "",
       "version_major": 2,
       "version_minor": 0
      },
      "text/plain": [
       "calculate covariances:   0%|                                                                                  …"
      ]
     },
     "metadata": {},
     "output_type": "display_data"
    },
    {
     "data": {
      "application/json": {
       "ascii": false,
       "bar_format": null,
       "colour": null,
       "elapsed": 0.024381160736083984,
       "initial": 0,
       "n": 0,
       "ncols": 158,
       "nrows": 36,
       "postfix": null,
       "prefix": "getting output of TICA",
       "rate": null,
       "total": 11,
       "unit": "it",
       "unit_divisor": 1000,
       "unit_scale": false
      },
      "application/vnd.jupyter.widget-view+json": {
       "model_id": "",
       "version_major": 2,
       "version_minor": 0
      },
      "text/plain": [
       "getting output of TICA:   0%|                                                                                 …"
      ]
     },
     "metadata": {},
     "output_type": "display_data"
    },
    {
     "name": "stderr",
     "output_type": "stream",
     "text": [
      "/home/msahil/unsupervised_random_forest/2_jctc_urf/../0_python_modules/navjeet_hist.py:169: RuntimeWarning: invalid value encountered in divide\n",
      "  fraction = np.divide(fraction, norm)\n",
      "/home/msahil/softwares/miniconda3/lib/python3.9/site-packages/decorator.py:232: PyEMMA_DeprecationWarning: Call to deprecated function \"tica\". Called from /home/msahil/softwares/miniconda3/lib/python3.9/site-packages/decorator.py line 232. Use deeptime.decomposition.TICA instead.\n",
      "  return caller(func, *(extras + args), **kw)\n"
     ]
    },
    {
     "data": {
      "application/json": {
       "ascii": false,
       "bar_format": null,
       "colour": null,
       "elapsed": 0.0037953853607177734,
       "initial": 0,
       "n": 0,
       "ncols": 158,
       "nrows": 36,
       "postfix": null,
       "prefix": "calculate covariances",
       "rate": null,
       "total": 11,
       "unit": "it",
       "unit_divisor": 1000,
       "unit_scale": false
      },
      "application/vnd.jupyter.widget-view+json": {
       "model_id": "",
       "version_major": 2,
       "version_minor": 0
      },
      "text/plain": [
       "calculate covariances:   0%|                                                                                  …"
      ]
     },
     "metadata": {},
     "output_type": "display_data"
    },
    {
     "data": {
      "application/json": {
       "ascii": false,
       "bar_format": null,
       "colour": null,
       "elapsed": 0.02442002296447754,
       "initial": 0,
       "n": 0,
       "ncols": 158,
       "nrows": 36,
       "postfix": null,
       "prefix": "getting output of TICA",
       "rate": null,
       "total": 11,
       "unit": "it",
       "unit_divisor": 1000,
       "unit_scale": false
      },
      "application/vnd.jupyter.widget-view+json": {
       "model_id": "",
       "version_major": 2,
       "version_minor": 0
      },
      "text/plain": [
       "getting output of TICA:   0%|                                                                                 …"
      ]
     },
     "metadata": {},
     "output_type": "display_data"
    },
    {
     "name": "stderr",
     "output_type": "stream",
     "text": [
      "/home/msahil/unsupervised_random_forest/2_jctc_urf/../0_python_modules/navjeet_hist.py:169: RuntimeWarning: invalid value encountered in divide\n",
      "  fraction = np.divide(fraction, norm)\n"
     ]
    }
   ],
   "source": [
    "for i in range(len(randoms)):\n",
    "    fimp_ = np.load(f'saved_supervised/fimp_supervised_{i}.npy')\n",
    "    top200 = fimp_.argsort()[::-1][:200]\n",
    "    \n",
    "    tic2 = [traj_data[j][:,top200] for j in range(6)]\n",
    "    tic2 = coor.tica(tic2, lag=100, dim=2).get_output()\n",
    "    tic2 = [tic2[0], tic2[4], tic2[3]]\n",
    "    \n",
    "    extents_ = np.zeros((len(dists),4))\n",
    "    hists_ = []\n",
    "    for j in range(len(dists)):\n",
    "        hh = nh.hist_range(tic2[j], dists[j], mini=0, maxi=0.6,)\n",
    "        extents_[j] = np.array(hh[:4])\n",
    "        hists_.append(hh[4])\n",
    "        \n",
    "    np.save(f'saved_supervised/extents_{i}.npy', extents_)\n",
    "    np.save(f'saved_supervised/hists_{i}.npy', hists_)\n",
    "    \n",
    "    globals()[f'hists_{i}'] = hists_\n",
    "    globals()[f'extents_{i}'] = extents_"
   ]
  },
  {
   "cell_type": "code",
   "execution_count": null,
   "id": "de823332",
   "metadata": {},
   "outputs": [],
   "source": []
  },
  {
   "cell_type": "code",
   "execution_count": 73,
   "id": "57a5f251",
   "metadata": {},
   "outputs": [],
   "source": [
    "classification_extent = np.zeros((len(randoms), len(dists)))\n",
    "\n",
    "weight = [ np.where(dists[i] < 0.6)[0].shape[0] / dists[i].shape[0] for i in range(len(dists)) ]\n",
    "\n",
    "for i in range(len(randoms)):\n",
    "    hists_ = eval(f'hists_{i}')\n",
    "    \n",
    "    for j in range(len(dists)):\n",
    "        classification_extent[i,j] = nh.classification_extent( hists_[j], \n",
    "                                                             output_type='jm', operation=2, \n",
    "                                                              jm_lower=weight[j], jm_impure=weight[j])"
   ]
  },
  {
   "cell_type": "code",
   "execution_count": 75,
   "id": "8c9b6a08",
   "metadata": {},
   "outputs": [],
   "source": [
    "np.savetxt('saved_supervised/classification_extent.txt', classification_extent)"
   ]
  },
  {
   "cell_type": "code",
   "execution_count": 74,
   "id": "b78f5010",
   "metadata": {},
   "outputs": [
    {
     "data": {
      "text/plain": [
       "array([[0.97649387, 0.95091814, 0.88081949],\n",
       "       [0.97435279, 0.94261459, 0.89773796],\n",
       "       [0.97561642, 0.95308414, 0.8906416 ],\n",
       "       [0.9736433 , 0.94756408, 0.8884106 ],\n",
       "       [0.97268875, 0.95082095, 0.89892545]])"
      ]
     },
     "execution_count": 74,
     "metadata": {},
     "output_type": "execute_result"
    }
   ],
   "source": [
    "classification_extent"
   ]
  },
  {
   "cell_type": "code",
   "execution_count": null,
   "id": "5ef13cb1",
   "metadata": {},
   "outputs": [],
   "source": []
  },
  {
   "cell_type": "code",
   "execution_count": null,
   "id": "e5d5e9ec",
   "metadata": {},
   "outputs": [],
   "source": []
  },
  {
   "cell_type": "code",
   "execution_count": null,
   "id": "44df3387",
   "metadata": {},
   "outputs": [],
   "source": []
  },
  {
   "cell_type": "code",
   "execution_count": 72,
   "id": "ee2f25f6-3ed9-4239-8a4b-b5f9a9fd20c3",
   "metadata": {},
   "outputs": [
    {
     "data": {
      "text/plain": [
       "<matplotlib.image.AxesImage at 0x7fbd1a68c100>"
      ]
     },
     "execution_count": 72,
     "metadata": {},
     "output_type": "execute_result"
    },
    {
     "data": {
      "image/png": "[encoded data removed]",
      "text/plain": [
       "<Figure size 640x480 with 1 Axes>"
      ]
     },
     "metadata": {},
     "output_type": "display_data"
    }
   ],
   "source": [
    "plt.imshow(hists_3[1].T, vmin=0, vmax=1, cmap='jet', origin='lower', aspect='auto', interpolation='gaussian',)"
   ]
  },
  {
   "cell_type": "code",
   "execution_count": null,
   "id": "50f57fcf",
   "metadata": {},
   "outputs": [],
   "source": []
  },
  {
   "cell_type": "code",
   "execution_count": 62,
   "id": "c20d250b",
   "metadata": {},
   "outputs": [
    {
     "data": {
      "text/plain": [
       "0.976441161030983"
      ]
     },
     "execution_count": 62,
     "metadata": {},
     "output_type": "execute_result"
    }
   ],
   "source": [
    "nh.classification_extent(hh[4], output_type='jm', operation=2, jm_lower=0.066, jm_impure=0.066)"
   ]
  },
  {
   "cell_type": "code",
   "execution_count": null,
   "id": "1fdc0ac4",
   "metadata": {},
   "outputs": [],
   "source": []
  },
  {
   "cell_type": "code",
   "execution_count": null,
   "id": "cf7d38e4",
   "metadata": {},
   "outputs": [],
   "source": []
  },
  {
   "cell_type": "code",
   "execution_count": null,
   "id": "836fea58",
   "metadata": {},
   "outputs": [],
   "source": []
  },
  {
   "cell_type": "code",
   "execution_count": null,
   "id": "9e52df11",
   "metadata": {},
   "outputs": [],
   "source": []
  },
  {
   "cell_type": "code",
   "execution_count": 10,
   "id": "82ee18b3",
   "metadata": {},
   "outputs": [],
   "source": [
    "impures = np.arange(0.01,1,0.01)\n",
    "classification_extent = np.zeros((len(impures), len(randoms), len(dists)))\n",
    "\n",
    "weight = [ np.where(dists[i] < 0.6)[0].shape[0] / dists[i].shape[0] for i in range(len(dists)) ]\n",
    "\n",
    "for i in range(len(randoms)):\n",
    "#     hists_ = eval(f'hists_{i}')\n",
    "    hists_ = np.load(f'saved_supervised/hists_{i}.npy')\n",
    "    \n",
    "    for j in range(len(dists)):\n",
    "        \n",
    "        for im in range(len(impures)):\n",
    "            \n",
    "            classification_extent[im,i,j] = nh.classification_extent( hists_[j], \n",
    "                                                                 output_type='jm', operation=1, \n",
    "                                                                  jm_lower=weight[j], jm_impure=impures[im])"
   ]
  },
  {
   "cell_type": "code",
   "execution_count": 12,
   "id": "396a4c2f",
   "metadata": {},
   "outputs": [
    {
     "data": {
      "text/plain": [
       "[<matplotlib.lines.Line2D at 0x7f8f589183a0>]"
      ]
     },
     "execution_count": 12,
     "metadata": {},
     "output_type": "execute_result"
    },
    {
     "data": {
      "image/png": "[encoded data removed]",
      "text/plain": [
       "<Figure size 640x480 with 1 Axes>"
      ]
     },
     "metadata": {},
     "output_type": "display_data"
    }
   ],
   "source": [
    "plt.plot(impures, classification_extent[:,0,0])\n",
    "plt.plot(impures, classification_extent[:,0,1])\n",
    "plt.plot(impures, classification_extent[:,0,2])"
   ]
  },
  {
   "cell_type": "code",
   "execution_count": 9,
   "id": "84a2f0ba",
   "metadata": {},
   "outputs": [],
   "source": [
    "nh.classification_extent?"
   ]
  },
  {
   "cell_type": "code",
   "execution_count": null,
   "id": "f905f2b6",
   "metadata": {},
   "outputs": [],
   "source": []
  }
 ],
 "metadata": {
  "kernelspec": {
   "display_name": "Python 3 (ipykernel)",
   "language": "python",
   "name": "python3"
  },
  "language_info": {
   "codemirror_mode": {
    "name": "ipython",
    "version": 3
   },
   "file_extension": ".py",
   "mimetype": "text/x-python",
   "name": "python",
   "nbconvert_exporter": "python",
   "pygments_lexer": "ipython3",
   "version": "3.9.12"
  }
 },
 "nbformat": 4,
 "nbformat_minor": 5
}
